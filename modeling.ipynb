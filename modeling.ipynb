{
  "nbformat": 4,
  "nbformat_minor": 0,
  "metadata": {
    "kernelspec": {
      "display_name": "Python 3",
      "language": "python",
      "name": "python3"
    },
    "language_info": {
      "codemirror_mode": {
        "name": "ipython",
        "version": 3
      },
      "file_extension": ".py",
      "mimetype": "text/x-python",
      "name": "python",
      "nbconvert_exporter": "python",
      "pygments_lexer": "ipython3",
      "version": "3.7.3"
    },
    "colab": {
      "name": "DataCleaning.ipynb",
      "provenance": [],
      "collapsed_sections": []
    },
    "accelerator": "GPU",
    "widgets": {
      "application/vnd.jupyter.widget-state+json": {
        "9d2bac75b31142a5859b42ce548fa755": {
          "model_module": "@jupyter-widgets/controls",
          "model_name": "HBoxModel",
          "state": {
            "_view_name": "HBoxView",
            "_dom_classes": [],
            "_model_name": "HBoxModel",
            "_view_module": "@jupyter-widgets/controls",
            "_model_module_version": "1.5.0",
            "_view_count": null,
            "_view_module_version": "1.5.0",
            "box_style": "",
            "layout": "IPY_MODEL_58f485e557094202a72ee463ffb01773",
            "_model_module": "@jupyter-widgets/controls",
            "children": [
              "IPY_MODEL_d78d35d2157440af8f8d788acbfd5cf7",
              "IPY_MODEL_240643604f7b4080afb8e8b6d7c9e32a"
            ]
          }
        },
        "58f485e557094202a72ee463ffb01773": {
          "model_module": "@jupyter-widgets/base",
          "model_name": "LayoutModel",
          "state": {
            "_view_name": "LayoutView",
            "grid_template_rows": null,
            "right": null,
            "justify_content": null,
            "_view_module": "@jupyter-widgets/base",
            "overflow": null,
            "_model_module_version": "1.2.0",
            "_view_count": null,
            "flex_flow": null,
            "width": null,
            "min_width": null,
            "border": null,
            "align_items": null,
            "bottom": null,
            "_model_module": "@jupyter-widgets/base",
            "top": null,
            "grid_column": null,
            "overflow_y": null,
            "overflow_x": null,
            "grid_auto_flow": null,
            "grid_area": null,
            "grid_template_columns": null,
            "flex": null,
            "_model_name": "LayoutModel",
            "justify_items": null,
            "grid_row": null,
            "max_height": null,
            "align_content": null,
            "visibility": null,
            "align_self": null,
            "height": null,
            "min_height": null,
            "padding": null,
            "grid_auto_rows": null,
            "grid_gap": null,
            "max_width": null,
            "order": null,
            "_view_module_version": "1.2.0",
            "grid_template_areas": null,
            "object_position": null,
            "object_fit": null,
            "grid_auto_columns": null,
            "margin": null,
            "display": null,
            "left": null
          }
        },
        "d78d35d2157440af8f8d788acbfd5cf7": {
          "model_module": "@jupyter-widgets/controls",
          "model_name": "FloatProgressModel",
          "state": {
            "_view_name": "ProgressView",
            "style": "IPY_MODEL_a318650dc8e34b1bb617b139cf6d2b42",
            "_dom_classes": [],
            "description": "100%",
            "_model_name": "FloatProgressModel",
            "bar_style": "",
            "max": 100,
            "_view_module": "@jupyter-widgets/controls",
            "_model_module_version": "1.5.0",
            "value": 100,
            "_view_count": null,
            "_view_module_version": "1.5.0",
            "orientation": "horizontal",
            "min": 0,
            "description_tooltip": null,
            "_model_module": "@jupyter-widgets/controls",
            "layout": "IPY_MODEL_e8c219281d3e4c4793db8477ecae1223"
          }
        },
        "240643604f7b4080afb8e8b6d7c9e32a": {
          "model_module": "@jupyter-widgets/controls",
          "model_name": "HTMLModel",
          "state": {
            "_view_name": "HTMLView",
            "style": "IPY_MODEL_65376a068af94c118553eaf489bcf443",
            "_dom_classes": [],
            "description": "",
            "_model_name": "HTMLModel",
            "placeholder": "​",
            "_view_module": "@jupyter-widgets/controls",
            "_model_module_version": "1.5.0",
            "value": " 100/100 [00:13&lt;00:00,  7.84it/s]",
            "_view_count": null,
            "_view_module_version": "1.5.0",
            "description_tooltip": null,
            "_model_module": "@jupyter-widgets/controls",
            "layout": "IPY_MODEL_771a6c414933420e90b73ce93f9af0f2"
          }
        },
        "a318650dc8e34b1bb617b139cf6d2b42": {
          "model_module": "@jupyter-widgets/controls",
          "model_name": "ProgressStyleModel",
          "state": {
            "_view_name": "StyleView",
            "_model_name": "ProgressStyleModel",
            "description_width": "initial",
            "_view_module": "@jupyter-widgets/base",
            "_model_module_version": "1.5.0",
            "_view_count": null,
            "_view_module_version": "1.2.0",
            "bar_color": null,
            "_model_module": "@jupyter-widgets/controls"
          }
        },
        "e8c219281d3e4c4793db8477ecae1223": {
          "model_module": "@jupyter-widgets/base",
          "model_name": "LayoutModel",
          "state": {
            "_view_name": "LayoutView",
            "grid_template_rows": null,
            "right": null,
            "justify_content": null,
            "_view_module": "@jupyter-widgets/base",
            "overflow": null,
            "_model_module_version": "1.2.0",
            "_view_count": null,
            "flex_flow": null,
            "width": null,
            "min_width": null,
            "border": null,
            "align_items": null,
            "bottom": null,
            "_model_module": "@jupyter-widgets/base",
            "top": null,
            "grid_column": null,
            "overflow_y": null,
            "overflow_x": null,
            "grid_auto_flow": null,
            "grid_area": null,
            "grid_template_columns": null,
            "flex": null,
            "_model_name": "LayoutModel",
            "justify_items": null,
            "grid_row": null,
            "max_height": null,
            "align_content": null,
            "visibility": null,
            "align_self": null,
            "height": null,
            "min_height": null,
            "padding": null,
            "grid_auto_rows": null,
            "grid_gap": null,
            "max_width": null,
            "order": null,
            "_view_module_version": "1.2.0",
            "grid_template_areas": null,
            "object_position": null,
            "object_fit": null,
            "grid_auto_columns": null,
            "margin": null,
            "display": null,
            "left": null
          }
        },
        "65376a068af94c118553eaf489bcf443": {
          "model_module": "@jupyter-widgets/controls",
          "model_name": "DescriptionStyleModel",
          "state": {
            "_view_name": "StyleView",
            "_model_name": "DescriptionStyleModel",
            "description_width": "",
            "_view_module": "@jupyter-widgets/base",
            "_model_module_version": "1.5.0",
            "_view_count": null,
            "_view_module_version": "1.2.0",
            "_model_module": "@jupyter-widgets/controls"
          }
        },
        "771a6c414933420e90b73ce93f9af0f2": {
          "model_module": "@jupyter-widgets/base",
          "model_name": "LayoutModel",
          "state": {
            "_view_name": "LayoutView",
            "grid_template_rows": null,
            "right": null,
            "justify_content": null,
            "_view_module": "@jupyter-widgets/base",
            "overflow": null,
            "_model_module_version": "1.2.0",
            "_view_count": null,
            "flex_flow": null,
            "width": null,
            "min_width": null,
            "border": null,
            "align_items": null,
            "bottom": null,
            "_model_module": "@jupyter-widgets/base",
            "top": null,
            "grid_column": null,
            "overflow_y": null,
            "overflow_x": null,
            "grid_auto_flow": null,
            "grid_area": null,
            "grid_template_columns": null,
            "flex": null,
            "_model_name": "LayoutModel",
            "justify_items": null,
            "grid_row": null,
            "max_height": null,
            "align_content": null,
            "visibility": null,
            "align_self": null,
            "height": null,
            "min_height": null,
            "padding": null,
            "grid_auto_rows": null,
            "grid_gap": null,
            "max_width": null,
            "order": null,
            "_view_module_version": "1.2.0",
            "grid_template_areas": null,
            "object_position": null,
            "object_fit": null,
            "grid_auto_columns": null,
            "margin": null,
            "display": null,
            "left": null
          }
        },
        "a9665f0b454042b99ae167767a4fcdb6": {
          "model_module": "@jupyter-widgets/controls",
          "model_name": "HBoxModel",
          "state": {
            "_view_name": "HBoxView",
            "_dom_classes": [],
            "_model_name": "HBoxModel",
            "_view_module": "@jupyter-widgets/controls",
            "_model_module_version": "1.5.0",
            "_view_count": null,
            "_view_module_version": "1.5.0",
            "box_style": "",
            "layout": "IPY_MODEL_05740e6c04034cc19b3ca5d6eb021a4a",
            "_model_module": "@jupyter-widgets/controls",
            "children": [
              "IPY_MODEL_f6a2bd4bc41243a586ee51cbef3e99e8",
              "IPY_MODEL_872c1854417749cb95d6aba956f77e5f"
            ]
          }
        },
        "05740e6c04034cc19b3ca5d6eb021a4a": {
          "model_module": "@jupyter-widgets/base",
          "model_name": "LayoutModel",
          "state": {
            "_view_name": "LayoutView",
            "grid_template_rows": null,
            "right": null,
            "justify_content": null,
            "_view_module": "@jupyter-widgets/base",
            "overflow": null,
            "_model_module_version": "1.2.0",
            "_view_count": null,
            "flex_flow": null,
            "width": null,
            "min_width": null,
            "border": null,
            "align_items": null,
            "bottom": null,
            "_model_module": "@jupyter-widgets/base",
            "top": null,
            "grid_column": null,
            "overflow_y": null,
            "overflow_x": null,
            "grid_auto_flow": null,
            "grid_area": null,
            "grid_template_columns": null,
            "flex": null,
            "_model_name": "LayoutModel",
            "justify_items": null,
            "grid_row": null,
            "max_height": null,
            "align_content": null,
            "visibility": null,
            "align_self": null,
            "height": null,
            "min_height": null,
            "padding": null,
            "grid_auto_rows": null,
            "grid_gap": null,
            "max_width": null,
            "order": null,
            "_view_module_version": "1.2.0",
            "grid_template_areas": null,
            "object_position": null,
            "object_fit": null,
            "grid_auto_columns": null,
            "margin": null,
            "display": null,
            "left": null
          }
        },
        "f6a2bd4bc41243a586ee51cbef3e99e8": {
          "model_module": "@jupyter-widgets/controls",
          "model_name": "FloatProgressModel",
          "state": {
            "_view_name": "ProgressView",
            "style": "IPY_MODEL_567ca32ab367426999c6e770dcb1d88b",
            "_dom_classes": [],
            "description": "100%",
            "_model_name": "FloatProgressModel",
            "bar_style": "",
            "max": 100,
            "_view_module": "@jupyter-widgets/controls",
            "_model_module_version": "1.5.0",
            "value": 100,
            "_view_count": null,
            "_view_module_version": "1.5.0",
            "orientation": "horizontal",
            "min": 0,
            "description_tooltip": null,
            "_model_module": "@jupyter-widgets/controls",
            "layout": "IPY_MODEL_00df7c991a3f4543b024e5011b96424a"
          }
        },
        "872c1854417749cb95d6aba956f77e5f": {
          "model_module": "@jupyter-widgets/controls",
          "model_name": "HTMLModel",
          "state": {
            "_view_name": "HTMLView",
            "style": "IPY_MODEL_57fb9b70a4c646c3a080adfdd9c5a6e2",
            "_dom_classes": [],
            "description": "",
            "_model_name": "HTMLModel",
            "placeholder": "​",
            "_view_module": "@jupyter-widgets/controls",
            "_model_module_version": "1.5.0",
            "value": " 100/100 [00:13&lt;00:00,  7.82it/s]",
            "_view_count": null,
            "_view_module_version": "1.5.0",
            "description_tooltip": null,
            "_model_module": "@jupyter-widgets/controls",
            "layout": "IPY_MODEL_8d2dc5224b93460f8c72ad34390e98df"
          }
        },
        "567ca32ab367426999c6e770dcb1d88b": {
          "model_module": "@jupyter-widgets/controls",
          "model_name": "ProgressStyleModel",
          "state": {
            "_view_name": "StyleView",
            "_model_name": "ProgressStyleModel",
            "description_width": "initial",
            "_view_module": "@jupyter-widgets/base",
            "_model_module_version": "1.5.0",
            "_view_count": null,
            "_view_module_version": "1.2.0",
            "bar_color": null,
            "_model_module": "@jupyter-widgets/controls"
          }
        },
        "00df7c991a3f4543b024e5011b96424a": {
          "model_module": "@jupyter-widgets/base",
          "model_name": "LayoutModel",
          "state": {
            "_view_name": "LayoutView",
            "grid_template_rows": null,
            "right": null,
            "justify_content": null,
            "_view_module": "@jupyter-widgets/base",
            "overflow": null,
            "_model_module_version": "1.2.0",
            "_view_count": null,
            "flex_flow": null,
            "width": null,
            "min_width": null,
            "border": null,
            "align_items": null,
            "bottom": null,
            "_model_module": "@jupyter-widgets/base",
            "top": null,
            "grid_column": null,
            "overflow_y": null,
            "overflow_x": null,
            "grid_auto_flow": null,
            "grid_area": null,
            "grid_template_columns": null,
            "flex": null,
            "_model_name": "LayoutModel",
            "justify_items": null,
            "grid_row": null,
            "max_height": null,
            "align_content": null,
            "visibility": null,
            "align_self": null,
            "height": null,
            "min_height": null,
            "padding": null,
            "grid_auto_rows": null,
            "grid_gap": null,
            "max_width": null,
            "order": null,
            "_view_module_version": "1.2.0",
            "grid_template_areas": null,
            "object_position": null,
            "object_fit": null,
            "grid_auto_columns": null,
            "margin": null,
            "display": null,
            "left": null
          }
        },
        "57fb9b70a4c646c3a080adfdd9c5a6e2": {
          "model_module": "@jupyter-widgets/controls",
          "model_name": "DescriptionStyleModel",
          "state": {
            "_view_name": "StyleView",
            "_model_name": "DescriptionStyleModel",
            "description_width": "",
            "_view_module": "@jupyter-widgets/base",
            "_model_module_version": "1.5.0",
            "_view_count": null,
            "_view_module_version": "1.2.0",
            "_model_module": "@jupyter-widgets/controls"
          }
        },
        "8d2dc5224b93460f8c72ad34390e98df": {
          "model_module": "@jupyter-widgets/base",
          "model_name": "LayoutModel",
          "state": {
            "_view_name": "LayoutView",
            "grid_template_rows": null,
            "right": null,
            "justify_content": null,
            "_view_module": "@jupyter-widgets/base",
            "overflow": null,
            "_model_module_version": "1.2.0",
            "_view_count": null,
            "flex_flow": null,
            "width": null,
            "min_width": null,
            "border": null,
            "align_items": null,
            "bottom": null,
            "_model_module": "@jupyter-widgets/base",
            "top": null,
            "grid_column": null,
            "overflow_y": null,
            "overflow_x": null,
            "grid_auto_flow": null,
            "grid_area": null,
            "grid_template_columns": null,
            "flex": null,
            "_model_name": "LayoutModel",
            "justify_items": null,
            "grid_row": null,
            "max_height": null,
            "align_content": null,
            "visibility": null,
            "align_self": null,
            "height": null,
            "min_height": null,
            "padding": null,
            "grid_auto_rows": null,
            "grid_gap": null,
            "max_width": null,
            "order": null,
            "_view_module_version": "1.2.0",
            "grid_template_areas": null,
            "object_position": null,
            "object_fit": null,
            "grid_auto_columns": null,
            "margin": null,
            "display": null,
            "left": null
          }
        },
        "ec67768823924c468f305219e2baf17b": {
          "model_module": "@jupyter-widgets/controls",
          "model_name": "HBoxModel",
          "state": {
            "_view_name": "HBoxView",
            "_dom_classes": [],
            "_model_name": "HBoxModel",
            "_view_module": "@jupyter-widgets/controls",
            "_model_module_version": "1.5.0",
            "_view_count": null,
            "_view_module_version": "1.5.0",
            "box_style": "",
            "layout": "IPY_MODEL_a85dfffccddb4a3ba716ba2d140cfab7",
            "_model_module": "@jupyter-widgets/controls",
            "children": [
              "IPY_MODEL_e7ecd36ba5cc47a9b85c6d829909f052",
              "IPY_MODEL_a91390c90aad42d6bf1be498e460617f"
            ]
          }
        },
        "a85dfffccddb4a3ba716ba2d140cfab7": {
          "model_module": "@jupyter-widgets/base",
          "model_name": "LayoutModel",
          "state": {
            "_view_name": "LayoutView",
            "grid_template_rows": null,
            "right": null,
            "justify_content": null,
            "_view_module": "@jupyter-widgets/base",
            "overflow": null,
            "_model_module_version": "1.2.0",
            "_view_count": null,
            "flex_flow": null,
            "width": null,
            "min_width": null,
            "border": null,
            "align_items": null,
            "bottom": null,
            "_model_module": "@jupyter-widgets/base",
            "top": null,
            "grid_column": null,
            "overflow_y": null,
            "overflow_x": null,
            "grid_auto_flow": null,
            "grid_area": null,
            "grid_template_columns": null,
            "flex": null,
            "_model_name": "LayoutModel",
            "justify_items": null,
            "grid_row": null,
            "max_height": null,
            "align_content": null,
            "visibility": null,
            "align_self": null,
            "height": null,
            "min_height": null,
            "padding": null,
            "grid_auto_rows": null,
            "grid_gap": null,
            "max_width": null,
            "order": null,
            "_view_module_version": "1.2.0",
            "grid_template_areas": null,
            "object_position": null,
            "object_fit": null,
            "grid_auto_columns": null,
            "margin": null,
            "display": null,
            "left": null
          }
        },
        "e7ecd36ba5cc47a9b85c6d829909f052": {
          "model_module": "@jupyter-widgets/controls",
          "model_name": "FloatProgressModel",
          "state": {
            "_view_name": "ProgressView",
            "style": "IPY_MODEL_7aeb348f0e7c414292ed6692764c7813",
            "_dom_classes": [],
            "description": "100%",
            "_model_name": "FloatProgressModel",
            "bar_style": "",
            "max": 100,
            "_view_module": "@jupyter-widgets/controls",
            "_model_module_version": "1.5.0",
            "value": 100,
            "_view_count": null,
            "_view_module_version": "1.5.0",
            "orientation": "horizontal",
            "min": 0,
            "description_tooltip": null,
            "_model_module": "@jupyter-widgets/controls",
            "layout": "IPY_MODEL_69772501691e4982a2dadadd8f72758d"
          }
        },
        "a91390c90aad42d6bf1be498e460617f": {
          "model_module": "@jupyter-widgets/controls",
          "model_name": "HTMLModel",
          "state": {
            "_view_name": "HTMLView",
            "style": "IPY_MODEL_635dcede1fb04367a98958923b00c69d",
            "_dom_classes": [],
            "description": "",
            "_model_name": "HTMLModel",
            "placeholder": "​",
            "_view_module": "@jupyter-widgets/controls",
            "_model_module_version": "1.5.0",
            "value": " 100/100 [00:13&lt;00:00,  7.84it/s]",
            "_view_count": null,
            "_view_module_version": "1.5.0",
            "description_tooltip": null,
            "_model_module": "@jupyter-widgets/controls",
            "layout": "IPY_MODEL_a2df3647ec0b42ecbece4f37b53162c5"
          }
        },
        "7aeb348f0e7c414292ed6692764c7813": {
          "model_module": "@jupyter-widgets/controls",
          "model_name": "ProgressStyleModel",
          "state": {
            "_view_name": "StyleView",
            "_model_name": "ProgressStyleModel",
            "description_width": "initial",
            "_view_module": "@jupyter-widgets/base",
            "_model_module_version": "1.5.0",
            "_view_count": null,
            "_view_module_version": "1.2.0",
            "bar_color": null,
            "_model_module": "@jupyter-widgets/controls"
          }
        },
        "69772501691e4982a2dadadd8f72758d": {
          "model_module": "@jupyter-widgets/base",
          "model_name": "LayoutModel",
          "state": {
            "_view_name": "LayoutView",
            "grid_template_rows": null,
            "right": null,
            "justify_content": null,
            "_view_module": "@jupyter-widgets/base",
            "overflow": null,
            "_model_module_version": "1.2.0",
            "_view_count": null,
            "flex_flow": null,
            "width": null,
            "min_width": null,
            "border": null,
            "align_items": null,
            "bottom": null,
            "_model_module": "@jupyter-widgets/base",
            "top": null,
            "grid_column": null,
            "overflow_y": null,
            "overflow_x": null,
            "grid_auto_flow": null,
            "grid_area": null,
            "grid_template_columns": null,
            "flex": null,
            "_model_name": "LayoutModel",
            "justify_items": null,
            "grid_row": null,
            "max_height": null,
            "align_content": null,
            "visibility": null,
            "align_self": null,
            "height": null,
            "min_height": null,
            "padding": null,
            "grid_auto_rows": null,
            "grid_gap": null,
            "max_width": null,
            "order": null,
            "_view_module_version": "1.2.0",
            "grid_template_areas": null,
            "object_position": null,
            "object_fit": null,
            "grid_auto_columns": null,
            "margin": null,
            "display": null,
            "left": null
          }
        },
        "635dcede1fb04367a98958923b00c69d": {
          "model_module": "@jupyter-widgets/controls",
          "model_name": "DescriptionStyleModel",
          "state": {
            "_view_name": "StyleView",
            "_model_name": "DescriptionStyleModel",
            "description_width": "",
            "_view_module": "@jupyter-widgets/base",
            "_model_module_version": "1.5.0",
            "_view_count": null,
            "_view_module_version": "1.2.0",
            "_model_module": "@jupyter-widgets/controls"
          }
        },
        "a2df3647ec0b42ecbece4f37b53162c5": {
          "model_module": "@jupyter-widgets/base",
          "model_name": "LayoutModel",
          "state": {
            "_view_name": "LayoutView",
            "grid_template_rows": null,
            "right": null,
            "justify_content": null,
            "_view_module": "@jupyter-widgets/base",
            "overflow": null,
            "_model_module_version": "1.2.0",
            "_view_count": null,
            "flex_flow": null,
            "width": null,
            "min_width": null,
            "border": null,
            "align_items": null,
            "bottom": null,
            "_model_module": "@jupyter-widgets/base",
            "top": null,
            "grid_column": null,
            "overflow_y": null,
            "overflow_x": null,
            "grid_auto_flow": null,
            "grid_area": null,
            "grid_template_columns": null,
            "flex": null,
            "_model_name": "LayoutModel",
            "justify_items": null,
            "grid_row": null,
            "max_height": null,
            "align_content": null,
            "visibility": null,
            "align_self": null,
            "height": null,
            "min_height": null,
            "padding": null,
            "grid_auto_rows": null,
            "grid_gap": null,
            "max_width": null,
            "order": null,
            "_view_module_version": "1.2.0",
            "grid_template_areas": null,
            "object_position": null,
            "object_fit": null,
            "grid_auto_columns": null,
            "margin": null,
            "display": null,
            "left": null
          }
        }
      }
    }
  },
  "cells": [
    {
      "cell_type": "code",
      "metadata": {
        "id": "IIMUa4s5DQvc",
        "colab": {
          "base_uri": "https://localhost:8080/"
        },
        "outputId": "17e621c0-028c-492f-8b8d-82bbeadee166"
      },
      "source": [
        "#Libraries\n",
        "\n",
        "import warnings\n",
        "warnings.filterwarnings('ignore')\n",
        "import pandas as pd\n",
        "import numpy as np\n",
        "import os\n",
        "import re\n",
        "import json\n",
        "import string\n",
        "import matplotlib.pyplot as plt\n",
        "%matplotlib inline\n",
        "import plotly.express as px\n",
        "import plotly.graph_objects as go\n",
        "from tqdm.autonotebook import tqdm\n",
        "from functools import partial\n",
        "import torch\n",
        "!pip install transformers\n",
        "from transformers import BertTokenizer, BertModel\n",
        "import spacy"
      ],
      "execution_count": 1,
      "outputs": [
        {
          "output_type": "stream",
          "text": [
            "Requirement already satisfied: transformers in /usr/local/lib/python3.7/dist-packages (4.5.1)\n",
            "Requirement already satisfied: tqdm>=4.27 in /usr/local/lib/python3.7/dist-packages (from transformers) (4.41.1)\n",
            "Requirement already satisfied: regex!=2019.12.17 in /usr/local/lib/python3.7/dist-packages (from transformers) (2019.12.20)\n",
            "Requirement already satisfied: sacremoses in /usr/local/lib/python3.7/dist-packages (from transformers) (0.0.45)\n",
            "Requirement already satisfied: requests in /usr/local/lib/python3.7/dist-packages (from transformers) (2.23.0)\n",
            "Requirement already satisfied: packaging in /usr/local/lib/python3.7/dist-packages (from transformers) (20.9)\n",
            "Requirement already satisfied: tokenizers<0.11,>=0.10.1 in /usr/local/lib/python3.7/dist-packages (from transformers) (0.10.2)\n",
            "Requirement already satisfied: importlib-metadata; python_version < \"3.8\" in /usr/local/lib/python3.7/dist-packages (from transformers) (3.10.1)\n",
            "Requirement already satisfied: numpy>=1.17 in /usr/local/lib/python3.7/dist-packages (from transformers) (1.19.5)\n",
            "Requirement already satisfied: filelock in /usr/local/lib/python3.7/dist-packages (from transformers) (3.0.12)\n",
            "Requirement already satisfied: six in /usr/local/lib/python3.7/dist-packages (from sacremoses->transformers) (1.15.0)\n",
            "Requirement already satisfied: click in /usr/local/lib/python3.7/dist-packages (from sacremoses->transformers) (7.1.2)\n",
            "Requirement already satisfied: joblib in /usr/local/lib/python3.7/dist-packages (from sacremoses->transformers) (1.0.1)\n",
            "Requirement already satisfied: certifi>=2017.4.17 in /usr/local/lib/python3.7/dist-packages (from requests->transformers) (2020.12.5)\n",
            "Requirement already satisfied: idna<3,>=2.5 in /usr/local/lib/python3.7/dist-packages (from requests->transformers) (2.10)\n",
            "Requirement already satisfied: chardet<4,>=3.0.2 in /usr/local/lib/python3.7/dist-packages (from requests->transformers) (3.0.4)\n",
            "Requirement already satisfied: urllib3!=1.25.0,!=1.25.1,<1.26,>=1.21.1 in /usr/local/lib/python3.7/dist-packages (from requests->transformers) (1.24.3)\n",
            "Requirement already satisfied: pyparsing>=2.0.2 in /usr/local/lib/python3.7/dist-packages (from packaging->transformers) (2.4.7)\n",
            "Requirement already satisfied: typing-extensions>=3.6.4; python_version < \"3.8\" in /usr/local/lib/python3.7/dist-packages (from importlib-metadata; python_version < \"3.8\"->transformers) (3.7.4.3)\n",
            "Requirement already satisfied: zipp>=0.5 in /usr/local/lib/python3.7/dist-packages (from importlib-metadata; python_version < \"3.8\"->transformers) (3.4.1)\n"
          ],
          "name": "stdout"
        }
      ]
    },
    {
      "cell_type": "code",
      "metadata": {
        "colab": {
          "base_uri": "https://localhost:8080/"
        },
        "id": "qeX5_0w9SBLL",
        "outputId": "b6616521-3300-48f0-9930-6f3e39f219d4"
      },
      "source": [
        "gpu_info = !nvidia-smi\n",
        "gpu_info = '\\n'.join(gpu_info)\n",
        "if gpu_info.find('failed') >= 0:\n",
        "  print('Select the Runtime > \"Change runtime type\" menu to enable a GPU accelerator, ')\n",
        "  print('and then re-execute this cell.')\n",
        "else:\n",
        "  print(gpu_info)\n",
        "\n",
        "print(f'GPU available: {torch.cuda.is_available()}')"
      ],
      "execution_count": 2,
      "outputs": [
        {
          "output_type": "stream",
          "text": [
            "Wed Apr 28 03:39:26 2021       \n",
            "+-----------------------------------------------------------------------------+\n",
            "| NVIDIA-SMI 465.19.01    Driver Version: 460.32.03    CUDA Version: 11.2     |\n",
            "|-------------------------------+----------------------+----------------------+\n",
            "| GPU  Name        Persistence-M| Bus-Id        Disp.A | Volatile Uncorr. ECC |\n",
            "| Fan  Temp  Perf  Pwr:Usage/Cap|         Memory-Usage | GPU-Util  Compute M. |\n",
            "|                               |                      |               MIG M. |\n",
            "|===============================+======================+======================|\n",
            "|   0  Tesla T4            Off  | 00000000:00:04.0 Off |                    0 |\n",
            "| N/A   49C    P8    10W /  70W |      0MiB / 15109MiB |      0%      Default |\n",
            "|                               |                      |                  N/A |\n",
            "+-------------------------------+----------------------+----------------------+\n",
            "                                                                               \n",
            "+-----------------------------------------------------------------------------+\n",
            "| Processes:                                                                  |\n",
            "|  GPU   GI   CI        PID   Type   Process name                  GPU Memory |\n",
            "|        ID   ID                                                   Usage      |\n",
            "|=============================================================================|\n",
            "|  No running processes found                                                 |\n",
            "+-----------------------------------------------------------------------------+\n",
            "GPU available: True\n"
          ],
          "name": "stdout"
        }
      ]
    },
    {
      "cell_type": "code",
      "metadata": {
        "colab": {
          "base_uri": "https://localhost:8080/",
          "height": 295
        },
        "id": "s9mUxiWiEh7F",
        "outputId": "73a4e80b-a678-4a89-f6db-a4a8e024de01"
      },
      "source": [
        "#data = pd.read_csv(\"data.csv\")\n",
        "data = pd.read_csv(\"data.csv\")\n",
        "data.head()\n"
      ],
      "execution_count": 3,
      "outputs": [
        {
          "output_type": "execute_result",
          "data": {
            "text/html": [
              "<div>\n",
              "<style scoped>\n",
              "    .dataframe tbody tr th:only-of-type {\n",
              "        vertical-align: middle;\n",
              "    }\n",
              "\n",
              "    .dataframe tbody tr th {\n",
              "        vertical-align: top;\n",
              "    }\n",
              "\n",
              "    .dataframe thead th {\n",
              "        text-align: right;\n",
              "    }\n",
              "</style>\n",
              "<table border=\"1\" class=\"dataframe\">\n",
              "  <thead>\n",
              "    <tr style=\"text-align: right;\">\n",
              "      <th></th>\n",
              "      <th>Unnamed: 0</th>\n",
              "      <th>Id</th>\n",
              "      <th>pub_title</th>\n",
              "      <th>dataset_title</th>\n",
              "      <th>dataset_label</th>\n",
              "      <th>cleaned_label</th>\n",
              "      <th>text</th>\n",
              "      <th>mask</th>\n",
              "    </tr>\n",
              "  </thead>\n",
              "  <tbody>\n",
              "    <tr>\n",
              "      <th>0</th>\n",
              "      <td>4</td>\n",
              "      <td>c754dec7-c5a3-4337-9892-c02158475064</td>\n",
              "      <td>Parental Effort, School Resources, and Student...</td>\n",
              "      <td>National Education Longitudinal Study</td>\n",
              "      <td>National Education Longitudinal Study</td>\n",
              "      <td>national education longitudinal study</td>\n",
              "      <td>This article investigates an important factor...</td>\n",
              "      <td>True</td>\n",
              "    </tr>\n",
              "    <tr>\n",
              "      <th>1</th>\n",
              "      <td>5</td>\n",
              "      <td>81b5f874-9b42-4d4f-8c50-b4bab24f8aed</td>\n",
              "      <td>The Gender Gap Reloaded: Are School Characteri...</td>\n",
              "      <td>National Education Longitudinal Study</td>\n",
              "      <td>National Education Longitudinal Study</td>\n",
              "      <td>national education longitudinal study</td>\n",
              "      <td>This study examines the wage gender gap of yo...</td>\n",
              "      <td>True</td>\n",
              "    </tr>\n",
              "    <tr>\n",
              "      <th>2</th>\n",
              "      <td>6</td>\n",
              "      <td>f35fdfa6-a3f9-4ef3-a858-c8e2efcd2349</td>\n",
              "      <td>The High School Environment and the Gender Gap...</td>\n",
              "      <td>National Education Longitudinal Study</td>\n",
              "      <td>National Education Longitudinal Study</td>\n",
              "      <td>national education longitudinal study</td>\n",
              "      <td>Despite the striking reversal of the gender g...</td>\n",
              "      <td>True</td>\n",
              "    </tr>\n",
              "    <tr>\n",
              "      <th>3</th>\n",
              "      <td>8</td>\n",
              "      <td>e5a4c6af-0854-4f7e-b088-06f03c18a01a</td>\n",
              "      <td>Locus of Control and Peer Relationships Among ...</td>\n",
              "      <td>National Education Longitudinal Study</td>\n",
              "      <td>National Education Longitudinal Study</td>\n",
              "      <td>national education longitudinal study</td>\n",
              "      <td>Abstract Past research has shown that locus o...</td>\n",
              "      <td>True</td>\n",
              "    </tr>\n",
              "    <tr>\n",
              "      <th>4</th>\n",
              "      <td>12</td>\n",
              "      <td>d5ff0ecd-ccf5-4f8a-a09c-182376eed4d0</td>\n",
              "      <td>Beyond the Laboratory: Evaluating the Survey E...</td>\n",
              "      <td>National Education Longitudinal Study</td>\n",
              "      <td>National Education Longitudinal Study</td>\n",
              "      <td>national education longitudinal study</td>\n",
              "      <td>The black-white gap in achievement, as measur...</td>\n",
              "      <td>True</td>\n",
              "    </tr>\n",
              "  </tbody>\n",
              "</table>\n",
              "</div>"
            ],
            "text/plain": [
              "   Unnamed: 0  ...  mask\n",
              "0           4  ...  True\n",
              "1           5  ...  True\n",
              "2           6  ...  True\n",
              "3           8  ...  True\n",
              "4          12  ...  True\n",
              "\n",
              "[5 rows x 8 columns]"
            ]
          },
          "metadata": {
            "tags": []
          },
          "execution_count": 3
        }
      ]
    },
    {
      "cell_type": "code",
      "metadata": {
        "id": "9L05dkowDbrW"
      },
      "source": [
        "def read_GloVe(filename):\n",
        " embeddings = {}\n",
        " for line in open(filename).readlines():\n",
        "\n",
        "    fields = line.strip().split(\" \")\n",
        "    word = fields[0]\n",
        "    embeddings[word] = [float(x) for x in fields[1:]]\n",
        " return embeddings\n",
        "\n",
        "GloVe = read_GloVe(\"glove.840B.300d.conll_filtered.txt\")"
      ],
      "execution_count": 4,
      "outputs": []
    },
    {
      "cell_type": "code",
      "metadata": {
        "colab": {
          "base_uri": "https://localhost:8080/",
          "height": 295
        },
        "id": "-HeyoODFVL1V",
        "outputId": "39812802-83fd-4957-be59-4b1b5b9c8ced"
      },
      "source": [
        "data.head()"
      ],
      "execution_count": 5,
      "outputs": [
        {
          "output_type": "execute_result",
          "data": {
            "text/html": [
              "<div>\n",
              "<style scoped>\n",
              "    .dataframe tbody tr th:only-of-type {\n",
              "        vertical-align: middle;\n",
              "    }\n",
              "\n",
              "    .dataframe tbody tr th {\n",
              "        vertical-align: top;\n",
              "    }\n",
              "\n",
              "    .dataframe thead th {\n",
              "        text-align: right;\n",
              "    }\n",
              "</style>\n",
              "<table border=\"1\" class=\"dataframe\">\n",
              "  <thead>\n",
              "    <tr style=\"text-align: right;\">\n",
              "      <th></th>\n",
              "      <th>Unnamed: 0</th>\n",
              "      <th>Id</th>\n",
              "      <th>pub_title</th>\n",
              "      <th>dataset_title</th>\n",
              "      <th>dataset_label</th>\n",
              "      <th>cleaned_label</th>\n",
              "      <th>text</th>\n",
              "      <th>mask</th>\n",
              "    </tr>\n",
              "  </thead>\n",
              "  <tbody>\n",
              "    <tr>\n",
              "      <th>0</th>\n",
              "      <td>4</td>\n",
              "      <td>c754dec7-c5a3-4337-9892-c02158475064</td>\n",
              "      <td>Parental Effort, School Resources, and Student...</td>\n",
              "      <td>National Education Longitudinal Study</td>\n",
              "      <td>National Education Longitudinal Study</td>\n",
              "      <td>national education longitudinal study</td>\n",
              "      <td>This article investigates an important factor...</td>\n",
              "      <td>True</td>\n",
              "    </tr>\n",
              "    <tr>\n",
              "      <th>1</th>\n",
              "      <td>5</td>\n",
              "      <td>81b5f874-9b42-4d4f-8c50-b4bab24f8aed</td>\n",
              "      <td>The Gender Gap Reloaded: Are School Characteri...</td>\n",
              "      <td>National Education Longitudinal Study</td>\n",
              "      <td>National Education Longitudinal Study</td>\n",
              "      <td>national education longitudinal study</td>\n",
              "      <td>This study examines the wage gender gap of yo...</td>\n",
              "      <td>True</td>\n",
              "    </tr>\n",
              "    <tr>\n",
              "      <th>2</th>\n",
              "      <td>6</td>\n",
              "      <td>f35fdfa6-a3f9-4ef3-a858-c8e2efcd2349</td>\n",
              "      <td>The High School Environment and the Gender Gap...</td>\n",
              "      <td>National Education Longitudinal Study</td>\n",
              "      <td>National Education Longitudinal Study</td>\n",
              "      <td>national education longitudinal study</td>\n",
              "      <td>Despite the striking reversal of the gender g...</td>\n",
              "      <td>True</td>\n",
              "    </tr>\n",
              "    <tr>\n",
              "      <th>3</th>\n",
              "      <td>8</td>\n",
              "      <td>e5a4c6af-0854-4f7e-b088-06f03c18a01a</td>\n",
              "      <td>Locus of Control and Peer Relationships Among ...</td>\n",
              "      <td>National Education Longitudinal Study</td>\n",
              "      <td>National Education Longitudinal Study</td>\n",
              "      <td>national education longitudinal study</td>\n",
              "      <td>Abstract Past research has shown that locus o...</td>\n",
              "      <td>True</td>\n",
              "    </tr>\n",
              "    <tr>\n",
              "      <th>4</th>\n",
              "      <td>12</td>\n",
              "      <td>d5ff0ecd-ccf5-4f8a-a09c-182376eed4d0</td>\n",
              "      <td>Beyond the Laboratory: Evaluating the Survey E...</td>\n",
              "      <td>National Education Longitudinal Study</td>\n",
              "      <td>National Education Longitudinal Study</td>\n",
              "      <td>national education longitudinal study</td>\n",
              "      <td>The black-white gap in achievement, as measur...</td>\n",
              "      <td>True</td>\n",
              "    </tr>\n",
              "  </tbody>\n",
              "</table>\n",
              "</div>"
            ],
            "text/plain": [
              "   Unnamed: 0  ...  mask\n",
              "0           4  ...  True\n",
              "1           5  ...  True\n",
              "2           6  ...  True\n",
              "3           8  ...  True\n",
              "4          12  ...  True\n",
              "\n",
              "[5 rows x 8 columns]"
            ]
          },
          "metadata": {
            "tags": []
          },
          "execution_count": 5
        }
      ]
    },
    {
      "cell_type": "code",
      "metadata": {
        "id": "Px2P_7BtFsds"
      },
      "source": [
        "import re\n",
        "paragraphs = []\n",
        "for i in range(len(data)):\n",
        "  t = data.loc[i][6]\n",
        "  t = t.lower()\n",
        "  t = re.findall(r\"[\\w']+|[.,!?;]\", t)\n",
        "  paragraphs.append(t)\n"
      ],
      "execution_count": 6,
      "outputs": []
    },
    {
      "cell_type": "code",
      "metadata": {
        "colab": {
          "base_uri": "https://localhost:8080/"
        },
        "id": "2_8hG0yXVHym",
        "outputId": "2b052b3d-81df-411d-c1cd-4ca87df519ba"
      },
      "source": [
        "#Create mappings between tokens and indices.\n",
        "\n",
        "from collections import Counter\n",
        "import random\n",
        "\n",
        "#Will need this later to remove 50% of words that only appear once in the training data from the vocabulary (and don't have GloVe embeddings).\n",
        "wordCounts = Counter([w for l in paragraphs for w in l])\n",
        "singletons = set([w for (w,c) in wordCounts.items() if c == 1 and not w in GloVe.keys()])\n",
        "\n",
        "\n",
        "#Build dictionaries to map from words, characters to indices and vice versa.\n",
        "#Save first two words in the vocabulary for padding and \"UNK\" token.\n",
        "word2i = {w:i+2 for i,w in enumerate(set([w for l in paragraphs for w in l] + list(GloVe.keys())))}\n",
        "\n",
        "i2word = {i:w for w,i in word2i.items()}\n",
        "\n",
        "\n",
        "\n",
        "\n",
        "#When training, randomly replace singletons with UNK tokens sometimes to simulate situation at test time.\n",
        "def getDictionaryRandomUnk(w, dictionary, train=False):\n",
        "  if train and (w in singletons and random.random() > 0.5):\n",
        "    return 1\n",
        "  else:\n",
        "    return dictionary.get(w, 1)\n",
        "\n",
        "#Map a list of sentences from words to indices.\n",
        "def sentences2indices(words, dictionary, train=False):\n",
        "  #1.0 => UNK\n",
        "  return [[getDictionaryRandomUnk(w,dictionary, train=train) for w in l] for l in words]\n",
        "\n",
        "X       = sentences2indices(paragraphs, word2i, train=True)\n",
        "\n",
        "\n",
        "print(i2word[253])\n",
        "\n",
        "#Print out some examples of what the dev inputs will look like\n",
        "for i in range(10):\n",
        "  print(\" \".join([i2word.get(w,'UNK') for w in X[i]]))"
      ],
      "execution_count": 7,
      "outputs": [
        {
          "output_type": "stream",
          "text": [
            "collaborations\n",
            "this article investigates an important factor in student achievement parental involvement . using data from the national education longitudinal study nels , we estimate a value added education production function that includes parental effort as an input . parental effort equations are also estimated as a function of child , parent , household , and school characteristics . our results suggest that parental effort has a strong positive effect on achievement that is large relative to the effect of school resources and is not captured by family background variables . parents appear to reduce their effort in response to increased school resources , suggesting potential ''crowding out'' of school resources .\n",
            "this study examines the wage gender gap of young adults in the 1970s , 1980s , and 2000 in the us . using quantile regression we estimate the gender gap across the entire wage distribution . we also study the importance of high school characteristics in predicting future labor market performance . we conduct analyses for three major racial ethnic groups in the us whites , blacks , and hispanics , employing data from two rich longitudinal studies nls and nels . our results indicate that while some school characteristics are positive and significant predictors of future wages for whites , they are less so for the two minority groups . we find significant wage gender disparities favoring men across all three surveys in the 1970s , 1980s , and 2000 . the wage gender gap is more pronounced in higher paid jobs 90th quantile for all groups , indicating the presence of a persistent and alarming ''glass ceiling . '' ó 2007 elsevier inc . all rights reserved . jel codes j16 ; j24 ; j31 the existence of gender differences in labor market outcomes , such as wages , has gained ample attention in economics and the social sciences . gender differences in wages have been researched and documented , and frequently debated in the literature . it is an established fact that males earn substantially higher wages than females . 0049 there is some empirical evidence , however , that while the gender gap is decreasing over time due to women's increased labor force participation and experience , it remains strong across the entire wage distribution . the quality of the empirical evidence on gender differences in wages has not always been very strong for two main reasons . first , typically , the samples of various studies on gender differences in wages are not representative of a well defined population . many studies have used convenient samples , and it is plausible that the results obtained from such selected samples are biased positively or negatively , and hence very different from their ''true'' population parameters . second , various previous studies on gender differences in wages have typically examined and reported group differences in means the central tendency of the distribution of wages . gender differences in the extremes e . g . , upper and lower tails of the wage distribution are only recently documented in the literature . since it is likely that gender differences in the tails of the wage distribution may be different qualitatively than differences in the middle of the distribution , examining gender differences across the entire distribution of wages is important and provides a more accurate picture of the gender gap . for example , males may be over represented in the top 10 percent of the wage distribution compared to females , a byproduct of over concentration of men in highly paid jobs . this difference may not necessarily be similar to gender differences observed in the middle or the lower tail of the wage distribution . in this study we employ base years and follow up data of national probability samples of high school students in the us , namely the national longitudinal study nls of the high school class of 1972 base year , fourth and fifth follow up and the national education longitudinal study nels of the eighth grade class of 1988 second and fourth follow up . the main advantage of these datasets is that we can link important characteristics of high schools attended in the base year to wages from follow up years , and thus , examine how high school characteristics affect wage differentials . in addition , these rich data allow us to examine the labor market performance of similarly aged individuals 7 , 8 , and 14 years after high school graduation , and hence , likely avoiding transitional labor market effects . because of the use of national probability samples our results are more likely to have higher external validity , and be more resilient to threats of selection bias . we examine gender differences in hourly wages for young adults in the late 1970s , mid 1980s , and 2000 across the entire distribution of wages , thus covering three important time spells . our estimation technique is to employ quantile regressions while adjusting for selection biases in the labor force . because the gender gap may be declining on average , but may be remaining strong in the upper or lower tails , affecting women disproportionately , we examine the following quantiles of the wage distribution 10th , 25th , 50th , 75th , and 90th quantile . we conduct separate analyses for three major race ethnic groups in the us whites , blacks , and hispanics . this permits us to determine whether the gender gap differs by race ethnic group and whether it is changing over time . an equally important objective of the present study is to investigate the link between high school characteristics and hourly wages . gauging the effects of high school characteristics on the wage gender gap is of great importance because school effects have differential and enduring effects on the earnings of individuals who attend different schools net of individual and family background characteristics constant and konstantopoulos , 2003 . previous work on school effects has yielded mixed and inconsistent findings with respect to the importance of schooling on school outputs such as academic achievement . some researchers have concluded that there is little or no evidence of school effects hanushek , 1986 , while others report that the impact of school factors may be substantial greenwald et al . , 1996 . in this study , we examine school effects on labor market outcomes and ask the question , can high school characteristics predict future wages of young adults , net of the effects of individual characteristics ? if so , then which school characteristics matter more for the economic performance of young workers , and for which ethnic groups ?\n",
            "despite the striking reversal of the gender gap in education , women pursue science , technology , engineering , and mathematics stem degrees at much lower rates than those of their male peers . this study extends existing explanations for these gender differences and examines the role of the high school context for plans to major in stem fields . building on recent gender theories , we argue that widely shared and hegemonic gender beliefs manifest differently across schools so that the gender specific formation of study plans is shaped by the local environment of high schools . using the national education longitudinal study , we first show large variations between high schools in the ability to attract students to stem fields conditional on a large set of pre high school measures . schools that are successful in attracting students to these fields reduce the gender gap by 25 percent or more . as a first step toward understanding what matters about schools , we then estimate the effect of two concrete high school characteristics on plans to major in stem fields in college a high school's curriculum in stem and gender segregation of extracurricular activities . these factors have a substantial effect on the gender gap in plans to major in stem a finding that is reaffirmed in a number of sensitivity analyses . our focus on the high school context opens concrete avenues for policy intervention and is of central theoretical importance to understand the gender gap in orientations toward stem fields .\n",
            "abstract past research has shown that locus of control plays an important role in a wide range of behaviors , such as academic achievement and positive social behaviors . however , little is known about whether locus of control plays the same role in minority adolescents' peer relationships . the current study examined ethnic differences in the associations between locus of control and peer relationships in early adolescence using samples from the early childhood longitudinal study ecls k 5 , 612 caucasian , 1 , 562 hispanic , 507 asian , and 908 africanamerican adolescents and the national education longitudinal study nels 8 , 484 caucasian , 1 , 604 hispanic , and 860 asian , and 1 , 228 african american adolescents . gender was approximately evenly split in both samples . the results from the two datasets were highly consistent . significant interactions between ethnicity and locus of control indicated that having a more internal locus of control was particularly important for caucasian students' peer relationships ecls k and social status nels , but less so for asian , hispanic , and african american students . our findings suggest that the role of locus of control in peer relationship is contingent upon culture . locus of control , a concept developed by rotter 1954 , focuses on the degree to which individuals generally believe that they , rather than other people or uncontrollable factors such as ''fate , '' are responsible for the outcomes of events in their lives . rotter 1954 conceptualized locus of control as occurring on a continuum from internal to external control , rather than as a dichotomous variable . among the most replicable findings , internal locus of control has been associated with better academic performance e . g . , chang et al . 2007 ; strayhorn 2010 , healthrelated outcomes e . g . , jose and weir 2013 ; sturmer et al . 2006 , job performance see review by ng et al . 2006 , and athletic performance e . g . , denny and steiner 2009 , whereas lacking a sense of control has been associated with negative outcomes , such as anxiety weems et al . 2003 and depression muris et al . 2004 . in short , decades of research have shown that locus of control plays an important role in a wide range of behaviors . most relevant to the current study , several studies also have shown that locus of control is associated with social relationships . specifically , studies with adult subjects demonstrated that those individuals who reported greater internal locus of control were more willing to communicate with out groups lam and mizerski 2005 and characterized themselves as being more sociable and open to new experiences mühlig versen et al . 2012 ; rubin 1993 . similarly , research has shown that children and adolescents with a more internal locus of control are more engaged in their classrooms you and sharkey 2009 , are less shy crozier 2011 , and display greater social maturity nelson and mathia 1995 . it also appears that having an external locus of control orientation is associated with aggressive tendencies and bullying behaviors osterman et al . 1999 , which can contribute to difficulties developing or maintaining friendships . for example , in a study of 5 7 year old australian elementary school children , slee 1993 found that children who were identified as bullies through self and teacher reports showed a more external locus of control . students who were identified as victims did not differ in locus of control and students who were not identified as either bullies or victims reported a more internal locus of control . in sum , there is considerable evidence for a significant role of locus of control in peer relationships . the above conclusion , however , is based on studies of mostly caucasian participants . little is known about whether locus of control plays the same role in minority adolescents' peer relationships . thus far , cross cultural and cross ethnic research on locus of control has focused mostly on either general locus of control or in the domain of academic achievement and the results have been inconsistent . a few earlier studies documented that asians , asian americans , and mexicanamericans had a more internal locus of control than their caucasian counterparts brown et al . 2007 ; hamilton et al . 1989 ; si et al . 1995 . a number of studies , however , showed that ethnic minority groups such as african , asian , and mexican americans tended to hold a more external locus of control leung 2001 ; o'hea et al . 2009 ; okeke et al . 1999 ; ramirez 1988 than european americans . an orientation towards external locus of control seems consistent with fatalistic beliefs that prevail in many asian cultures norenzayan and lee 2010 ; yeh et al . 2006 and in mexican and other cultures with a strong catholic tradition mccabe et al . 2008 . in african american cultures , having a more external locus of control orientation may be a way to deal with the disadvantages of poverty , unemployment , and racial discrimination threlfall et al . 2013 . in the domain of academic achievement , asians and asian americans report greater internal control than caucasian americans regarding their academic performance . asians and asian americans have been found to exceed caucasian americans in linking their successes and failures to their own efforts rather than to external circumstances e . g . , si et al . 1995 ; stevenson and stigler 1992 . bartal et al . 1980 found that perceived locus of control was positively associated with academic achievement , but more so for students of asian or african origin than for students of european , american , or israeli origin . however , gardner 2007 found that african american students tended to blame poor academic performance on external factors . in sum , previous research has shown cross cultural differences although not always consistently in general locus of control orientation as well as in the domain of academic achievement . cultural values can also influence locus of control in the domain of peer relationships , although little research has been conducted in this area . european american culture is characterized by an emphasis on the personal responsibility of individuals or ''agency'' to enter and to maintain relationships shweder et al . 2006 . children are encouraged to retain their sense of autonomy and freedom , even when interacting with peers rubin et al . 2002 . in contrast , asian and latino cultures emphasize cooperation and interdependence in the establishment and maintenance of peer relationships chen 2000 ; shweder et al . 2006 ; way 2006 . for example , one must be flexible when interacting with others to avoid embarrassing or hurting others' feelings . as a result , these groups' cultural emphasis on interdependence and maintenance of social harmony may lead them to see peers' agentic attitudes and behavior as a threat to positive relationships in the peer group . to put it succinctly , an internal locus of control in peer relationships may conflict with their cultural value of collectivism . given these differing cultural values in peer relationships , internal locus of control should be more congruent with european american children's peer relationships than with those of ethnic minority children .\n",
            "the black white gap in achievement , as measured by performance on standardized tests , has received considerable attention from researchers in the past five years . claude steele's stereotype threat and disidentification mechanism is perhaps the most heralded of the new explanations for residual racial differences that persist after adjustments for social background are performed . analyzing data from the national education longitudinal study , we found qualified support for portions of the disidentification explanation . black students' academic selfevaluations are more weakly associated with their measured academic performances , a difference that could stem from stereotype threat or a belief that the evaluations are racially biased . but this discounting of performance evaluations does not seem to provoke a more complete disidentification with the schooling process or with academic achievement in general . the findings suggest that there is no clear path from being stereotyped to disidentifying , and in conclusion we discuss alternative explanations for why it may be so .\n",
            "this study examines two important and related dimensions of the persisting gender gap in science , technology , engineering , and mathematics stem bachelor degrees first , the life course timing of a stable gender gap in stem orientation , and second , variations in the gender gap across high schools . we build on existing psychological and sociological gender theories to develop a theoretical argument about the development of stem orientations during adolescence and the potential influence of the local high school environment on the formation of stem orientations by females and males . using the national education longitudinal study nels , we then decompose the gender gap in stem bachelor degrees and show that the solidification of the gender gap in stem orientations is largely a process that occurs during the high school years . far from being a fixed attribute of adolescent development , however , we find that the size of the gender gap in stem orientation is quite sensitive to local high school influences ; going to school at a high school that is supportive of a positive orientation by females towards math and science can reduce the gender gap in stem bachelor degrees by 25 or more . when then harvard president lawrence summers pointed at innate differences between men and women as a possible explanation for women's under representation in high level science positions , he sparked an intense public controversy that mirrors a continuing debate in the scientific community . despite the striking reversal of the gender gap in educational attainment buchmann and diprete 2006 and the near gender parity in math performance hyde et al . 2008 , women still pursue science , technology , engineering , and mathematics stem degrees at much lower rates than their male peers do . figure 1 illustrates these trends . it shows , on the one hand , how women have made impressive gains in college attainment compared to men and now clearly outnumber men among college graduates in recent decades . on the other hand , women continue to lag behind in terms of bachelor degrees awarded in the 'quantitative' sciences illustrated in the graph for different stem sub fields . 1 this persistent pattern of gender inequality in college science majors and the implications for later career choices and labor market earnings has been a major concern for scientist and policy makers alike . such differences are not only relevant for the representation of women in high income and prestigious jobs and as such for gender equality in general but also for the supply of qualified labor in science oriented jobs , which is often regarded as a linchpin for the future of the us economy in an increasingly competitive global environment . in this paper , we explore two important and related dimensions of the persisting gender gap in stem degrees . the first dimension is the timing of the emergence of a gender gap in orientation towards stem fields . our analysis of the middle school through college phase of the educational life course reveals that the high school years play a major role in shaping gendered orientations toward science and engineering . the second dimension concerns the impact of the high school environment on the development of these orientations during the decisive high school years . in particular , we use multilevel models to document how the gender gap in stem orientation in twelfth grade varies across high schools , and we estimate the causal effect of the high school curriculum on the gender gap in stem orientation . far from being a fixed attribute of adolescent development , we find that the size of the gender gap in stem orientation is quite sensitive to local high school influences ; going to school in a high school that is supportive of a positive orientation by females towards math and science can reduce the gender gap in stem bachelor degrees by 25 or more . together these two dimensions of timing and local environmental influence extend existing theories and open concrete avenues for policy intervention . 1 exceptions to this trend are the biological , biomedical and life sciences , in which women today outnumber men . table 268 , 299 , 303 , 305 , 312 and 313 we begin by developing a theoretical argument about the development of stem orientations during adolescence , and the potential influence of the local environment on the formation of stem orientations by females and males . while acknowledging the importance of the global environment , we argue that local environments centrally affect the strength and salience of gender stereotypes about math and science . their influence operates mainly through two important processes . first , peers , parents and teachers all important actors in the local environment support and encourage certain career paths for boys and girls while disparaging others . second , the influence of gender stereotypes about stem occupations depends on the level of exposure to stem academic courses and to information about stem fields and stem occupations . both arguments imply that the size of the gender gap in stem bachelor degrees is shaped to a considerable extent by the character of the high school environment . variations in this environment will therefore affect the size of the gender gap in stem orientations . we then turn to an empirical examination of the timing and the local variation across high schools . first , we decompose the gender gap in stem bachelor degrees into various pathways to examine the emergence and solidification of gender differences in the orientation towards science and engineering in the adolescent life course . in particular , we use the national education longitudinal study nels to follow the 1988 cohort of eighth grade students through adolescence and young adulthood , and observe how orientations towards stem fields emerge and change from eighth grade through college . we find that the substantial gender gap in eighth grade orientation is relatively inconsequential for the persisting gender gap in stem degrees at the completion of college . instead , the high school years play a major role in shaping gendered orientations towards science and engineering . second , we examine the role of the high school for this decisive period . in particular , we use multilevel models to document how the gender gap in stem orientation at the end of high school varies across high schools , and we estimate the causal effect of high school curriculum on the gender gap in stem orientation . the results show substantial variation in the gender gap in stem orientation across schools , which supports our argument that the local environment plays a major role in shaping these orientations among boys and girls . the significant effect of high school curriculum on the gender gap in stem orientation provides the beginning of an understanding about the source of the high school effect . our results imply that the gender gap could be considerably reduced if high school environments were reshaped to model those high schools that are most supportive of female interest and competency in science and mathematics .\n",
            "abstract this paper analyses the impact of teacher gender towards students' test results in a blinded math test administered to students in catalonia spain . the data for this analysis are drawn from a sample of secondary school students who participated in an international blind test known as the mathematical kangaroo in 2008 . the estimation considers a two stage procedure since participation on the test leads to the presence of sample selection . results show a correlation between female teacher gender and student results . moreover , students with female teachers have a higher probability of participating in the kangaroo test in this case , the effect being more marked among male students . jel codes i28 , j16 a number of countries , including australia , canada , finland , new zealand , united kingdom and the united states have implemented policy initiatives to increase the number of male teachers in primary education where they have been in a clear minority to improve the results of male pupils , since it is assumed that , among other reasons , they are related to the lower presence of male teachers see a review in klein , 2004 ; carrington et al . , 2007 ; younger and warrington , 2008 ; skelton , 2009 . these policies have been implemented although there is ongoing debate as to whether students' results can be correlated with the gender of their teachers . thus , some studies report that students perform better if they have a same gender teacher , others point out that it is better to have a female teacher , while the third group of studies indicate that there is no gender effect at all . the reasons to support the first type of results relate to the fact that teachers might prefer teaching students of their own gender or that gender stereotypes may influence teacher evaluations of their students . in addition , teachers may act as role models for their students see , among others , carrington and skelton , 2003 ; gray and leith , 2004 ; holmlund and sund , 2008 . in regards to the second kind of results , students assigned to female teachers perform better since female teachers tend to be more supportive , provide a more positive classroom atmosphere , and tend to use a more student oriented style of teaching stressing the importance of motivation see stake and katz , 1982 ; singer , 1996 ; krieg , 2005 ; nelson laird , 2011 . below we summarize some of the existing evidence for primary and secondary education middle and high school . in primary education , the studies reviewed conclude that teacher gender is either irrelevant or that female teachers improve both girls' and boys' performance . thus , in a large scale analysis 8 , 978 eleven year old pupils and 413 teachers in 113 primary schools year 6 in england , during the 1997 98 academic year , carrington et al . 2008 conclude that having a same gender teacher has no impact on student performance measured through tests , either that of males or females , in mathematics , reading and science . moreover , with a sample of students and teachers in 19 primary and secondary schools in australia , lingard et al . 2002 show that teacher gender is not a significant factor in determining positive outcomes for students in literacy and mathematical tests . this result is also found in sokal et al . 2005 in a study with 6 to 8 yearold children in a school in canada regards to reading performance , as well as in driessen 2007 with a large scale sample of dutch primary schools , in relation to language and maths tests' results , which included 5 , 181 grade eight pupils , 251 teachers and 163 schools . krieg 2005 also concludes that having a teacher of the same gender is not relevant . however , the study shows that male and female students in grade three 8 year olds assigned to female teachers obtain higher marks on a standardized test the washington assessment of student learning . controlling for student ability as well as for school and district fixed effects , krieg shows that the students of female teachers are more likely to score well on the maths , reading and writing sections of the test i . e . , they obtain higher results and present a higher probability of passing . in developing countries , chudgar and sankar 2008 consider a sample of grade four and six students ages 9 to 11 , in 300 public schools in india , and conclude that being in a female teacher's classroom is advantageous for language learning but teacher gender has no effect on mathematics learning . in secondary education we find numerous evidence teacher gender is irrelevant regards to students' results ; female teachers increase students' outcomes ; and or students assigned to a same gender teacher have better results . thus , in an analysis of upper secondary education students 16 to 18 year olds in 69 schools in stockholm sweden , holmlund and sund 2008 find no evidence to show that teacher gender improves student outcomes . in this study , for each student and school year , they are able to identify both the student outcome the final overall grade as well as the grades obtained in several individual subjects and the gender of the students and teachers . the authors argue that the gender performance differential in favor of female students is greater in subjects in which the share of female teachers is higher but this effect is not causal , since it is not observed when the analysis controls for teacher turnover and student mobility nor when the assumption of random student teacher matching within a subject holds . the same kind of evidence is provided by ehrenberg et al . 1995 for the usa . using data from the national education longitudinal study of 1988 , which comprises nearly 25 , 000 eighth graders lower secondary education as well as two of each of the student's teachers , they find that a teacher's gender is not correlated with the achievement test scores in mathematics and science of students although , in some cases , teachers' subjective evaluations about their students are . however , dee 2007 shows that that assignment to a same gender teacher significantly improves the achievement of both girls and boys in terms of their test scores in mathematics , science , reading and history . data comes from the national education longitudinal study of 1988 and he controls for student traits , classroom and teacher characteristics as well as including student , class and teacher fixed effects . finally , considering 3 , 446 pupils from 110 public schools in israel , klein 2004 concludes that male and female pupils get higher scores , defined as end of the year grades in subjects related to humanities , such as literature and history , and science mathematics , chemistry and physics with female teachers . thus , the available empirical evidence does not allow an accurate determination of the correlation between teacher's gender and student's academic performance in primary and secondary education . in this context , this paper analyses the impact of teacher gender on student marks , considering student results in a mathematical blind test named kangaroo . the issue is of importance since , as holmlund and sund 2008 point out , the gender gap may have both educational and economic consequences in terms of an efficiency loss whereby students with higher ability might obtain lower marks and face greater difficulties in accessing higher levels of education and furthering their professional careers . in addition , as mentioned before , educational policies have been implemented in a number of countries to regulate this issue with labor consequences for the teachers . three specific aspects of this paper are worth highlighting . first , in this study we include the characteristics of the agents that might have an impact on student results , such as pupils , teachers , and schools . second , we include fixed effects to control for student and school characteristics not observed in the analysis unobservables , as the recent literature recommends dee , 2007 ; hoffman and oreopoulos , 2009 ; holmlund and sund , 2008 . finally , to the best of our knowledge , this is the first analysis conducted in spain or in any similar country in southern europe .\n",
            "today , social network is very important to many people particularly for the youths in their everyday lives , integrating their online and offline experience and becoming one of the primary means of connecting and socially interacting worldwide , whether among individuals , students , business people and even governments . the purpose of this study is to propose a conceptual framework on the relationship between social network usage especially facebook with academic performance . according to hussain 2005 , facebook is the most popular social media worldwide , and its trend indicated that university students used social media for self enjoyment and friendship . however , they preferred to share their study experiences research projects , educational events , information , and developing networks . social networking sites such as facebook , twitter , youtube , skype and blog are widely used in the exchange of different information and in communicating with various cultures worldwide o'reilly , 2007 . in the current 2000s , online social networking sites have gained popularity among college students . facebook is one of the highly popular social media worldwide . facebook provides an opportunity for users particularly college students to create their profiles , make personal information known to other users , and upload and display pictures . moreover , users are able to look at the profiles of other users , gather and make more friends online , and connect with those friends via messages , gifts , and photo tagging kalpidou , dan costin , jessica , 2011 . the increasing connection of college students to these worldwide online communities has constituted an anxiety to both parents and educators to the extent of stimulating research in this area to investigate the phenomenon . some researchers have pointed out that students using social media learn in new ways and for this reason educators should welcome these new developments ito et al . , 2009 ; jenkins , 2006 . park , kee and valenzuela 2009 , found that facebook could negatively affect the overall academic performance of the students . according to khan 2009 , facebook users often experience poor performance academically . moreover , many researchers were focused on various demographic variables such as age and gender on academic performance . the result of these researches found the significance of gender in student's academic achievement for example ; they found a significant difference in gpa grade between male and female students in a class jabor et al . , 2011 . similar with an analysis of data from the national education longitudinal study nels ; lee and burka 1996 , found a large advantage for males on the physical sciences and the modest advantage for females on the life science . however , coley 2001 , studied gender difference within ethnic groups of varying ages , and it revealed more similarities than differences . in conclusion , more research on age and gender differences in academic performance is needed to make conclusive implication of the effect of age , gender , and facebook intensity on the academic performance of university students . this study will investigate whether students' age , gender , and facebook intensity may make a difference in their academic performance .\n",
            "a study investigated the college application behaviors of students from different racial ethnic groups whites , african americans , asian americans , hispanic americans to understand differences in the college search and choice process . data we . re drawn from two large national longitudinal studies , the national education longitudinal study 1988 and the beginning postsecondary studentn longitudinal study . analysis revealed significant group differentes in college application behavior number of colleges applied to , time of submission of application , first choice of institution , and tuition cost . substantial data tables showing analyses are included . asian americans were most likely to follow assumptions underlying traditional college choice models . latino students were the least prepared regarding knowledge about college and least likely to fit traditional college choice models . it is concluded that the findings suggest a need for campuses to evaluate the potential effects of policy decisions that may affect student choice for different applicant populations . implications for institutional research needs are also noted . contains 7 tables , 5 appendixes , and 18 references . mse access and equity have long been central goals of american higher education , as reflections of both egalitarian and pragmatic interests . most often , measures of enrollment and persistence have been used to track overall participation rates and to gauge the success of various groups in securing equal levels of opportunity . there is fairly wide agreement that throughout the 1960s and '70s , minority men and women of all ethnic groups achieved ever increasing levels of representation at american two and four year institutions , and that disparities between socioeconomic , racial ethnic , and gender groups decreased alexander , pallas holupka , 1987 ; orfield , 1990 ; paul , 1990 . there is less agreement regarding the cease at these gains some researchers credit the vast increases in public and private student aid expenditures during this period astin , 1982 cited in nora and horvath , 1989 , and others claim no evidence exists to suggest that financial aid improves access hanson , 1980 cited in nora and horvath , 1989 ; zemsky , 1988 cited in orf eld , 1990 . there is also deep disagreement over whether racial and ethnic groups and those of lower socioeconomic status have gained or lost ground since the retrenchment of the 1980s . alexander , et al . 1987 found that for a cohort of 1980 high school seniors , within individual socio economic status ses levels , minority youth consistently showed higher participation rates than white students , yet low ses was nonetheless strongly associated with less participation . paul 1990 cites the failure of some researchers to take into account the increasing number of minority high school graduates when they claim advances in higher education representation of minorities . instead , she contends that when minority enrollment in higher education is considered as a percentage of minority high school graduates , both african americans and latinos lost considerable ground between the mid 1970s and the mid 1980s . at the same time , however , critics of affirmative action in admissions suggest that such programs and policies are either no longer necessary or that they provide an unfair advantage to choice among racial ethnic groups p . 2 racial ethnic groups over white applicants to college . these differing points of view suggest that it is time to reexamine the progress and barriers to progress in terms of access to higher education for different racial ethnic groups . yet united states higher education is not a monolith of similar institutions evenly dispersed throughout the land . there is a great variety of institution types , from large , prestigious research institutions producing bachelor's degrees through doctorates , to small two year community colleges offering associates degrees and vocational training . cost , availability of financial support , and entrance requirements all differ among institutions , affecting access in a number of ways pascarella terenzini , 1991 . likewise , degrees confer individual benefits of economic opportunity and prestige and increase human resources to society in amounts which differ from one institution to the next . therefore , it is important when judging equality of access to higher education and return on investment to consider the distribution of students among institutions of different types . using the theoretical model established by hossler and associates 1984 , we investigated the college application behaviors of various racial ethnic groups in order to understand differences in the college search and choice processes . hossler and gallagher 1987 posit three phases of the college choice process the predisposition , search , and choice phase when students' backgrounds , attributes , activities , and institutional characteristics interact to influence the decision making process . the first stage is the predisposition phase when family background , ability , and students' early preferences predispose students to aspire to specific degree attainments and seek information about colleges . during the next phase , both the student and institutions engage in search activities . while students seek information about and make decisions concerning the types of institutions they will consider applying to , institutions typically also provide information to students they are interested in recruiting . in the third and last phase of the college choice process , students narrow the range of schools they are considering to a choice set composed of two or more schools , and colleges engage in courtship activities ranging from invitations for campus visits to the offering of financial aid packages . choice among racial' fanic groups p . 3 , because college pricing , financial aid , and other factors are critical to understanding this process , we set out to explore continuing differences in groups both at the senior year of high school and once in college . student demographics , preferences , academic ability , and income levels were taken into account in our analyses . erdman 1983 examined factors that influenced high school seniors' applications to specific colleges and found traditional age students rank the following factors from . most influential to least academic programs , reputation , location , size , parent recommendation , counselor recommendation , cost , and alumni contact . erdman concludes that the reputation of a particular institution in the mind of students , the location of that institution , and its size are powerful forces in the selection process , outweighing other factors examined , including cost p . 6 . in contrast , other work on nontraditional students consisting mainly of adults students suggest that these students are more sensitive to tuition cost than recent high school graduates bishop van dyk , 1977 . moreover , recent studies have shown that the typical models for college choice are less effective in predicting nontraditional or delayed entry students' search and choice processes than they are of traditional aged students bers and smith , 1987 ; hurtado , kurotsuchi , and sharp , 1996 . we examine these issues across racial ethnic groups in order to determine key differences in college choice and access .\n",
            "in this paper , we develop a new direct measure of state anti smoking sentiment and merge it with micro data on youth smoking in 1992 and 2000 . the empirical results from the cross sectional models show two consistent patterns after controlling for differences in state anti smoking sentiment , the price of cigarettes has a weak and statistically insignificant influence on smoking participation ; and state anti smoking sentiment appears to be a potentially important influence on youth smoking participation . the cross sectional results are corroborated by results from discrete time hazard models of smoking initiation that include state fixed effects . however , there is evidence of price responsiveness in the conditional cigarette demand by youth and young adult smokers . despite mainly encouraging trends , public health policy makers continue to be concerned about youth smoking . although the prevalence of smoking among high school seniors in the u . s . has fallen from its 1997 peak of 36 . 5 percent to about 23 percent , it still has a ways to go to reach the healthy people 2010 national health objective of 16 percent johnston 2005 , usdhss 2004 . and the most recent data suggest the rate of decline in smoking among u . s . youth may have stopped or even reversed johnston 2005 , cdc 2006 . the most recent trend data led the president of the american legacy foundation the anti smoking organization established by the 1998 legal settlement with the tobacco industry to conclude that today's news from the cdc is a warning sign act now to support tobacco prevention work across our nation , and we can drive down youth smoking rates . if we wait , the percentage of youth smokers will continue to rise . . . . american legacy foundation 2006 . higher cigarette prices are widely seen as one of the most effective ways to reduce youth smoking usdhss 2000 . in fact , another healthy people 2010 objective is for combined federal and state excise taxes to average 2 . 00 per pack . as of november 1 , 2005 , combined federal and state excise taxes reached or almost reached 2 . 00 per pack in only 13 states orzechowski and walker 2005 . some research calls into doubt the policy prescription that higher prices are an effective way to reduce youth smoking wasserman et al . 1991 , douglas 1994 , douglas and hariharan 1998 , decicca , kenkel and mathios 2001 , 2002 . most research that supports the policy prescription uses variation across states in cigarette taxes as a natural experiment to identify the price responsiveness of youth smoking e . g . , lewit , coate , and grossman 1981 , chaloupka and grossman 1996 , harris and chan 1999 , ross and chaloupka 2003 . however , tax rates are not randomly set , but result from the political process which reflects public sentiment towards smoking . warner 1982 , p . 483 concludes that the fluctuations in new cigarette tax activity do not appear to have occurred randomly . to the contrary , they correspond closely to the evolution of public concerns about the link between cigarette smoking and illness . . . . as evidence supporting this hypothesis , he points out that from 1921 1952 tobacco producing states and other states taxed cigarettes similarly ; but as public awareness of the smoking andhealth issue grew , other states were much more likely to increase cigarette taxes than were the tobacco states . similarly , based on their econometric analysis of 1946 1989 data , hunter and nelson 1992 conclude that public policy concerns . . . contribute positively to the level of tobacco excise taxation in a state . these findings suggest that in the political process taxes are seen as an anti smoking policy and hence probably reflect anti smoking sentiment . if antismoking sentiment is itself an important determinant of youth smoking , failing to control for differences in anti smoking sentiment across states will yield biased estimates of the priceresponsiveness of youth smoking . in this paper , we extend previous work decicca , kenkel , and mathios 2002 to explore in much greater depth the role of state anti smoking sentiment in empirical models of youth and young adult smoking . in particular , in section 2 we analyze data from the tobacco use supplements of the current population survey tus cps to develop a new direct measure of state anti smoking sentiment during the 1990s . section 3 describes the national education longitudinal study nels , a nationally representative micro data set that contains youth smoking information . in section 4 we use the 1992 and 2000 waves of nels to re examine the impact of prices in models of youth smoking that include the new measure of anti smoking sentiment . section 5 explores whether our main results are robust to several sensitivity checks . in section 6 we explore other approaches to control for anti smoking sentiment in cross sectional data , and we also estimate hazard models of smoking initiation over time that include state fixed effects . section 7 concludes .\n"
          ],
          "name": "stdout"
        }
      ]
    },
    {
      "cell_type": "code",
      "metadata": {
        "id": "X3287QTBVxEJ"
      },
      "source": [
        "import torch.nn as nn\n",
        "num_words = len(word2i) + 2\n",
        "weights = torch.Tensor(np.zeros((num_words, 300)))\n",
        "E = nn.Embedding(num_words, 300)\n",
        "for i in range(0,num_words):\n",
        "  if i in i2word.keys():\n",
        "    if i2word[i] in GloVe.keys():\n",
        "      weights[i] = torch.Tensor(GloVe[i2word[i]])\n",
        "    else:\n",
        "      \n",
        "      weights[i] = E.weight[i]\n",
        "  else:\n",
        "    weights[i] = E.weight[i]\n",
        "E.weight.data = weights\n",
        "\n"
      ],
      "execution_count": 8,
      "outputs": []
    },
    {
      "cell_type": "code",
      "metadata": {
        "id": "qUEsPrB0WlKA"
      },
      "source": [
        "gold_seq = []\n",
        "for i in range(len(data)):\n",
        "  words = paragraphs[i]\n",
        "  label = data.loc[i][5]\n",
        "  t = label.lower()\n",
        "  t = re.findall(r\"[\\w']+|[.,!?;]\", t)\n",
        "  seq = np.zeros(len(words))\n",
        "  for j in range(len(words)):\n",
        "    if words[j:j+len(t)] == t:\n",
        "      index = (j, j+len(t))\n",
        "      break\n",
        "    else:\n",
        "      index = False\n",
        "  seq = np.zeros(len(words))\n",
        "  if index:\n",
        "    for j in range(index[0], index[1]):\n",
        "      seq[j] = 1\n",
        "  if all(v == 0 for v in seq):\n",
        "    for j in range(len(words)):\n",
        "      if words[j] in t:\n",
        "        seq[j] = 1\n",
        "  gold_seq.append(seq)\n",
        "  \n",
        "    \n",
        "\n"
      ],
      "execution_count": 9,
      "outputs": []
    },
    {
      "cell_type": "code",
      "metadata": {
        "id": "ND_AbL7Ic7uH"
      },
      "source": [
        ""
      ],
      "execution_count": 9,
      "outputs": []
    },
    {
      "cell_type": "code",
      "metadata": {
        "colab": {
          "base_uri": "https://localhost:8080/"
        },
        "id": "kFe4kC2UZ7dx",
        "outputId": "11bdcf6d-dd5f-4a7c-cc89-2a89e3f6291b"
      },
      "source": [
        "\n",
        "class BasicLSTMtagger(nn.Module):\n",
        "    def __init__(self, DIM_EMB=10, DIM_HID=10):\n",
        "        super(BasicLSTMtagger, self).__init__()\n",
        "\n",
        "        self.E = nn.Embedding(num_words, 300)\n",
        "        self.init_glove(GloVe)\n",
        "        self.L = nn.LSTM(DIM_EMB, DIM_HID, bidirectional=True, batch_first=True)\n",
        "        self.W = nn.Linear(DIM_HID*2, 2)\n",
        "        self.logSoftmax = nn.LogSoftmax(dim=2)\n",
        "        #TODO: initialize parameters - embedding layer, nn.LSTM, nn.Linear and nn.LogSoftmax\n",
        "\n",
        "    def forward(self, X, train=False):\n",
        "        #TODO: Implement the forward computation.\n",
        "        X = X.cuda()\n",
        "        \n",
        "        x = self.E(X)\n",
        "\n",
        "        x, hidden = self.L(x)\n",
        "\n",
        "        x = self.W(x)\n",
        "        return self.logSoftmax(x)  \n",
        "\n",
        "    def init_glove(self, GloVe):\n",
        "      weights = torch.Tensor(np.zeros((num_words, 300)))\n",
        "      for i in range(0,num_words):\n",
        "        if i in i2word.keys():\n",
        "          if i2word[i] in GloVe.keys():\n",
        "            weights[i] = torch.Tensor(GloVe[i2word[i]])\n",
        "          else:\n",
        "            \n",
        "            weights[i] = self.E.weight[i]\n",
        "        else:\n",
        "          weights[i] = self.E.weight[i]\n",
        "      self.E.weight.data = weights\n",
        "    def inference(self, sentences):\n",
        "\n",
        "      pred = self.forward(sentences).argmax(dim=2)\n",
        "      return pred\n",
        "\n",
        "\n",
        "#The following code will initialize a model and test that your forward computation runs without errors.\n",
        "lstm   = BasicLSTMtagger(DIM_HID=7, DIM_EMB=300)\n",
        "lstm = lstm.cuda()\n",
        "print(X[0])\n",
        "lstm_output = lstm.forward(torch.LongTensor(X[0]).reshape((1,len(X[0])))).cuda()\n",
        "\n",
        "\n",
        "#Check the shape of the lstm_output and one-hot label tensors.\n",
        "\n"
      ],
      "execution_count": 23,
      "outputs": [
        {
          "output_type": "stream",
          "text": [
            "[54149, 3020, 32, 12640, 45344, 24544, 13080, 13765, 53550, 23020, 27350, 49998, 33000, 43121, 14453, 48580, 38661, 1159, 26040, 57024, 17185, 9636, 56400, 18304, 14676, 43028, 30438, 1159, 59254, 2034, 33643, 10578, 23020, 63874, 6917, 12640, 47448, 49998, 23020, 63874, 64977, 20933, 45034, 40897, 6917, 14676, 2034, 50968, 62340, 9636, 47715, 9636, 44190, 9636, 53379, 33596, 5536, 49998, 17874, 52098, 9676, 33643, 23020, 63874, 4894, 14676, 30394, 52109, 3741, 41413, 53550, 33643, 21723, 26028, 6219, 60723, 48580, 3741, 50968, 33596, 18893, 53379, 21723, 17976, 34843, 48135, 63270, 60788, 3508, 49998, 49856, 47444, 60723, 62725, 54676, 63874, 13080, 15459, 60723, 30542, 33596, 18893, 9636, 21329, 35959, 33287, 51045, 50968, 33596, 18893, 49998]\n"
          ],
          "name": "stdout"
        }
      ]
    },
    {
      "cell_type": "code",
      "metadata": {
        "colab": {
          "base_uri": "https://localhost:8080/",
          "height": 70,
          "referenced_widgets": [
            "9d2bac75b31142a5859b42ce548fa755",
            "58f485e557094202a72ee463ffb01773",
            "d78d35d2157440af8f8d788acbfd5cf7",
            "240643604f7b4080afb8e8b6d7c9e32a",
            "a318650dc8e34b1bb617b139cf6d2b42",
            "e8c219281d3e4c4793db8477ecae1223",
            "65376a068af94c118553eaf489bcf443",
            "771a6c414933420e90b73ce93f9af0f2",
            "a9665f0b454042b99ae167767a4fcdb6",
            "05740e6c04034cc19b3ca5d6eb021a4a",
            "f6a2bd4bc41243a586ee51cbef3e99e8",
            "872c1854417749cb95d6aba956f77e5f",
            "567ca32ab367426999c6e770dcb1d88b",
            "00df7c991a3f4543b024e5011b96424a",
            "57fb9b70a4c646c3a080adfdd9c5a6e2",
            "8d2dc5224b93460f8c72ad34390e98df",
            "ec67768823924c468f305219e2baf17b",
            "a85dfffccddb4a3ba716ba2d140cfab7",
            "e7ecd36ba5cc47a9b85c6d829909f052",
            "a91390c90aad42d6bf1be498e460617f",
            "7aeb348f0e7c414292ed6692764c7813",
            "69772501691e4982a2dadadd8f72758d",
            "635dcede1fb04367a98958923b00c69d",
            "a2df3647ec0b42ecbece4f37b53162c5"
          ]
        },
        "id": "22KK1EkJc6pf",
        "outputId": "f060c760-b7a7-4447-ce70-8743b3024061"
      },
      "source": [
        "#Training\n",
        "\n",
        "from random import sample\n",
        "import tqdm\n",
        "import os\n",
        "import subprocess\n",
        "import random\n",
        "import torch.optim as optim\n",
        "def shuffle_sentences(sentences, tags):\n",
        "  shuffled_sentences = []\n",
        "  shuffled_tags      = []\n",
        "  indices = list(range(len(sentences)))\n",
        "  random.shuffle(indices)\n",
        "  for i in indices:\n",
        "    #print(len(sentences[i]), len(tags[i]))\n",
        "    shuffled_sentences.append(sentences[i])\n",
        "    shuffled_tags.append(tags[i])\n",
        "  return (shuffled_sentences, shuffled_tags)\n",
        "\n",
        "nEpochs = 3\n",
        "\n",
        "def train_basic_lstm(sentences, lstm):\n",
        "  optimizer = optim.Adadelta(lstm.parameters(), lr=0.1)\n",
        "  #TODO: initialize optimizer\n",
        "\n",
        "  batchSize = 1\n",
        "  for epoch in range(nEpochs):\n",
        "    totalLoss = 0.0\n",
        "    l = nn.CrossEntropyLoss(reduction=\"sum\").cuda()\n",
        "\n",
        "    for batch in tqdm.notebook.tqdm(range(0, len(sentences), batchSize), leave=False):\n",
        "      lstm.zero_grad()\n",
        "      #TODO: Impelement gradient update.\n",
        "      lstm_output = lstm.forward(torch.LongTensor(X[batch]).reshape((1,len(X[batch]))))\n",
        "\n",
        "      targets = gold_seq[batch]\n",
        "\n",
        "      loss = l(torch.flatten(lstm_output, start_dim=0, end_dim = 1), torch.flatten(torch.LongTensor(targets).cuda()))\n",
        "      loss.backward()\n",
        "      totalLoss += loss\n",
        "      \n",
        "      optimizer.step()\n",
        "      \n",
        "\n",
        "    print(f\"loss on epoch {epoch} = {totalLoss}\")\n",
        "    \n",
        "lstm = BasicLSTMtagger(DIM_HID=500, DIM_EMB=300).cuda()\n",
        "train_basic_lstm(paragraphs[0:100], lstm)"
      ],
      "execution_count": 24,
      "outputs": [
        {
          "output_type": "display_data",
          "data": {
            "application/vnd.jupyter.widget-view+json": {
              "model_id": "9d2bac75b31142a5859b42ce548fa755",
              "version_minor": 0,
              "version_major": 2
            },
            "text/plain": [
              "HBox(children=(FloatProgress(value=0.0), HTML(value='')))"
            ]
          },
          "metadata": {
            "tags": []
          }
        },
        {
          "output_type": "stream",
          "text": [
            "loss on epoch 0 = 4458.333984375\n"
          ],
          "name": "stdout"
        },
        {
          "output_type": "display_data",
          "data": {
            "application/vnd.jupyter.widget-view+json": {
              "model_id": "a9665f0b454042b99ae167767a4fcdb6",
              "version_minor": 0,
              "version_major": 2
            },
            "text/plain": [
              "HBox(children=(FloatProgress(value=0.0), HTML(value='')))"
            ]
          },
          "metadata": {
            "tags": []
          }
        },
        {
          "output_type": "stream",
          "text": [
            "loss on epoch 1 = 1112.9921875\n"
          ],
          "name": "stdout"
        },
        {
          "output_type": "display_data",
          "data": {
            "application/vnd.jupyter.widget-view+json": {
              "model_id": "ec67768823924c468f305219e2baf17b",
              "version_minor": 0,
              "version_major": 2
            },
            "text/plain": [
              "HBox(children=(FloatProgress(value=0.0), HTML(value='')))"
            ]
          },
          "metadata": {
            "tags": []
          }
        },
        {
          "output_type": "stream",
          "text": [
            "loss on epoch 2 = 767.8633422851562\n"
          ],
          "name": "stdout"
        }
      ]
    },
    {
      "cell_type": "code",
      "metadata": {
        "colab": {
          "base_uri": "https://localhost:8080/"
        },
        "id": "a8jNNsOBk8gQ",
        "outputId": "e504a18b-0947-4cbd-ab09-7ac12816de37"
      },
      "source": [
        "z = torch.LongTensor(X[80])\n",
        "\n",
        "result = lstm.inference(z.reshape((1,len(X[80])))).tolist()\n",
        "result = np.array(result[0])\n",
        "index = np.where(result == 1)[0]\n",
        "print(index)\n",
        "for i in index:\n",
        "  print(i2word[X[80][i]])\n",
        "print(data.loc[80])\n"
      ],
      "execution_count": 43,
      "outputs": [
        {
          "output_type": "stream",
          "text": [
            "[139 140 141 142 143 144]\n",
            "baltimore\n",
            "longitudinal\n",
            "study\n",
            "of\n",
            "aging\n",
            "blsa\n",
            "Unnamed: 0                                                     542\n",
            "Id                            44eeace7-86cc-4e85-9435-8a7ca300d802\n",
            "pub_title        Can serial exercise testing improve the predic...\n",
            "dataset_title         Baltimore Longitudinal Study of Aging (BLSA)\n",
            "dataset_label         Baltimore Longitudinal Study of Aging (BLSA)\n",
            "cleaned_label          baltimore longitudinal study of aging blsa \n",
            "text              An abnormal ST segment response to treadmill ...\n",
            "mask                                                          True\n",
            "Name: 80, dtype: object\n"
          ],
          "name": "stdout"
        }
      ]
    },
    {
      "cell_type": "code",
      "metadata": {
        "id": "Gxs0JLGXn-9N"
      },
      "source": [
        ""
      ],
      "execution_count": null,
      "outputs": []
    },
    {
      "cell_type": "markdown",
      "metadata": {
        "id": "oz7n2N3wn_QF"
      },
      "source": [
        "Stopped here"
      ]
    },
    {
      "cell_type": "code",
      "metadata": {
        "id": "kk1bUX1mDQvj"
      },
      "source": [
        "model = BertModel.from_pretrained('bert-base-uncased')\n",
        "\n"
      ],
      "execution_count": null,
      "outputs": []
    },
    {
      "cell_type": "code",
      "metadata": {
        "id": "dSCyajSuRWBC"
      },
      "source": [
        "tokens = BertTokenizer.from_pretrained('bert-base-uncased')"
      ],
      "execution_count": null,
      "outputs": []
    },
    {
      "cell_type": "code",
      "metadata": {
        "id": "QX3gf2HQIZfR"
      },
      "source": [
        "#filtered = []\n",
        "#for d in range(len(data)):\n",
        " # sample = data.loc[d][6]\n",
        "#  t = tokens(sample)[\"input_ids\"][1:-1]\n",
        "  #chunks = []\n",
        "#  for i in range(0, len(t), 500):\n",
        "   # chunks.append(tokens.decode(t[i:i+500]))\n",
        " # j = 0\n",
        " # for i in range(len(chunks)):\n",
        "  #  if data.loc[d][5] in chunks[i]:\n",
        "   #   j = i\n",
        "   #   break\n",
        "  #filtered.append(chunks[j])\n"
      ],
      "execution_count": null,
      "outputs": []
    },
    {
      "cell_type": "code",
      "metadata": {
        "id": "UyEkFiZ2KPqA"
      },
      "source": [
        "#data[\"filtered\"] = filtered\n",
        "#data.to_csv(\"data_filtered.csv\")\n"
      ],
      "execution_count": null,
      "outputs": []
    },
    {
      "cell_type": "code",
      "metadata": {
        "id": "1a_Qe-7EN2WV"
      },
      "source": [
        "data = pd.read_csv(\"data_filtered.csv\")"
      ],
      "execution_count": null,
      "outputs": []
    },
    {
      "cell_type": "markdown",
      "metadata": {
        "id": "ccP2IkBgUSIX"
      },
      "source": [
        "Crashes here trying to find hidden states"
      ]
    },
    {
      "cell_type": "code",
      "metadata": {
        "id": "LjjOLCy1KjLv"
      },
      "source": [
        "states = []\n",
        "for i in range(len(data)):  \n",
        "  if i /50 == 0:\n",
        "    print(i)\n",
        "\n",
        "  t = tokens(data.loc[i][-1], return_tensors=\"pt\")\n",
        "\n",
        "  states.append(model(**t).last_hidden_state)"
      ],
      "execution_count": null,
      "outputs": []
    },
    {
      "cell_type": "code",
      "metadata": {
        "id": "kEbcGwD-DQvk"
      },
      "source": [
        "sample = data.loc[0][6]\n",
        "count = 0\n",
        "print(len(t))\n",
        "token_col = []\n",
        "len_col = []\n",
        "for i in range(len(data)):\n",
        "  t = tokens(data.loc[i][6], return_tensors=\"pt\")\n",
        "  token_col.append(t)\n",
        "  len_col.append(t[\"input_ids\"].shape)\n",
        "  if t[\"input_ids\"].shape[1] > 512:\n",
        "    count +=1\n",
        "print(count)\n",
        "print(sample)\n",
        "t = tokens(sample, return_tensors=\"pt\", max_length=512)\n",
        "print(t[\"input_ids\"].shape[1])\n",
        "outputs = model(**t)\n",
        "last_hidden_layers = outputs.last_hidden_state\n",
        "print(last_hidden_layers.shape)"
      ],
      "execution_count": null,
      "outputs": []
    },
    {
      "cell_type": "code",
      "metadata": {
        "id": "zhbGSiIt-3l9"
      },
      "source": [
        "\n",
        "changed_text = []\n",
        "t = tokens(data.loc[0][6])\n",
        "print(tokens.decode(t[\"input_ids\"]))\n",
        "print(data.loc[0][6])\n",
        "for i in range(len(data)):\n",
        "  t = data.loc[i][6].split(' ')"
      ],
      "execution_count": null,
      "outputs": []
    },
    {
      "cell_type": "code",
      "metadata": {
        "id": "Tx-syYeLDQvl"
      },
      "source": [
        "print(len_col)"
      ],
      "execution_count": null,
      "outputs": []
    },
    {
      "cell_type": "code",
      "metadata": {
        "id": "tVBkFkZ6DQvm"
      },
      "source": [
        "data = data[data[\"token_len\"] < 512]\n",
        "print(len(data))"
      ],
      "execution_count": null,
      "outputs": []
    },
    {
      "cell_type": "code",
      "metadata": {
        "id": "A8Mu59xODQvm"
      },
      "source": [
        "from spacy.lang.en import English\n",
        "spacy_sent = spacy.load('en_core_web_sm')\n",
        "sentences = spacy_sent(data.loc[0][6]).sents\n",
        "base = torch.zeros((1,0,768))\n",
        "print(data.loc[0][6])\n",
        "for i in sentences:\n",
        "   print(i.text)\n",
        "   #t = tokens(i.text, return_tensors=\"pt\")\n",
        "   #outputs = model(**t)\n",
        "   #last_hidden_layers = outputs.last_hidden_state\n",
        "   #base = torch.cat((base, last_hidden_layers), dim=1)\n"
      ],
      "execution_count": null,
      "outputs": []
    },
    {
      "cell_type": "code",
      "metadata": {
        "id": "WpfpUJwNDQvm"
      },
      "source": [
        "print(base.shape)"
      ],
      "execution_count": null,
      "outputs": []
    },
    {
      "cell_type": "code",
      "metadata": {
        "id": "iZuuSg2XDQvn"
      },
      "source": [
        "t = tokens(data.loc[0][6], return_tensors=\"pt\")\n",
        "print(t[\"input_ids\"].shape)"
      ],
      "execution_count": null,
      "outputs": []
    },
    {
      "cell_type": "code",
      "metadata": {
        "id": "jXsGzzWxDUj3"
      },
      "source": [
        ""
      ],
      "execution_count": null,
      "outputs": []
    }
  ]
}