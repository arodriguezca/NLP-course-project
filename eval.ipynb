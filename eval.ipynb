{
  "nbformat": 4,
  "nbformat_minor": 0,
  "metadata": {
    "kernelspec": {
      "display_name": "Python 3",
      "language": "python",
      "name": "python3"
    },
    "language_info": {
      "codemirror_mode": {
        "name": "ipython",
        "version": 3
      },
      "file_extension": ".py",
      "mimetype": "text/x-python",
      "name": "python",
      "nbconvert_exporter": "python",
      "pygments_lexer": "ipython3",
      "version": "3.7.3"
    },
    "colab": {
      "name": "bert_embed_seq2seq (1).ipynb",
      "provenance": [],
      "collapsed_sections": [],
      "toc_visible": true
    },
    "accelerator": "GPU",
    "widgets": {
      "application/vnd.jupyter.widget-state+json": {
        "97b7487d432646e9b647550b59cb2534": {
          "model_module": "@jupyter-widgets/controls",
          "model_name": "HBoxModel",
          "state": {
            "_view_name": "HBoxView",
            "_dom_classes": [],
            "_model_name": "HBoxModel",
            "_view_module": "@jupyter-widgets/controls",
            "_model_module_version": "1.5.0",
            "_view_count": null,
            "_view_module_version": "1.5.0",
            "box_style": "",
            "layout": "IPY_MODEL_d54216a57f6d45078a0c1e6b4e6a6510",
            "_model_module": "@jupyter-widgets/controls",
            "children": [
              "IPY_MODEL_bc3f8dc77d614bb8a591e8e85d7f2976",
              "IPY_MODEL_98bee68569c4410b9a1beed3a136ed45"
            ]
          }
        },
        "d54216a57f6d45078a0c1e6b4e6a6510": {
          "model_module": "@jupyter-widgets/base",
          "model_name": "LayoutModel",
          "state": {
            "_view_name": "LayoutView",
            "grid_template_rows": null,
            "right": null,
            "justify_content": null,
            "_view_module": "@jupyter-widgets/base",
            "overflow": null,
            "_model_module_version": "1.2.0",
            "_view_count": null,
            "flex_flow": null,
            "width": null,
            "min_width": null,
            "border": null,
            "align_items": null,
            "bottom": null,
            "_model_module": "@jupyter-widgets/base",
            "top": null,
            "grid_column": null,
            "overflow_y": null,
            "overflow_x": null,
            "grid_auto_flow": null,
            "grid_area": null,
            "grid_template_columns": null,
            "flex": null,
            "_model_name": "LayoutModel",
            "justify_items": null,
            "grid_row": null,
            "max_height": null,
            "align_content": null,
            "visibility": null,
            "align_self": null,
            "height": null,
            "min_height": null,
            "padding": null,
            "grid_auto_rows": null,
            "grid_gap": null,
            "max_width": null,
            "order": null,
            "_view_module_version": "1.2.0",
            "grid_template_areas": null,
            "object_position": null,
            "object_fit": null,
            "grid_auto_columns": null,
            "margin": null,
            "display": null,
            "left": null
          }
        },
        "bc3f8dc77d614bb8a591e8e85d7f2976": {
          "model_module": "@jupyter-widgets/controls",
          "model_name": "FloatProgressModel",
          "state": {
            "_view_name": "ProgressView",
            "style": "IPY_MODEL_1566a844cae54cfb8e35b9db2c2d5bbc",
            "_dom_classes": [],
            "description": "Downloading: 100%",
            "_model_name": "FloatProgressModel",
            "bar_style": "success",
            "max": 231508,
            "_view_module": "@jupyter-widgets/controls",
            "_model_module_version": "1.5.0",
            "value": 231508,
            "_view_count": null,
            "_view_module_version": "1.5.0",
            "orientation": "horizontal",
            "min": 0,
            "description_tooltip": null,
            "_model_module": "@jupyter-widgets/controls",
            "layout": "IPY_MODEL_466e31e7626941849b29f3bed829394f"
          }
        },
        "98bee68569c4410b9a1beed3a136ed45": {
          "model_module": "@jupyter-widgets/controls",
          "model_name": "HTMLModel",
          "state": {
            "_view_name": "HTMLView",
            "style": "IPY_MODEL_d2fb96918e664a41b33e2219b57d3b39",
            "_dom_classes": [],
            "description": "",
            "_model_name": "HTMLModel",
            "placeholder": "​",
            "_view_module": "@jupyter-widgets/controls",
            "_model_module_version": "1.5.0",
            "value": " 232k/232k [00:00&lt;00:00, 245kB/s]",
            "_view_count": null,
            "_view_module_version": "1.5.0",
            "description_tooltip": null,
            "_model_module": "@jupyter-widgets/controls",
            "layout": "IPY_MODEL_4d3406c5d81f4c0684e9502d1f5a9e64"
          }
        },
        "1566a844cae54cfb8e35b9db2c2d5bbc": {
          "model_module": "@jupyter-widgets/controls",
          "model_name": "ProgressStyleModel",
          "state": {
            "_view_name": "StyleView",
            "_model_name": "ProgressStyleModel",
            "description_width": "initial",
            "_view_module": "@jupyter-widgets/base",
            "_model_module_version": "1.5.0",
            "_view_count": null,
            "_view_module_version": "1.2.0",
            "bar_color": null,
            "_model_module": "@jupyter-widgets/controls"
          }
        },
        "466e31e7626941849b29f3bed829394f": {
          "model_module": "@jupyter-widgets/base",
          "model_name": "LayoutModel",
          "state": {
            "_view_name": "LayoutView",
            "grid_template_rows": null,
            "right": null,
            "justify_content": null,
            "_view_module": "@jupyter-widgets/base",
            "overflow": null,
            "_model_module_version": "1.2.0",
            "_view_count": null,
            "flex_flow": null,
            "width": null,
            "min_width": null,
            "border": null,
            "align_items": null,
            "bottom": null,
            "_model_module": "@jupyter-widgets/base",
            "top": null,
            "grid_column": null,
            "overflow_y": null,
            "overflow_x": null,
            "grid_auto_flow": null,
            "grid_area": null,
            "grid_template_columns": null,
            "flex": null,
            "_model_name": "LayoutModel",
            "justify_items": null,
            "grid_row": null,
            "max_height": null,
            "align_content": null,
            "visibility": null,
            "align_self": null,
            "height": null,
            "min_height": null,
            "padding": null,
            "grid_auto_rows": null,
            "grid_gap": null,
            "max_width": null,
            "order": null,
            "_view_module_version": "1.2.0",
            "grid_template_areas": null,
            "object_position": null,
            "object_fit": null,
            "grid_auto_columns": null,
            "margin": null,
            "display": null,
            "left": null
          }
        },
        "d2fb96918e664a41b33e2219b57d3b39": {
          "model_module": "@jupyter-widgets/controls",
          "model_name": "DescriptionStyleModel",
          "state": {
            "_view_name": "StyleView",
            "_model_name": "DescriptionStyleModel",
            "description_width": "",
            "_view_module": "@jupyter-widgets/base",
            "_model_module_version": "1.5.0",
            "_view_count": null,
            "_view_module_version": "1.2.0",
            "_model_module": "@jupyter-widgets/controls"
          }
        },
        "4d3406c5d81f4c0684e9502d1f5a9e64": {
          "model_module": "@jupyter-widgets/base",
          "model_name": "LayoutModel",
          "state": {
            "_view_name": "LayoutView",
            "grid_template_rows": null,
            "right": null,
            "justify_content": null,
            "_view_module": "@jupyter-widgets/base",
            "overflow": null,
            "_model_module_version": "1.2.0",
            "_view_count": null,
            "flex_flow": null,
            "width": null,
            "min_width": null,
            "border": null,
            "align_items": null,
            "bottom": null,
            "_model_module": "@jupyter-widgets/base",
            "top": null,
            "grid_column": null,
            "overflow_y": null,
            "overflow_x": null,
            "grid_auto_flow": null,
            "grid_area": null,
            "grid_template_columns": null,
            "flex": null,
            "_model_name": "LayoutModel",
            "justify_items": null,
            "grid_row": null,
            "max_height": null,
            "align_content": null,
            "visibility": null,
            "align_self": null,
            "height": null,
            "min_height": null,
            "padding": null,
            "grid_auto_rows": null,
            "grid_gap": null,
            "max_width": null,
            "order": null,
            "_view_module_version": "1.2.0",
            "grid_template_areas": null,
            "object_position": null,
            "object_fit": null,
            "grid_auto_columns": null,
            "margin": null,
            "display": null,
            "left": null
          }
        },
        "4b77f93b000b4c338a22c2eca4b175f1": {
          "model_module": "@jupyter-widgets/controls",
          "model_name": "HBoxModel",
          "state": {
            "_view_name": "HBoxView",
            "_dom_classes": [],
            "_model_name": "HBoxModel",
            "_view_module": "@jupyter-widgets/controls",
            "_model_module_version": "1.5.0",
            "_view_count": null,
            "_view_module_version": "1.5.0",
            "box_style": "",
            "layout": "IPY_MODEL_1d6626d6b4e4435d8ee94c0ebbdd4747",
            "_model_module": "@jupyter-widgets/controls",
            "children": [
              "IPY_MODEL_02eb58fb8db04b398c188f6b52355ea8",
              "IPY_MODEL_acc04513a3314f149c50a6c4b8e84156"
            ]
          }
        },
        "1d6626d6b4e4435d8ee94c0ebbdd4747": {
          "model_module": "@jupyter-widgets/base",
          "model_name": "LayoutModel",
          "state": {
            "_view_name": "LayoutView",
            "grid_template_rows": null,
            "right": null,
            "justify_content": null,
            "_view_module": "@jupyter-widgets/base",
            "overflow": null,
            "_model_module_version": "1.2.0",
            "_view_count": null,
            "flex_flow": null,
            "width": null,
            "min_width": null,
            "border": null,
            "align_items": null,
            "bottom": null,
            "_model_module": "@jupyter-widgets/base",
            "top": null,
            "grid_column": null,
            "overflow_y": null,
            "overflow_x": null,
            "grid_auto_flow": null,
            "grid_area": null,
            "grid_template_columns": null,
            "flex": null,
            "_model_name": "LayoutModel",
            "justify_items": null,
            "grid_row": null,
            "max_height": null,
            "align_content": null,
            "visibility": null,
            "align_self": null,
            "height": null,
            "min_height": null,
            "padding": null,
            "grid_auto_rows": null,
            "grid_gap": null,
            "max_width": null,
            "order": null,
            "_view_module_version": "1.2.0",
            "grid_template_areas": null,
            "object_position": null,
            "object_fit": null,
            "grid_auto_columns": null,
            "margin": null,
            "display": null,
            "left": null
          }
        },
        "02eb58fb8db04b398c188f6b52355ea8": {
          "model_module": "@jupyter-widgets/controls",
          "model_name": "FloatProgressModel",
          "state": {
            "_view_name": "ProgressView",
            "style": "IPY_MODEL_ba07b8c4b78c4259a34880d388b967e5",
            "_dom_classes": [],
            "description": "Downloading: 100%",
            "_model_name": "FloatProgressModel",
            "bar_style": "success",
            "max": 466062,
            "_view_module": "@jupyter-widgets/controls",
            "_model_module_version": "1.5.0",
            "value": 466062,
            "_view_count": null,
            "_view_module_version": "1.5.0",
            "orientation": "horizontal",
            "min": 0,
            "description_tooltip": null,
            "_model_module": "@jupyter-widgets/controls",
            "layout": "IPY_MODEL_d000ca31a73042cdb089205a69ddc915"
          }
        },
        "acc04513a3314f149c50a6c4b8e84156": {
          "model_module": "@jupyter-widgets/controls",
          "model_name": "HTMLModel",
          "state": {
            "_view_name": "HTMLView",
            "style": "IPY_MODEL_193bcc99026c42c78bd38f87c75d420d",
            "_dom_classes": [],
            "description": "",
            "_model_name": "HTMLModel",
            "placeholder": "​",
            "_view_module": "@jupyter-widgets/controls",
            "_model_module_version": "1.5.0",
            "value": " 466k/466k [00:32&lt;00:00, 14.3kB/s]",
            "_view_count": null,
            "_view_module_version": "1.5.0",
            "description_tooltip": null,
            "_model_module": "@jupyter-widgets/controls",
            "layout": "IPY_MODEL_cdf0906d91f746adb927520d45ac041d"
          }
        },
        "ba07b8c4b78c4259a34880d388b967e5": {
          "model_module": "@jupyter-widgets/controls",
          "model_name": "ProgressStyleModel",
          "state": {
            "_view_name": "StyleView",
            "_model_name": "ProgressStyleModel",
            "description_width": "initial",
            "_view_module": "@jupyter-widgets/base",
            "_model_module_version": "1.5.0",
            "_view_count": null,
            "_view_module_version": "1.2.0",
            "bar_color": null,
            "_model_module": "@jupyter-widgets/controls"
          }
        },
        "d000ca31a73042cdb089205a69ddc915": {
          "model_module": "@jupyter-widgets/base",
          "model_name": "LayoutModel",
          "state": {
            "_view_name": "LayoutView",
            "grid_template_rows": null,
            "right": null,
            "justify_content": null,
            "_view_module": "@jupyter-widgets/base",
            "overflow": null,
            "_model_module_version": "1.2.0",
            "_view_count": null,
            "flex_flow": null,
            "width": null,
            "min_width": null,
            "border": null,
            "align_items": null,
            "bottom": null,
            "_model_module": "@jupyter-widgets/base",
            "top": null,
            "grid_column": null,
            "overflow_y": null,
            "overflow_x": null,
            "grid_auto_flow": null,
            "grid_area": null,
            "grid_template_columns": null,
            "flex": null,
            "_model_name": "LayoutModel",
            "justify_items": null,
            "grid_row": null,
            "max_height": null,
            "align_content": null,
            "visibility": null,
            "align_self": null,
            "height": null,
            "min_height": null,
            "padding": null,
            "grid_auto_rows": null,
            "grid_gap": null,
            "max_width": null,
            "order": null,
            "_view_module_version": "1.2.0",
            "grid_template_areas": null,
            "object_position": null,
            "object_fit": null,
            "grid_auto_columns": null,
            "margin": null,
            "display": null,
            "left": null
          }
        },
        "193bcc99026c42c78bd38f87c75d420d": {
          "model_module": "@jupyter-widgets/controls",
          "model_name": "DescriptionStyleModel",
          "state": {
            "_view_name": "StyleView",
            "_model_name": "DescriptionStyleModel",
            "description_width": "",
            "_view_module": "@jupyter-widgets/base",
            "_model_module_version": "1.5.0",
            "_view_count": null,
            "_view_module_version": "1.2.0",
            "_model_module": "@jupyter-widgets/controls"
          }
        },
        "cdf0906d91f746adb927520d45ac041d": {
          "model_module": "@jupyter-widgets/base",
          "model_name": "LayoutModel",
          "state": {
            "_view_name": "LayoutView",
            "grid_template_rows": null,
            "right": null,
            "justify_content": null,
            "_view_module": "@jupyter-widgets/base",
            "overflow": null,
            "_model_module_version": "1.2.0",
            "_view_count": null,
            "flex_flow": null,
            "width": null,
            "min_width": null,
            "border": null,
            "align_items": null,
            "bottom": null,
            "_model_module": "@jupyter-widgets/base",
            "top": null,
            "grid_column": null,
            "overflow_y": null,
            "overflow_x": null,
            "grid_auto_flow": null,
            "grid_area": null,
            "grid_template_columns": null,
            "flex": null,
            "_model_name": "LayoutModel",
            "justify_items": null,
            "grid_row": null,
            "max_height": null,
            "align_content": null,
            "visibility": null,
            "align_self": null,
            "height": null,
            "min_height": null,
            "padding": null,
            "grid_auto_rows": null,
            "grid_gap": null,
            "max_width": null,
            "order": null,
            "_view_module_version": "1.2.0",
            "grid_template_areas": null,
            "object_position": null,
            "object_fit": null,
            "grid_auto_columns": null,
            "margin": null,
            "display": null,
            "left": null
          }
        },
        "de415dccd55a4c94a1cfffc19e2b6247": {
          "model_module": "@jupyter-widgets/controls",
          "model_name": "HBoxModel",
          "state": {
            "_view_name": "HBoxView",
            "_dom_classes": [],
            "_model_name": "HBoxModel",
            "_view_module": "@jupyter-widgets/controls",
            "_model_module_version": "1.5.0",
            "_view_count": null,
            "_view_module_version": "1.5.0",
            "box_style": "",
            "layout": "IPY_MODEL_ae8c6097578c48c19c50d47d8ba9c07c",
            "_model_module": "@jupyter-widgets/controls",
            "children": [
              "IPY_MODEL_02a726ec3b824d56a37492e3472151c0",
              "IPY_MODEL_b00c7b35fbb04a0597064f4b2eecf72f"
            ]
          }
        },
        "ae8c6097578c48c19c50d47d8ba9c07c": {
          "model_module": "@jupyter-widgets/base",
          "model_name": "LayoutModel",
          "state": {
            "_view_name": "LayoutView",
            "grid_template_rows": null,
            "right": null,
            "justify_content": null,
            "_view_module": "@jupyter-widgets/base",
            "overflow": null,
            "_model_module_version": "1.2.0",
            "_view_count": null,
            "flex_flow": null,
            "width": null,
            "min_width": null,
            "border": null,
            "align_items": null,
            "bottom": null,
            "_model_module": "@jupyter-widgets/base",
            "top": null,
            "grid_column": null,
            "overflow_y": null,
            "overflow_x": null,
            "grid_auto_flow": null,
            "grid_area": null,
            "grid_template_columns": null,
            "flex": null,
            "_model_name": "LayoutModel",
            "justify_items": null,
            "grid_row": null,
            "max_height": null,
            "align_content": null,
            "visibility": null,
            "align_self": null,
            "height": null,
            "min_height": null,
            "padding": null,
            "grid_auto_rows": null,
            "grid_gap": null,
            "max_width": null,
            "order": null,
            "_view_module_version": "1.2.0",
            "grid_template_areas": null,
            "object_position": null,
            "object_fit": null,
            "grid_auto_columns": null,
            "margin": null,
            "display": null,
            "left": null
          }
        },
        "02a726ec3b824d56a37492e3472151c0": {
          "model_module": "@jupyter-widgets/controls",
          "model_name": "FloatProgressModel",
          "state": {
            "_view_name": "ProgressView",
            "style": "IPY_MODEL_31baa27516034256bcc2863984c5084a",
            "_dom_classes": [],
            "description": "Downloading: 100%",
            "_model_name": "FloatProgressModel",
            "bar_style": "success",
            "max": 28,
            "_view_module": "@jupyter-widgets/controls",
            "_model_module_version": "1.5.0",
            "value": 28,
            "_view_count": null,
            "_view_module_version": "1.5.0",
            "orientation": "horizontal",
            "min": 0,
            "description_tooltip": null,
            "_model_module": "@jupyter-widgets/controls",
            "layout": "IPY_MODEL_38575834ee5949f5be0a565e0d779420"
          }
        },
        "b00c7b35fbb04a0597064f4b2eecf72f": {
          "model_module": "@jupyter-widgets/controls",
          "model_name": "HTMLModel",
          "state": {
            "_view_name": "HTMLView",
            "style": "IPY_MODEL_70e0f7a8a9f348df9dee4f9d94684469",
            "_dom_classes": [],
            "description": "",
            "_model_name": "HTMLModel",
            "placeholder": "​",
            "_view_module": "@jupyter-widgets/controls",
            "_model_module_version": "1.5.0",
            "value": " 28.0/28.0 [00:08&lt;00:00, 3.33B/s]",
            "_view_count": null,
            "_view_module_version": "1.5.0",
            "description_tooltip": null,
            "_model_module": "@jupyter-widgets/controls",
            "layout": "IPY_MODEL_5ae2e548a5fd423b8e602ff705cb0fe9"
          }
        },
        "31baa27516034256bcc2863984c5084a": {
          "model_module": "@jupyter-widgets/controls",
          "model_name": "ProgressStyleModel",
          "state": {
            "_view_name": "StyleView",
            "_model_name": "ProgressStyleModel",
            "description_width": "initial",
            "_view_module": "@jupyter-widgets/base",
            "_model_module_version": "1.5.0",
            "_view_count": null,
            "_view_module_version": "1.2.0",
            "bar_color": null,
            "_model_module": "@jupyter-widgets/controls"
          }
        },
        "38575834ee5949f5be0a565e0d779420": {
          "model_module": "@jupyter-widgets/base",
          "model_name": "LayoutModel",
          "state": {
            "_view_name": "LayoutView",
            "grid_template_rows": null,
            "right": null,
            "justify_content": null,
            "_view_module": "@jupyter-widgets/base",
            "overflow": null,
            "_model_module_version": "1.2.0",
            "_view_count": null,
            "flex_flow": null,
            "width": null,
            "min_width": null,
            "border": null,
            "align_items": null,
            "bottom": null,
            "_model_module": "@jupyter-widgets/base",
            "top": null,
            "grid_column": null,
            "overflow_y": null,
            "overflow_x": null,
            "grid_auto_flow": null,
            "grid_area": null,
            "grid_template_columns": null,
            "flex": null,
            "_model_name": "LayoutModel",
            "justify_items": null,
            "grid_row": null,
            "max_height": null,
            "align_content": null,
            "visibility": null,
            "align_self": null,
            "height": null,
            "min_height": null,
            "padding": null,
            "grid_auto_rows": null,
            "grid_gap": null,
            "max_width": null,
            "order": null,
            "_view_module_version": "1.2.0",
            "grid_template_areas": null,
            "object_position": null,
            "object_fit": null,
            "grid_auto_columns": null,
            "margin": null,
            "display": null,
            "left": null
          }
        },
        "70e0f7a8a9f348df9dee4f9d94684469": {
          "model_module": "@jupyter-widgets/controls",
          "model_name": "DescriptionStyleModel",
          "state": {
            "_view_name": "StyleView",
            "_model_name": "DescriptionStyleModel",
            "description_width": "",
            "_view_module": "@jupyter-widgets/base",
            "_model_module_version": "1.5.0",
            "_view_count": null,
            "_view_module_version": "1.2.0",
            "_model_module": "@jupyter-widgets/controls"
          }
        },
        "5ae2e548a5fd423b8e602ff705cb0fe9": {
          "model_module": "@jupyter-widgets/base",
          "model_name": "LayoutModel",
          "state": {
            "_view_name": "LayoutView",
            "grid_template_rows": null,
            "right": null,
            "justify_content": null,
            "_view_module": "@jupyter-widgets/base",
            "overflow": null,
            "_model_module_version": "1.2.0",
            "_view_count": null,
            "flex_flow": null,
            "width": null,
            "min_width": null,
            "border": null,
            "align_items": null,
            "bottom": null,
            "_model_module": "@jupyter-widgets/base",
            "top": null,
            "grid_column": null,
            "overflow_y": null,
            "overflow_x": null,
            "grid_auto_flow": null,
            "grid_area": null,
            "grid_template_columns": null,
            "flex": null,
            "_model_name": "LayoutModel",
            "justify_items": null,
            "grid_row": null,
            "max_height": null,
            "align_content": null,
            "visibility": null,
            "align_self": null,
            "height": null,
            "min_height": null,
            "padding": null,
            "grid_auto_rows": null,
            "grid_gap": null,
            "max_width": null,
            "order": null,
            "_view_module_version": "1.2.0",
            "grid_template_areas": null,
            "object_position": null,
            "object_fit": null,
            "grid_auto_columns": null,
            "margin": null,
            "display": null,
            "left": null
          }
        },
        "d328e84e157c4b3da9edde69f3630685": {
          "model_module": "@jupyter-widgets/controls",
          "model_name": "HBoxModel",
          "state": {
            "_view_name": "HBoxView",
            "_dom_classes": [],
            "_model_name": "HBoxModel",
            "_view_module": "@jupyter-widgets/controls",
            "_model_module_version": "1.5.0",
            "_view_count": null,
            "_view_module_version": "1.5.0",
            "box_style": "",
            "layout": "IPY_MODEL_f0ff29e049864c1aae64adcf0ed69ab1",
            "_model_module": "@jupyter-widgets/controls",
            "children": [
              "IPY_MODEL_2078efb3f1c04948bfd5881ab5d3bf15",
              "IPY_MODEL_0bb1dbb640174b6aa3e6f7904fc119d9"
            ]
          }
        },
        "f0ff29e049864c1aae64adcf0ed69ab1": {
          "model_module": "@jupyter-widgets/base",
          "model_name": "LayoutModel",
          "state": {
            "_view_name": "LayoutView",
            "grid_template_rows": null,
            "right": null,
            "justify_content": null,
            "_view_module": "@jupyter-widgets/base",
            "overflow": null,
            "_model_module_version": "1.2.0",
            "_view_count": null,
            "flex_flow": null,
            "width": null,
            "min_width": null,
            "border": null,
            "align_items": null,
            "bottom": null,
            "_model_module": "@jupyter-widgets/base",
            "top": null,
            "grid_column": null,
            "overflow_y": null,
            "overflow_x": null,
            "grid_auto_flow": null,
            "grid_area": null,
            "grid_template_columns": null,
            "flex": null,
            "_model_name": "LayoutModel",
            "justify_items": null,
            "grid_row": null,
            "max_height": null,
            "align_content": null,
            "visibility": null,
            "align_self": null,
            "height": null,
            "min_height": null,
            "padding": null,
            "grid_auto_rows": null,
            "grid_gap": null,
            "max_width": null,
            "order": null,
            "_view_module_version": "1.2.0",
            "grid_template_areas": null,
            "object_position": null,
            "object_fit": null,
            "grid_auto_columns": null,
            "margin": null,
            "display": null,
            "left": null
          }
        },
        "2078efb3f1c04948bfd5881ab5d3bf15": {
          "model_module": "@jupyter-widgets/controls",
          "model_name": "FloatProgressModel",
          "state": {
            "_view_name": "ProgressView",
            "style": "IPY_MODEL_1ad18877b63841da80c55902bbd47c2f",
            "_dom_classes": [],
            "description": "training:  60%",
            "_model_name": "FloatProgressModel",
            "bar_style": "",
            "max": 10,
            "_view_module": "@jupyter-widgets/controls",
            "_model_module_version": "1.5.0",
            "value": 6,
            "_view_count": null,
            "_view_module_version": "1.5.0",
            "orientation": "horizontal",
            "min": 0,
            "description_tooltip": null,
            "_model_module": "@jupyter-widgets/controls",
            "layout": "IPY_MODEL_9420faf1a5034b74bea0e488809b58e2"
          }
        },
        "0bb1dbb640174b6aa3e6f7904fc119d9": {
          "model_module": "@jupyter-widgets/controls",
          "model_name": "HTMLModel",
          "state": {
            "_view_name": "HTMLView",
            "style": "IPY_MODEL_8d553b0686b447c783a501962dbdd8c8",
            "_dom_classes": [],
            "description": "",
            "_model_name": "HTMLModel",
            "placeholder": "​",
            "_view_module": "@jupyter-widgets/controls",
            "_model_module_version": "1.5.0",
            "value": " 6/10 [1:06:56&lt;44:38, 669.72s/epoch]",
            "_view_count": null,
            "_view_module_version": "1.5.0",
            "description_tooltip": null,
            "_model_module": "@jupyter-widgets/controls",
            "layout": "IPY_MODEL_a0c04cdc8dcd4319927599b8d3661a87"
          }
        },
        "1ad18877b63841da80c55902bbd47c2f": {
          "model_module": "@jupyter-widgets/controls",
          "model_name": "ProgressStyleModel",
          "state": {
            "_view_name": "StyleView",
            "_model_name": "ProgressStyleModel",
            "description_width": "initial",
            "_view_module": "@jupyter-widgets/base",
            "_model_module_version": "1.5.0",
            "_view_count": null,
            "_view_module_version": "1.2.0",
            "bar_color": null,
            "_model_module": "@jupyter-widgets/controls"
          }
        },
        "9420faf1a5034b74bea0e488809b58e2": {
          "model_module": "@jupyter-widgets/base",
          "model_name": "LayoutModel",
          "state": {
            "_view_name": "LayoutView",
            "grid_template_rows": null,
            "right": null,
            "justify_content": null,
            "_view_module": "@jupyter-widgets/base",
            "overflow": null,
            "_model_module_version": "1.2.0",
            "_view_count": null,
            "flex_flow": null,
            "width": null,
            "min_width": null,
            "border": null,
            "align_items": null,
            "bottom": null,
            "_model_module": "@jupyter-widgets/base",
            "top": null,
            "grid_column": null,
            "overflow_y": null,
            "overflow_x": null,
            "grid_auto_flow": null,
            "grid_area": null,
            "grid_template_columns": null,
            "flex": null,
            "_model_name": "LayoutModel",
            "justify_items": null,
            "grid_row": null,
            "max_height": null,
            "align_content": null,
            "visibility": null,
            "align_self": null,
            "height": null,
            "min_height": null,
            "padding": null,
            "grid_auto_rows": null,
            "grid_gap": null,
            "max_width": null,
            "order": null,
            "_view_module_version": "1.2.0",
            "grid_template_areas": null,
            "object_position": null,
            "object_fit": null,
            "grid_auto_columns": null,
            "margin": null,
            "display": null,
            "left": null
          }
        },
        "8d553b0686b447c783a501962dbdd8c8": {
          "model_module": "@jupyter-widgets/controls",
          "model_name": "DescriptionStyleModel",
          "state": {
            "_view_name": "StyleView",
            "_model_name": "DescriptionStyleModel",
            "description_width": "",
            "_view_module": "@jupyter-widgets/base",
            "_model_module_version": "1.5.0",
            "_view_count": null,
            "_view_module_version": "1.2.0",
            "_model_module": "@jupyter-widgets/controls"
          }
        },
        "a0c04cdc8dcd4319927599b8d3661a87": {
          "model_module": "@jupyter-widgets/base",
          "model_name": "LayoutModel",
          "state": {
            "_view_name": "LayoutView",
            "grid_template_rows": null,
            "right": null,
            "justify_content": null,
            "_view_module": "@jupyter-widgets/base",
            "overflow": null,
            "_model_module_version": "1.2.0",
            "_view_count": null,
            "flex_flow": null,
            "width": null,
            "min_width": null,
            "border": null,
            "align_items": null,
            "bottom": null,
            "_model_module": "@jupyter-widgets/base",
            "top": null,
            "grid_column": null,
            "overflow_y": null,
            "overflow_x": null,
            "grid_auto_flow": null,
            "grid_area": null,
            "grid_template_columns": null,
            "flex": null,
            "_model_name": "LayoutModel",
            "justify_items": null,
            "grid_row": null,
            "max_height": null,
            "align_content": null,
            "visibility": null,
            "align_self": null,
            "height": null,
            "min_height": null,
            "padding": null,
            "grid_auto_rows": null,
            "grid_gap": null,
            "max_width": null,
            "order": null,
            "_view_module_version": "1.2.0",
            "grid_template_areas": null,
            "object_position": null,
            "object_fit": null,
            "grid_auto_columns": null,
            "margin": null,
            "display": null,
            "left": null
          }
        },
        "c453c380e0b34432b054cd502a30c8b1": {
          "model_module": "@jupyter-widgets/controls",
          "model_name": "HBoxModel",
          "state": {
            "_view_name": "HBoxView",
            "_dom_classes": [],
            "_model_name": "HBoxModel",
            "_view_module": "@jupyter-widgets/controls",
            "_model_module_version": "1.5.0",
            "_view_count": null,
            "_view_module_version": "1.5.0",
            "box_style": "",
            "layout": "IPY_MODEL_ea6f3b29f4cb4f42a907ef21e3404d86",
            "_model_module": "@jupyter-widgets/controls",
            "children": [
              "IPY_MODEL_c5c936bcca2641ca99f4965ef88c0855",
              "IPY_MODEL_3c69e8e8d2174ba3b1044baf0079b21a"
            ]
          }
        },
        "ea6f3b29f4cb4f42a907ef21e3404d86": {
          "model_module": "@jupyter-widgets/base",
          "model_name": "LayoutModel",
          "state": {
            "_view_name": "LayoutView",
            "grid_template_rows": null,
            "right": null,
            "justify_content": null,
            "_view_module": "@jupyter-widgets/base",
            "overflow": null,
            "_model_module_version": "1.2.0",
            "_view_count": null,
            "flex_flow": null,
            "width": null,
            "min_width": null,
            "border": null,
            "align_items": null,
            "bottom": null,
            "_model_module": "@jupyter-widgets/base",
            "top": null,
            "grid_column": null,
            "overflow_y": null,
            "overflow_x": null,
            "grid_auto_flow": null,
            "grid_area": null,
            "grid_template_columns": null,
            "flex": null,
            "_model_name": "LayoutModel",
            "justify_items": null,
            "grid_row": null,
            "max_height": null,
            "align_content": null,
            "visibility": null,
            "align_self": null,
            "height": null,
            "min_height": null,
            "padding": null,
            "grid_auto_rows": null,
            "grid_gap": null,
            "max_width": null,
            "order": null,
            "_view_module_version": "1.2.0",
            "grid_template_areas": null,
            "object_position": null,
            "object_fit": null,
            "grid_auto_columns": null,
            "margin": null,
            "display": null,
            "left": null
          }
        },
        "c5c936bcca2641ca99f4965ef88c0855": {
          "model_module": "@jupyter-widgets/controls",
          "model_name": "FloatProgressModel",
          "state": {
            "_view_name": "ProgressView",
            "style": "IPY_MODEL_57111519b92f47bfa45cd32b9a06cc91",
            "_dom_classes": [],
            "description": "epoch 1: 100%",
            "_model_name": "FloatProgressModel",
            "bar_style": "success",
            "max": 500,
            "_view_module": "@jupyter-widgets/controls",
            "_model_module_version": "1.5.0",
            "value": 500,
            "_view_count": null,
            "_view_module_version": "1.5.0",
            "orientation": "horizontal",
            "min": 0,
            "description_tooltip": null,
            "_model_module": "@jupyter-widgets/controls",
            "layout": "IPY_MODEL_77a71e691b6f4f56a9bc89b07c9ee26e"
          }
        },
        "3c69e8e8d2174ba3b1044baf0079b21a": {
          "model_module": "@jupyter-widgets/controls",
          "model_name": "HTMLModel",
          "state": {
            "_view_name": "HTMLView",
            "style": "IPY_MODEL_d6cdf352b5fc4894937fb67e03ac214d",
            "_dom_classes": [],
            "description": "",
            "_model_name": "HTMLModel",
            "placeholder": "​",
            "_view_module": "@jupyter-widgets/controls",
            "_model_module_version": "1.5.0",
            "value": " 500/500 [11:00&lt;00:00,  1.32s/batch, current_loss=2.58, mean_loss=5.57]",
            "_view_count": null,
            "_view_module_version": "1.5.0",
            "description_tooltip": null,
            "_model_module": "@jupyter-widgets/controls",
            "layout": "IPY_MODEL_3117dd2a230542039d589ab3e2229e33"
          }
        },
        "57111519b92f47bfa45cd32b9a06cc91": {
          "model_module": "@jupyter-widgets/controls",
          "model_name": "ProgressStyleModel",
          "state": {
            "_view_name": "StyleView",
            "_model_name": "ProgressStyleModel",
            "description_width": "initial",
            "_view_module": "@jupyter-widgets/base",
            "_model_module_version": "1.5.0",
            "_view_count": null,
            "_view_module_version": "1.2.0",
            "bar_color": null,
            "_model_module": "@jupyter-widgets/controls"
          }
        },
        "77a71e691b6f4f56a9bc89b07c9ee26e": {
          "model_module": "@jupyter-widgets/base",
          "model_name": "LayoutModel",
          "state": {
            "_view_name": "LayoutView",
            "grid_template_rows": null,
            "right": null,
            "justify_content": null,
            "_view_module": "@jupyter-widgets/base",
            "overflow": null,
            "_model_module_version": "1.2.0",
            "_view_count": null,
            "flex_flow": null,
            "width": null,
            "min_width": null,
            "border": null,
            "align_items": null,
            "bottom": null,
            "_model_module": "@jupyter-widgets/base",
            "top": null,
            "grid_column": null,
            "overflow_y": null,
            "overflow_x": null,
            "grid_auto_flow": null,
            "grid_area": null,
            "grid_template_columns": null,
            "flex": null,
            "_model_name": "LayoutModel",
            "justify_items": null,
            "grid_row": null,
            "max_height": null,
            "align_content": null,
            "visibility": null,
            "align_self": null,
            "height": null,
            "min_height": null,
            "padding": null,
            "grid_auto_rows": null,
            "grid_gap": null,
            "max_width": null,
            "order": null,
            "_view_module_version": "1.2.0",
            "grid_template_areas": null,
            "object_position": null,
            "object_fit": null,
            "grid_auto_columns": null,
            "margin": null,
            "display": null,
            "left": null
          }
        },
        "d6cdf352b5fc4894937fb67e03ac214d": {
          "model_module": "@jupyter-widgets/controls",
          "model_name": "DescriptionStyleModel",
          "state": {
            "_view_name": "StyleView",
            "_model_name": "DescriptionStyleModel",
            "description_width": "",
            "_view_module": "@jupyter-widgets/base",
            "_model_module_version": "1.5.0",
            "_view_count": null,
            "_view_module_version": "1.2.0",
            "_model_module": "@jupyter-widgets/controls"
          }
        },
        "3117dd2a230542039d589ab3e2229e33": {
          "model_module": "@jupyter-widgets/base",
          "model_name": "LayoutModel",
          "state": {
            "_view_name": "LayoutView",
            "grid_template_rows": null,
            "right": null,
            "justify_content": null,
            "_view_module": "@jupyter-widgets/base",
            "overflow": null,
            "_model_module_version": "1.2.0",
            "_view_count": null,
            "flex_flow": null,
            "width": null,
            "min_width": null,
            "border": null,
            "align_items": null,
            "bottom": null,
            "_model_module": "@jupyter-widgets/base",
            "top": null,
            "grid_column": null,
            "overflow_y": null,
            "overflow_x": null,
            "grid_auto_flow": null,
            "grid_area": null,
            "grid_template_columns": null,
            "flex": null,
            "_model_name": "LayoutModel",
            "justify_items": null,
            "grid_row": null,
            "max_height": null,
            "align_content": null,
            "visibility": null,
            "align_self": null,
            "height": null,
            "min_height": null,
            "padding": null,
            "grid_auto_rows": null,
            "grid_gap": null,
            "max_width": null,
            "order": null,
            "_view_module_version": "1.2.0",
            "grid_template_areas": null,
            "object_position": null,
            "object_fit": null,
            "grid_auto_columns": null,
            "margin": null,
            "display": null,
            "left": null
          }
        },
        "ecd038cf084342f8be73ed8a52e1f78f": {
          "model_module": "@jupyter-widgets/controls",
          "model_name": "HBoxModel",
          "state": {
            "_view_name": "HBoxView",
            "_dom_classes": [],
            "_model_name": "HBoxModel",
            "_view_module": "@jupyter-widgets/controls",
            "_model_module_version": "1.5.0",
            "_view_count": null,
            "_view_module_version": "1.5.0",
            "box_style": "",
            "layout": "IPY_MODEL_b8de7248349a4ca78375220e62ce4e98",
            "_model_module": "@jupyter-widgets/controls",
            "children": [
              "IPY_MODEL_f213283a936f49fbb716334b12c7f6c9",
              "IPY_MODEL_420f225deb0847eaa458ae2c617e2183"
            ]
          }
        },
        "b8de7248349a4ca78375220e62ce4e98": {
          "model_module": "@jupyter-widgets/base",
          "model_name": "LayoutModel",
          "state": {
            "_view_name": "LayoutView",
            "grid_template_rows": null,
            "right": null,
            "justify_content": null,
            "_view_module": "@jupyter-widgets/base",
            "overflow": null,
            "_model_module_version": "1.2.0",
            "_view_count": null,
            "flex_flow": null,
            "width": null,
            "min_width": null,
            "border": null,
            "align_items": null,
            "bottom": null,
            "_model_module": "@jupyter-widgets/base",
            "top": null,
            "grid_column": null,
            "overflow_y": null,
            "overflow_x": null,
            "grid_auto_flow": null,
            "grid_area": null,
            "grid_template_columns": null,
            "flex": null,
            "_model_name": "LayoutModel",
            "justify_items": null,
            "grid_row": null,
            "max_height": null,
            "align_content": null,
            "visibility": null,
            "align_self": null,
            "height": null,
            "min_height": null,
            "padding": null,
            "grid_auto_rows": null,
            "grid_gap": null,
            "max_width": null,
            "order": null,
            "_view_module_version": "1.2.0",
            "grid_template_areas": null,
            "object_position": null,
            "object_fit": null,
            "grid_auto_columns": null,
            "margin": null,
            "display": null,
            "left": null
          }
        },
        "f213283a936f49fbb716334b12c7f6c9": {
          "model_module": "@jupyter-widgets/controls",
          "model_name": "FloatProgressModel",
          "state": {
            "_view_name": "ProgressView",
            "style": "IPY_MODEL_4be9c2def367474a8d83d4d2e5d31ab5",
            "_dom_classes": [],
            "description": "epoch 2: 100%",
            "_model_name": "FloatProgressModel",
            "bar_style": "success",
            "max": 500,
            "_view_module": "@jupyter-widgets/controls",
            "_model_module_version": "1.5.0",
            "value": 500,
            "_view_count": null,
            "_view_module_version": "1.5.0",
            "orientation": "horizontal",
            "min": 0,
            "description_tooltip": null,
            "_model_module": "@jupyter-widgets/controls",
            "layout": "IPY_MODEL_675df5e77845451e8d7e50e9a4541f50"
          }
        },
        "420f225deb0847eaa458ae2c617e2183": {
          "model_module": "@jupyter-widgets/controls",
          "model_name": "HTMLModel",
          "state": {
            "_view_name": "HTMLView",
            "style": "IPY_MODEL_7b69469fb8004f10ae946c525edd5d0a",
            "_dom_classes": [],
            "description": "",
            "_model_name": "HTMLModel",
            "placeholder": "​",
            "_view_module": "@jupyter-widgets/controls",
            "_model_module_version": "1.5.0",
            "value": " 500/500 [11:04&lt;00:00,  1.33s/batch, current_loss=0.508, mean_loss=3.63]",
            "_view_count": null,
            "_view_module_version": "1.5.0",
            "description_tooltip": null,
            "_model_module": "@jupyter-widgets/controls",
            "layout": "IPY_MODEL_eaba57181e35495da8d0b7d6e7856efa"
          }
        },
        "4be9c2def367474a8d83d4d2e5d31ab5": {
          "model_module": "@jupyter-widgets/controls",
          "model_name": "ProgressStyleModel",
          "state": {
            "_view_name": "StyleView",
            "_model_name": "ProgressStyleModel",
            "description_width": "initial",
            "_view_module": "@jupyter-widgets/base",
            "_model_module_version": "1.5.0",
            "_view_count": null,
            "_view_module_version": "1.2.0",
            "bar_color": null,
            "_model_module": "@jupyter-widgets/controls"
          }
        },
        "675df5e77845451e8d7e50e9a4541f50": {
          "model_module": "@jupyter-widgets/base",
          "model_name": "LayoutModel",
          "state": {
            "_view_name": "LayoutView",
            "grid_template_rows": null,
            "right": null,
            "justify_content": null,
            "_view_module": "@jupyter-widgets/base",
            "overflow": null,
            "_model_module_version": "1.2.0",
            "_view_count": null,
            "flex_flow": null,
            "width": null,
            "min_width": null,
            "border": null,
            "align_items": null,
            "bottom": null,
            "_model_module": "@jupyter-widgets/base",
            "top": null,
            "grid_column": null,
            "overflow_y": null,
            "overflow_x": null,
            "grid_auto_flow": null,
            "grid_area": null,
            "grid_template_columns": null,
            "flex": null,
            "_model_name": "LayoutModel",
            "justify_items": null,
            "grid_row": null,
            "max_height": null,
            "align_content": null,
            "visibility": null,
            "align_self": null,
            "height": null,
            "min_height": null,
            "padding": null,
            "grid_auto_rows": null,
            "grid_gap": null,
            "max_width": null,
            "order": null,
            "_view_module_version": "1.2.0",
            "grid_template_areas": null,
            "object_position": null,
            "object_fit": null,
            "grid_auto_columns": null,
            "margin": null,
            "display": null,
            "left": null
          }
        },
        "7b69469fb8004f10ae946c525edd5d0a": {
          "model_module": "@jupyter-widgets/controls",
          "model_name": "DescriptionStyleModel",
          "state": {
            "_view_name": "StyleView",
            "_model_name": "DescriptionStyleModel",
            "description_width": "",
            "_view_module": "@jupyter-widgets/base",
            "_model_module_version": "1.5.0",
            "_view_count": null,
            "_view_module_version": "1.2.0",
            "_model_module": "@jupyter-widgets/controls"
          }
        },
        "eaba57181e35495da8d0b7d6e7856efa": {
          "model_module": "@jupyter-widgets/base",
          "model_name": "LayoutModel",
          "state": {
            "_view_name": "LayoutView",
            "grid_template_rows": null,
            "right": null,
            "justify_content": null,
            "_view_module": "@jupyter-widgets/base",
            "overflow": null,
            "_model_module_version": "1.2.0",
            "_view_count": null,
            "flex_flow": null,
            "width": null,
            "min_width": null,
            "border": null,
            "align_items": null,
            "bottom": null,
            "_model_module": "@jupyter-widgets/base",
            "top": null,
            "grid_column": null,
            "overflow_y": null,
            "overflow_x": null,
            "grid_auto_flow": null,
            "grid_area": null,
            "grid_template_columns": null,
            "flex": null,
            "_model_name": "LayoutModel",
            "justify_items": null,
            "grid_row": null,
            "max_height": null,
            "align_content": null,
            "visibility": null,
            "align_self": null,
            "height": null,
            "min_height": null,
            "padding": null,
            "grid_auto_rows": null,
            "grid_gap": null,
            "max_width": null,
            "order": null,
            "_view_module_version": "1.2.0",
            "grid_template_areas": null,
            "object_position": null,
            "object_fit": null,
            "grid_auto_columns": null,
            "margin": null,
            "display": null,
            "left": null
          }
        },
        "c3de77f4c3604197a6ee8c5344e18986": {
          "model_module": "@jupyter-widgets/controls",
          "model_name": "HBoxModel",
          "state": {
            "_view_name": "HBoxView",
            "_dom_classes": [],
            "_model_name": "HBoxModel",
            "_view_module": "@jupyter-widgets/controls",
            "_model_module_version": "1.5.0",
            "_view_count": null,
            "_view_module_version": "1.5.0",
            "box_style": "",
            "layout": "IPY_MODEL_7dadf2620dd04f80936ce5159c37e507",
            "_model_module": "@jupyter-widgets/controls",
            "children": [
              "IPY_MODEL_c88628d9c277447c9f51a31762c1a06a",
              "IPY_MODEL_2dfc8d377c5141a0a5d45dc211adf1fb"
            ]
          }
        },
        "7dadf2620dd04f80936ce5159c37e507": {
          "model_module": "@jupyter-widgets/base",
          "model_name": "LayoutModel",
          "state": {
            "_view_name": "LayoutView",
            "grid_template_rows": null,
            "right": null,
            "justify_content": null,
            "_view_module": "@jupyter-widgets/base",
            "overflow": null,
            "_model_module_version": "1.2.0",
            "_view_count": null,
            "flex_flow": null,
            "width": null,
            "min_width": null,
            "border": null,
            "align_items": null,
            "bottom": null,
            "_model_module": "@jupyter-widgets/base",
            "top": null,
            "grid_column": null,
            "overflow_y": null,
            "overflow_x": null,
            "grid_auto_flow": null,
            "grid_area": null,
            "grid_template_columns": null,
            "flex": null,
            "_model_name": "LayoutModel",
            "justify_items": null,
            "grid_row": null,
            "max_height": null,
            "align_content": null,
            "visibility": null,
            "align_self": null,
            "height": null,
            "min_height": null,
            "padding": null,
            "grid_auto_rows": null,
            "grid_gap": null,
            "max_width": null,
            "order": null,
            "_view_module_version": "1.2.0",
            "grid_template_areas": null,
            "object_position": null,
            "object_fit": null,
            "grid_auto_columns": null,
            "margin": null,
            "display": null,
            "left": null
          }
        },
        "c88628d9c277447c9f51a31762c1a06a": {
          "model_module": "@jupyter-widgets/controls",
          "model_name": "FloatProgressModel",
          "state": {
            "_view_name": "ProgressView",
            "style": "IPY_MODEL_f1d157717d4649cfbb72ffe8dc5b0e1e",
            "_dom_classes": [],
            "description": "epoch 3: 100%",
            "_model_name": "FloatProgressModel",
            "bar_style": "success",
            "max": 500,
            "_view_module": "@jupyter-widgets/controls",
            "_model_module_version": "1.5.0",
            "value": 500,
            "_view_count": null,
            "_view_module_version": "1.5.0",
            "orientation": "horizontal",
            "min": 0,
            "description_tooltip": null,
            "_model_module": "@jupyter-widgets/controls",
            "layout": "IPY_MODEL_1bd1291ac8b74838845bcf9a4e38bc84"
          }
        },
        "2dfc8d377c5141a0a5d45dc211adf1fb": {
          "model_module": "@jupyter-widgets/controls",
          "model_name": "HTMLModel",
          "state": {
            "_view_name": "HTMLView",
            "style": "IPY_MODEL_39f847ede09d496eb280bfba5fe1aa08",
            "_dom_classes": [],
            "description": "",
            "_model_name": "HTMLModel",
            "placeholder": "​",
            "_view_module": "@jupyter-widgets/controls",
            "_model_module_version": "1.5.0",
            "value": " 500/500 [11:14&lt;00:00,  1.35s/batch, current_loss=4.2, mean_loss=3.01]",
            "_view_count": null,
            "_view_module_version": "1.5.0",
            "description_tooltip": null,
            "_model_module": "@jupyter-widgets/controls",
            "layout": "IPY_MODEL_e7e513e012f2488f8c03fee1ca0a0ea7"
          }
        },
        "f1d157717d4649cfbb72ffe8dc5b0e1e": {
          "model_module": "@jupyter-widgets/controls",
          "model_name": "ProgressStyleModel",
          "state": {
            "_view_name": "StyleView",
            "_model_name": "ProgressStyleModel",
            "description_width": "initial",
            "_view_module": "@jupyter-widgets/base",
            "_model_module_version": "1.5.0",
            "_view_count": null,
            "_view_module_version": "1.2.0",
            "bar_color": null,
            "_model_module": "@jupyter-widgets/controls"
          }
        },
        "1bd1291ac8b74838845bcf9a4e38bc84": {
          "model_module": "@jupyter-widgets/base",
          "model_name": "LayoutModel",
          "state": {
            "_view_name": "LayoutView",
            "grid_template_rows": null,
            "right": null,
            "justify_content": null,
            "_view_module": "@jupyter-widgets/base",
            "overflow": null,
            "_model_module_version": "1.2.0",
            "_view_count": null,
            "flex_flow": null,
            "width": null,
            "min_width": null,
            "border": null,
            "align_items": null,
            "bottom": null,
            "_model_module": "@jupyter-widgets/base",
            "top": null,
            "grid_column": null,
            "overflow_y": null,
            "overflow_x": null,
            "grid_auto_flow": null,
            "grid_area": null,
            "grid_template_columns": null,
            "flex": null,
            "_model_name": "LayoutModel",
            "justify_items": null,
            "grid_row": null,
            "max_height": null,
            "align_content": null,
            "visibility": null,
            "align_self": null,
            "height": null,
            "min_height": null,
            "padding": null,
            "grid_auto_rows": null,
            "grid_gap": null,
            "max_width": null,
            "order": null,
            "_view_module_version": "1.2.0",
            "grid_template_areas": null,
            "object_position": null,
            "object_fit": null,
            "grid_auto_columns": null,
            "margin": null,
            "display": null,
            "left": null
          }
        },
        "39f847ede09d496eb280bfba5fe1aa08": {
          "model_module": "@jupyter-widgets/controls",
          "model_name": "DescriptionStyleModel",
          "state": {
            "_view_name": "StyleView",
            "_model_name": "DescriptionStyleModel",
            "description_width": "",
            "_view_module": "@jupyter-widgets/base",
            "_model_module_version": "1.5.0",
            "_view_count": null,
            "_view_module_version": "1.2.0",
            "_model_module": "@jupyter-widgets/controls"
          }
        },
        "e7e513e012f2488f8c03fee1ca0a0ea7": {
          "model_module": "@jupyter-widgets/base",
          "model_name": "LayoutModel",
          "state": {
            "_view_name": "LayoutView",
            "grid_template_rows": null,
            "right": null,
            "justify_content": null,
            "_view_module": "@jupyter-widgets/base",
            "overflow": null,
            "_model_module_version": "1.2.0",
            "_view_count": null,
            "flex_flow": null,
            "width": null,
            "min_width": null,
            "border": null,
            "align_items": null,
            "bottom": null,
            "_model_module": "@jupyter-widgets/base",
            "top": null,
            "grid_column": null,
            "overflow_y": null,
            "overflow_x": null,
            "grid_auto_flow": null,
            "grid_area": null,
            "grid_template_columns": null,
            "flex": null,
            "_model_name": "LayoutModel",
            "justify_items": null,
            "grid_row": null,
            "max_height": null,
            "align_content": null,
            "visibility": null,
            "align_self": null,
            "height": null,
            "min_height": null,
            "padding": null,
            "grid_auto_rows": null,
            "grid_gap": null,
            "max_width": null,
            "order": null,
            "_view_module_version": "1.2.0",
            "grid_template_areas": null,
            "object_position": null,
            "object_fit": null,
            "grid_auto_columns": null,
            "margin": null,
            "display": null,
            "left": null
          }
        },
        "e5246306a95f4fddbd54ca63df9ec2bd": {
          "model_module": "@jupyter-widgets/controls",
          "model_name": "HBoxModel",
          "state": {
            "_view_name": "HBoxView",
            "_dom_classes": [],
            "_model_name": "HBoxModel",
            "_view_module": "@jupyter-widgets/controls",
            "_model_module_version": "1.5.0",
            "_view_count": null,
            "_view_module_version": "1.5.0",
            "box_style": "",
            "layout": "IPY_MODEL_0b6faa80d2b94be5a00520a338bb3ecf",
            "_model_module": "@jupyter-widgets/controls",
            "children": [
              "IPY_MODEL_b34ef98da188445d9cfc118ed0fa76dd",
              "IPY_MODEL_fa1cdf085944495ba5640ab74298f899"
            ]
          }
        },
        "0b6faa80d2b94be5a00520a338bb3ecf": {
          "model_module": "@jupyter-widgets/base",
          "model_name": "LayoutModel",
          "state": {
            "_view_name": "LayoutView",
            "grid_template_rows": null,
            "right": null,
            "justify_content": null,
            "_view_module": "@jupyter-widgets/base",
            "overflow": null,
            "_model_module_version": "1.2.0",
            "_view_count": null,
            "flex_flow": null,
            "width": null,
            "min_width": null,
            "border": null,
            "align_items": null,
            "bottom": null,
            "_model_module": "@jupyter-widgets/base",
            "top": null,
            "grid_column": null,
            "overflow_y": null,
            "overflow_x": null,
            "grid_auto_flow": null,
            "grid_area": null,
            "grid_template_columns": null,
            "flex": null,
            "_model_name": "LayoutModel",
            "justify_items": null,
            "grid_row": null,
            "max_height": null,
            "align_content": null,
            "visibility": null,
            "align_self": null,
            "height": null,
            "min_height": null,
            "padding": null,
            "grid_auto_rows": null,
            "grid_gap": null,
            "max_width": null,
            "order": null,
            "_view_module_version": "1.2.0",
            "grid_template_areas": null,
            "object_position": null,
            "object_fit": null,
            "grid_auto_columns": null,
            "margin": null,
            "display": null,
            "left": null
          }
        },
        "b34ef98da188445d9cfc118ed0fa76dd": {
          "model_module": "@jupyter-widgets/controls",
          "model_name": "FloatProgressModel",
          "state": {
            "_view_name": "ProgressView",
            "style": "IPY_MODEL_019eb6b30cb341e5bd20c6e4232479ba",
            "_dom_classes": [],
            "description": "epoch 4: 100%",
            "_model_name": "FloatProgressModel",
            "bar_style": "success",
            "max": 500,
            "_view_module": "@jupyter-widgets/controls",
            "_model_module_version": "1.5.0",
            "value": 500,
            "_view_count": null,
            "_view_module_version": "1.5.0",
            "orientation": "horizontal",
            "min": 0,
            "description_tooltip": null,
            "_model_module": "@jupyter-widgets/controls",
            "layout": "IPY_MODEL_65af057a58b54c0582339faa8f80dfc7"
          }
        },
        "fa1cdf085944495ba5640ab74298f899": {
          "model_module": "@jupyter-widgets/controls",
          "model_name": "HTMLModel",
          "state": {
            "_view_name": "HTMLView",
            "style": "IPY_MODEL_ec84b93ef151477599dc4cc11c79b208",
            "_dom_classes": [],
            "description": "",
            "_model_name": "HTMLModel",
            "placeholder": "​",
            "_view_module": "@jupyter-widgets/controls",
            "_model_module_version": "1.5.0",
            "value": " 500/500 [23:58&lt;00:00,  2.88s/batch, current_loss=1.42, mean_loss=2.6]",
            "_view_count": null,
            "_view_module_version": "1.5.0",
            "description_tooltip": null,
            "_model_module": "@jupyter-widgets/controls",
            "layout": "IPY_MODEL_3d8ba8afd1b2491fa93c1856a363b18a"
          }
        },
        "019eb6b30cb341e5bd20c6e4232479ba": {
          "model_module": "@jupyter-widgets/controls",
          "model_name": "ProgressStyleModel",
          "state": {
            "_view_name": "StyleView",
            "_model_name": "ProgressStyleModel",
            "description_width": "initial",
            "_view_module": "@jupyter-widgets/base",
            "_model_module_version": "1.5.0",
            "_view_count": null,
            "_view_module_version": "1.2.0",
            "bar_color": null,
            "_model_module": "@jupyter-widgets/controls"
          }
        },
        "65af057a58b54c0582339faa8f80dfc7": {
          "model_module": "@jupyter-widgets/base",
          "model_name": "LayoutModel",
          "state": {
            "_view_name": "LayoutView",
            "grid_template_rows": null,
            "right": null,
            "justify_content": null,
            "_view_module": "@jupyter-widgets/base",
            "overflow": null,
            "_model_module_version": "1.2.0",
            "_view_count": null,
            "flex_flow": null,
            "width": null,
            "min_width": null,
            "border": null,
            "align_items": null,
            "bottom": null,
            "_model_module": "@jupyter-widgets/base",
            "top": null,
            "grid_column": null,
            "overflow_y": null,
            "overflow_x": null,
            "grid_auto_flow": null,
            "grid_area": null,
            "grid_template_columns": null,
            "flex": null,
            "_model_name": "LayoutModel",
            "justify_items": null,
            "grid_row": null,
            "max_height": null,
            "align_content": null,
            "visibility": null,
            "align_self": null,
            "height": null,
            "min_height": null,
            "padding": null,
            "grid_auto_rows": null,
            "grid_gap": null,
            "max_width": null,
            "order": null,
            "_view_module_version": "1.2.0",
            "grid_template_areas": null,
            "object_position": null,
            "object_fit": null,
            "grid_auto_columns": null,
            "margin": null,
            "display": null,
            "left": null
          }
        },
        "ec84b93ef151477599dc4cc11c79b208": {
          "model_module": "@jupyter-widgets/controls",
          "model_name": "DescriptionStyleModel",
          "state": {
            "_view_name": "StyleView",
            "_model_name": "DescriptionStyleModel",
            "description_width": "",
            "_view_module": "@jupyter-widgets/base",
            "_model_module_version": "1.5.0",
            "_view_count": null,
            "_view_module_version": "1.2.0",
            "_model_module": "@jupyter-widgets/controls"
          }
        },
        "3d8ba8afd1b2491fa93c1856a363b18a": {
          "model_module": "@jupyter-widgets/base",
          "model_name": "LayoutModel",
          "state": {
            "_view_name": "LayoutView",
            "grid_template_rows": null,
            "right": null,
            "justify_content": null,
            "_view_module": "@jupyter-widgets/base",
            "overflow": null,
            "_model_module_version": "1.2.0",
            "_view_count": null,
            "flex_flow": null,
            "width": null,
            "min_width": null,
            "border": null,
            "align_items": null,
            "bottom": null,
            "_model_module": "@jupyter-widgets/base",
            "top": null,
            "grid_column": null,
            "overflow_y": null,
            "overflow_x": null,
            "grid_auto_flow": null,
            "grid_area": null,
            "grid_template_columns": null,
            "flex": null,
            "_model_name": "LayoutModel",
            "justify_items": null,
            "grid_row": null,
            "max_height": null,
            "align_content": null,
            "visibility": null,
            "align_self": null,
            "height": null,
            "min_height": null,
            "padding": null,
            "grid_auto_rows": null,
            "grid_gap": null,
            "max_width": null,
            "order": null,
            "_view_module_version": "1.2.0",
            "grid_template_areas": null,
            "object_position": null,
            "object_fit": null,
            "grid_auto_columns": null,
            "margin": null,
            "display": null,
            "left": null
          }
        },
        "6ddd39d13e9249ea8ac3e60b2c41ed23": {
          "model_module": "@jupyter-widgets/controls",
          "model_name": "HBoxModel",
          "state": {
            "_view_name": "HBoxView",
            "_dom_classes": [],
            "_model_name": "HBoxModel",
            "_view_module": "@jupyter-widgets/controls",
            "_model_module_version": "1.5.0",
            "_view_count": null,
            "_view_module_version": "1.5.0",
            "box_style": "",
            "layout": "IPY_MODEL_4aa72bdea50547e383c09bdde5e91d5b",
            "_model_module": "@jupyter-widgets/controls",
            "children": [
              "IPY_MODEL_2b1fcc319721404ba8da5b63aa2c6f93",
              "IPY_MODEL_988ddee94e464625963976b3014e00a2"
            ]
          }
        },
        "4aa72bdea50547e383c09bdde5e91d5b": {
          "model_module": "@jupyter-widgets/base",
          "model_name": "LayoutModel",
          "state": {
            "_view_name": "LayoutView",
            "grid_template_rows": null,
            "right": null,
            "justify_content": null,
            "_view_module": "@jupyter-widgets/base",
            "overflow": null,
            "_model_module_version": "1.2.0",
            "_view_count": null,
            "flex_flow": null,
            "width": null,
            "min_width": null,
            "border": null,
            "align_items": null,
            "bottom": null,
            "_model_module": "@jupyter-widgets/base",
            "top": null,
            "grid_column": null,
            "overflow_y": null,
            "overflow_x": null,
            "grid_auto_flow": null,
            "grid_area": null,
            "grid_template_columns": null,
            "flex": null,
            "_model_name": "LayoutModel",
            "justify_items": null,
            "grid_row": null,
            "max_height": null,
            "align_content": null,
            "visibility": null,
            "align_self": null,
            "height": null,
            "min_height": null,
            "padding": null,
            "grid_auto_rows": null,
            "grid_gap": null,
            "max_width": null,
            "order": null,
            "_view_module_version": "1.2.0",
            "grid_template_areas": null,
            "object_position": null,
            "object_fit": null,
            "grid_auto_columns": null,
            "margin": null,
            "display": null,
            "left": null
          }
        },
        "2b1fcc319721404ba8da5b63aa2c6f93": {
          "model_module": "@jupyter-widgets/controls",
          "model_name": "FloatProgressModel",
          "state": {
            "_view_name": "ProgressView",
            "style": "IPY_MODEL_b9d115a2a88949058f4171016f8303ea",
            "_dom_classes": [],
            "description": "epoch 5: 100%",
            "_model_name": "FloatProgressModel",
            "bar_style": "success",
            "max": 500,
            "_view_module": "@jupyter-widgets/controls",
            "_model_module_version": "1.5.0",
            "value": 500,
            "_view_count": null,
            "_view_module_version": "1.5.0",
            "orientation": "horizontal",
            "min": 0,
            "description_tooltip": null,
            "_model_module": "@jupyter-widgets/controls",
            "layout": "IPY_MODEL_990842b6c419429bb9d7fabdde61c296"
          }
        },
        "988ddee94e464625963976b3014e00a2": {
          "model_module": "@jupyter-widgets/controls",
          "model_name": "HTMLModel",
          "state": {
            "_view_name": "HTMLView",
            "style": "IPY_MODEL_af306ee47f84482785c92b4c42924d2f",
            "_dom_classes": [],
            "description": "",
            "_model_name": "HTMLModel",
            "placeholder": "​",
            "_view_module": "@jupyter-widgets/controls",
            "_model_module_version": "1.5.0",
            "value": " 500/500 [12:42&lt;00:00,  1.52s/batch, current_loss=0.349, mean_loss=2.15]",
            "_view_count": null,
            "_view_module_version": "1.5.0",
            "description_tooltip": null,
            "_model_module": "@jupyter-widgets/controls",
            "layout": "IPY_MODEL_a560acf7f1274102b582045c348fb09c"
          }
        },
        "b9d115a2a88949058f4171016f8303ea": {
          "model_module": "@jupyter-widgets/controls",
          "model_name": "ProgressStyleModel",
          "state": {
            "_view_name": "StyleView",
            "_model_name": "ProgressStyleModel",
            "description_width": "initial",
            "_view_module": "@jupyter-widgets/base",
            "_model_module_version": "1.5.0",
            "_view_count": null,
            "_view_module_version": "1.2.0",
            "bar_color": null,
            "_model_module": "@jupyter-widgets/controls"
          }
        },
        "990842b6c419429bb9d7fabdde61c296": {
          "model_module": "@jupyter-widgets/base",
          "model_name": "LayoutModel",
          "state": {
            "_view_name": "LayoutView",
            "grid_template_rows": null,
            "right": null,
            "justify_content": null,
            "_view_module": "@jupyter-widgets/base",
            "overflow": null,
            "_model_module_version": "1.2.0",
            "_view_count": null,
            "flex_flow": null,
            "width": null,
            "min_width": null,
            "border": null,
            "align_items": null,
            "bottom": null,
            "_model_module": "@jupyter-widgets/base",
            "top": null,
            "grid_column": null,
            "overflow_y": null,
            "overflow_x": null,
            "grid_auto_flow": null,
            "grid_area": null,
            "grid_template_columns": null,
            "flex": null,
            "_model_name": "LayoutModel",
            "justify_items": null,
            "grid_row": null,
            "max_height": null,
            "align_content": null,
            "visibility": null,
            "align_self": null,
            "height": null,
            "min_height": null,
            "padding": null,
            "grid_auto_rows": null,
            "grid_gap": null,
            "max_width": null,
            "order": null,
            "_view_module_version": "1.2.0",
            "grid_template_areas": null,
            "object_position": null,
            "object_fit": null,
            "grid_auto_columns": null,
            "margin": null,
            "display": null,
            "left": null
          }
        },
        "af306ee47f84482785c92b4c42924d2f": {
          "model_module": "@jupyter-widgets/controls",
          "model_name": "DescriptionStyleModel",
          "state": {
            "_view_name": "StyleView",
            "_model_name": "DescriptionStyleModel",
            "description_width": "",
            "_view_module": "@jupyter-widgets/base",
            "_model_module_version": "1.5.0",
            "_view_count": null,
            "_view_module_version": "1.2.0",
            "_model_module": "@jupyter-widgets/controls"
          }
        },
        "a560acf7f1274102b582045c348fb09c": {
          "model_module": "@jupyter-widgets/base",
          "model_name": "LayoutModel",
          "state": {
            "_view_name": "LayoutView",
            "grid_template_rows": null,
            "right": null,
            "justify_content": null,
            "_view_module": "@jupyter-widgets/base",
            "overflow": null,
            "_model_module_version": "1.2.0",
            "_view_count": null,
            "flex_flow": null,
            "width": null,
            "min_width": null,
            "border": null,
            "align_items": null,
            "bottom": null,
            "_model_module": "@jupyter-widgets/base",
            "top": null,
            "grid_column": null,
            "overflow_y": null,
            "overflow_x": null,
            "grid_auto_flow": null,
            "grid_area": null,
            "grid_template_columns": null,
            "flex": null,
            "_model_name": "LayoutModel",
            "justify_items": null,
            "grid_row": null,
            "max_height": null,
            "align_content": null,
            "visibility": null,
            "align_self": null,
            "height": null,
            "min_height": null,
            "padding": null,
            "grid_auto_rows": null,
            "grid_gap": null,
            "max_width": null,
            "order": null,
            "_view_module_version": "1.2.0",
            "grid_template_areas": null,
            "object_position": null,
            "object_fit": null,
            "grid_auto_columns": null,
            "margin": null,
            "display": null,
            "left": null
          }
        },
        "3107dc267f424173b5aee37bab57af0a": {
          "model_module": "@jupyter-widgets/controls",
          "model_name": "HBoxModel",
          "state": {
            "_view_name": "HBoxView",
            "_dom_classes": [],
            "_model_name": "HBoxModel",
            "_view_module": "@jupyter-widgets/controls",
            "_model_module_version": "1.5.0",
            "_view_count": null,
            "_view_module_version": "1.5.0",
            "box_style": "",
            "layout": "IPY_MODEL_23d25447bede44ec81d023028fd3a773",
            "_model_module": "@jupyter-widgets/controls",
            "children": [
              "IPY_MODEL_11ce247d738f44638ab5f4ab82b933fc",
              "IPY_MODEL_130ca444521f41928c3fa60e35b94831"
            ]
          }
        },
        "23d25447bede44ec81d023028fd3a773": {
          "model_module": "@jupyter-widgets/base",
          "model_name": "LayoutModel",
          "state": {
            "_view_name": "LayoutView",
            "grid_template_rows": null,
            "right": null,
            "justify_content": null,
            "_view_module": "@jupyter-widgets/base",
            "overflow": null,
            "_model_module_version": "1.2.0",
            "_view_count": null,
            "flex_flow": null,
            "width": null,
            "min_width": null,
            "border": null,
            "align_items": null,
            "bottom": null,
            "_model_module": "@jupyter-widgets/base",
            "top": null,
            "grid_column": null,
            "overflow_y": null,
            "overflow_x": null,
            "grid_auto_flow": null,
            "grid_area": null,
            "grid_template_columns": null,
            "flex": null,
            "_model_name": "LayoutModel",
            "justify_items": null,
            "grid_row": null,
            "max_height": null,
            "align_content": null,
            "visibility": null,
            "align_self": null,
            "height": null,
            "min_height": null,
            "padding": null,
            "grid_auto_rows": null,
            "grid_gap": null,
            "max_width": null,
            "order": null,
            "_view_module_version": "1.2.0",
            "grid_template_areas": null,
            "object_position": null,
            "object_fit": null,
            "grid_auto_columns": null,
            "margin": null,
            "display": null,
            "left": null
          }
        },
        "11ce247d738f44638ab5f4ab82b933fc": {
          "model_module": "@jupyter-widgets/controls",
          "model_name": "FloatProgressModel",
          "state": {
            "_view_name": "ProgressView",
            "style": "IPY_MODEL_1d5881685acf42acac91f4de619ff01e",
            "_dom_classes": [],
            "description": "epoch 6: 100%",
            "_model_name": "FloatProgressModel",
            "bar_style": "success",
            "max": 500,
            "_view_module": "@jupyter-widgets/controls",
            "_model_module_version": "1.5.0",
            "value": 500,
            "_view_count": null,
            "_view_module_version": "1.5.0",
            "orientation": "horizontal",
            "min": 0,
            "description_tooltip": null,
            "_model_module": "@jupyter-widgets/controls",
            "layout": "IPY_MODEL_b3dc212664074e609a9a7c25892327c9"
          }
        },
        "130ca444521f41928c3fa60e35b94831": {
          "model_module": "@jupyter-widgets/controls",
          "model_name": "HTMLModel",
          "state": {
            "_view_name": "HTMLView",
            "style": "IPY_MODEL_9e71ad2223a6452b856a52ce9f074396",
            "_dom_classes": [],
            "description": "",
            "_model_name": "HTMLModel",
            "placeholder": "​",
            "_view_module": "@jupyter-widgets/controls",
            "_model_module_version": "1.5.0",
            "value": " 500/500 [11:11&lt;00:00,  1.34s/batch, current_loss=2.1, mean_loss=1.87]",
            "_view_count": null,
            "_view_module_version": "1.5.0",
            "description_tooltip": null,
            "_model_module": "@jupyter-widgets/controls",
            "layout": "IPY_MODEL_220a3b5f6e7d4d85b9d4b28905ac36e6"
          }
        },
        "1d5881685acf42acac91f4de619ff01e": {
          "model_module": "@jupyter-widgets/controls",
          "model_name": "ProgressStyleModel",
          "state": {
            "_view_name": "StyleView",
            "_model_name": "ProgressStyleModel",
            "description_width": "initial",
            "_view_module": "@jupyter-widgets/base",
            "_model_module_version": "1.5.0",
            "_view_count": null,
            "_view_module_version": "1.2.0",
            "bar_color": null,
            "_model_module": "@jupyter-widgets/controls"
          }
        },
        "b3dc212664074e609a9a7c25892327c9": {
          "model_module": "@jupyter-widgets/base",
          "model_name": "LayoutModel",
          "state": {
            "_view_name": "LayoutView",
            "grid_template_rows": null,
            "right": null,
            "justify_content": null,
            "_view_module": "@jupyter-widgets/base",
            "overflow": null,
            "_model_module_version": "1.2.0",
            "_view_count": null,
            "flex_flow": null,
            "width": null,
            "min_width": null,
            "border": null,
            "align_items": null,
            "bottom": null,
            "_model_module": "@jupyter-widgets/base",
            "top": null,
            "grid_column": null,
            "overflow_y": null,
            "overflow_x": null,
            "grid_auto_flow": null,
            "grid_area": null,
            "grid_template_columns": null,
            "flex": null,
            "_model_name": "LayoutModel",
            "justify_items": null,
            "grid_row": null,
            "max_height": null,
            "align_content": null,
            "visibility": null,
            "align_self": null,
            "height": null,
            "min_height": null,
            "padding": null,
            "grid_auto_rows": null,
            "grid_gap": null,
            "max_width": null,
            "order": null,
            "_view_module_version": "1.2.0",
            "grid_template_areas": null,
            "object_position": null,
            "object_fit": null,
            "grid_auto_columns": null,
            "margin": null,
            "display": null,
            "left": null
          }
        },
        "9e71ad2223a6452b856a52ce9f074396": {
          "model_module": "@jupyter-widgets/controls",
          "model_name": "DescriptionStyleModel",
          "state": {
            "_view_name": "StyleView",
            "_model_name": "DescriptionStyleModel",
            "description_width": "",
            "_view_module": "@jupyter-widgets/base",
            "_model_module_version": "1.5.0",
            "_view_count": null,
            "_view_module_version": "1.2.0",
            "_model_module": "@jupyter-widgets/controls"
          }
        },
        "220a3b5f6e7d4d85b9d4b28905ac36e6": {
          "model_module": "@jupyter-widgets/base",
          "model_name": "LayoutModel",
          "state": {
            "_view_name": "LayoutView",
            "grid_template_rows": null,
            "right": null,
            "justify_content": null,
            "_view_module": "@jupyter-widgets/base",
            "overflow": null,
            "_model_module_version": "1.2.0",
            "_view_count": null,
            "flex_flow": null,
            "width": null,
            "min_width": null,
            "border": null,
            "align_items": null,
            "bottom": null,
            "_model_module": "@jupyter-widgets/base",
            "top": null,
            "grid_column": null,
            "overflow_y": null,
            "overflow_x": null,
            "grid_auto_flow": null,
            "grid_area": null,
            "grid_template_columns": null,
            "flex": null,
            "_model_name": "LayoutModel",
            "justify_items": null,
            "grid_row": null,
            "max_height": null,
            "align_content": null,
            "visibility": null,
            "align_self": null,
            "height": null,
            "min_height": null,
            "padding": null,
            "grid_auto_rows": null,
            "grid_gap": null,
            "max_width": null,
            "order": null,
            "_view_module_version": "1.2.0",
            "grid_template_areas": null,
            "object_position": null,
            "object_fit": null,
            "grid_auto_columns": null,
            "margin": null,
            "display": null,
            "left": null
          }
        },
        "27ef1c57057341318db0f9413a447706": {
          "model_module": "@jupyter-widgets/controls",
          "model_name": "HBoxModel",
          "state": {
            "_view_name": "HBoxView",
            "_dom_classes": [],
            "_model_name": "HBoxModel",
            "_view_module": "@jupyter-widgets/controls",
            "_model_module_version": "1.5.0",
            "_view_count": null,
            "_view_module_version": "1.5.0",
            "box_style": "",
            "layout": "IPY_MODEL_b6e15ee74c79486f9bfa68a5c3ad045b",
            "_model_module": "@jupyter-widgets/controls",
            "children": [
              "IPY_MODEL_b9d5fdedf5984ce09a508fd8a6f68ac6",
              "IPY_MODEL_c3214f01b6fd45d9b5edcd86ecd0ea3c"
            ]
          }
        },
        "b6e15ee74c79486f9bfa68a5c3ad045b": {
          "model_module": "@jupyter-widgets/base",
          "model_name": "LayoutModel",
          "state": {
            "_view_name": "LayoutView",
            "grid_template_rows": null,
            "right": null,
            "justify_content": null,
            "_view_module": "@jupyter-widgets/base",
            "overflow": null,
            "_model_module_version": "1.2.0",
            "_view_count": null,
            "flex_flow": null,
            "width": null,
            "min_width": null,
            "border": null,
            "align_items": null,
            "bottom": null,
            "_model_module": "@jupyter-widgets/base",
            "top": null,
            "grid_column": null,
            "overflow_y": null,
            "overflow_x": null,
            "grid_auto_flow": null,
            "grid_area": null,
            "grid_template_columns": null,
            "flex": null,
            "_model_name": "LayoutModel",
            "justify_items": null,
            "grid_row": null,
            "max_height": null,
            "align_content": null,
            "visibility": null,
            "align_self": null,
            "height": null,
            "min_height": null,
            "padding": null,
            "grid_auto_rows": null,
            "grid_gap": null,
            "max_width": null,
            "order": null,
            "_view_module_version": "1.2.0",
            "grid_template_areas": null,
            "object_position": null,
            "object_fit": null,
            "grid_auto_columns": null,
            "margin": null,
            "display": null,
            "left": null
          }
        },
        "b9d5fdedf5984ce09a508fd8a6f68ac6": {
          "model_module": "@jupyter-widgets/controls",
          "model_name": "FloatProgressModel",
          "state": {
            "_view_name": "ProgressView",
            "style": "IPY_MODEL_4f7eca61937a49b49b65f3472653e1c7",
            "_dom_classes": [],
            "description": "epoch 7:  71%",
            "_model_name": "FloatProgressModel",
            "bar_style": "",
            "max": 500,
            "_view_module": "@jupyter-widgets/controls",
            "_model_module_version": "1.5.0",
            "value": 356,
            "_view_count": null,
            "_view_module_version": "1.5.0",
            "orientation": "horizontal",
            "min": 0,
            "description_tooltip": null,
            "_model_module": "@jupyter-widgets/controls",
            "layout": "IPY_MODEL_3d371309c62e4126a606e194b182e34f"
          }
        },
        "c3214f01b6fd45d9b5edcd86ecd0ea3c": {
          "model_module": "@jupyter-widgets/controls",
          "model_name": "HTMLModel",
          "state": {
            "_view_name": "HTMLView",
            "style": "IPY_MODEL_1efc6abe8ba644ce803edd1546928b30",
            "_dom_classes": [],
            "description": "",
            "_model_name": "HTMLModel",
            "placeholder": "​",
            "_view_module": "@jupyter-widgets/controls",
            "_model_module_version": "1.5.0",
            "value": " 356/500 [07:56&lt;03:14,  1.35s/batch, current_loss=0.282, mean_loss=1.37]",
            "_view_count": null,
            "_view_module_version": "1.5.0",
            "description_tooltip": null,
            "_model_module": "@jupyter-widgets/controls",
            "layout": "IPY_MODEL_12fca65335424cf5b77dafe9aa15d4e4"
          }
        },
        "4f7eca61937a49b49b65f3472653e1c7": {
          "model_module": "@jupyter-widgets/controls",
          "model_name": "ProgressStyleModel",
          "state": {
            "_view_name": "StyleView",
            "_model_name": "ProgressStyleModel",
            "description_width": "initial",
            "_view_module": "@jupyter-widgets/base",
            "_model_module_version": "1.5.0",
            "_view_count": null,
            "_view_module_version": "1.2.0",
            "bar_color": null,
            "_model_module": "@jupyter-widgets/controls"
          }
        },
        "3d371309c62e4126a606e194b182e34f": {
          "model_module": "@jupyter-widgets/base",
          "model_name": "LayoutModel",
          "state": {
            "_view_name": "LayoutView",
            "grid_template_rows": null,
            "right": null,
            "justify_content": null,
            "_view_module": "@jupyter-widgets/base",
            "overflow": null,
            "_model_module_version": "1.2.0",
            "_view_count": null,
            "flex_flow": null,
            "width": null,
            "min_width": null,
            "border": null,
            "align_items": null,
            "bottom": null,
            "_model_module": "@jupyter-widgets/base",
            "top": null,
            "grid_column": null,
            "overflow_y": null,
            "overflow_x": null,
            "grid_auto_flow": null,
            "grid_area": null,
            "grid_template_columns": null,
            "flex": null,
            "_model_name": "LayoutModel",
            "justify_items": null,
            "grid_row": null,
            "max_height": null,
            "align_content": null,
            "visibility": null,
            "align_self": null,
            "height": null,
            "min_height": null,
            "padding": null,
            "grid_auto_rows": null,
            "grid_gap": null,
            "max_width": null,
            "order": null,
            "_view_module_version": "1.2.0",
            "grid_template_areas": null,
            "object_position": null,
            "object_fit": null,
            "grid_auto_columns": null,
            "margin": null,
            "display": null,
            "left": null
          }
        },
        "1efc6abe8ba644ce803edd1546928b30": {
          "model_module": "@jupyter-widgets/controls",
          "model_name": "DescriptionStyleModel",
          "state": {
            "_view_name": "StyleView",
            "_model_name": "DescriptionStyleModel",
            "description_width": "",
            "_view_module": "@jupyter-widgets/base",
            "_model_module_version": "1.5.0",
            "_view_count": null,
            "_view_module_version": "1.2.0",
            "_model_module": "@jupyter-widgets/controls"
          }
        },
        "12fca65335424cf5b77dafe9aa15d4e4": {
          "model_module": "@jupyter-widgets/base",
          "model_name": "LayoutModel",
          "state": {
            "_view_name": "LayoutView",
            "grid_template_rows": null,
            "right": null,
            "justify_content": null,
            "_view_module": "@jupyter-widgets/base",
            "overflow": null,
            "_model_module_version": "1.2.0",
            "_view_count": null,
            "flex_flow": null,
            "width": null,
            "min_width": null,
            "border": null,
            "align_items": null,
            "bottom": null,
            "_model_module": "@jupyter-widgets/base",
            "top": null,
            "grid_column": null,
            "overflow_y": null,
            "overflow_x": null,
            "grid_auto_flow": null,
            "grid_area": null,
            "grid_template_columns": null,
            "flex": null,
            "_model_name": "LayoutModel",
            "justify_items": null,
            "grid_row": null,
            "max_height": null,
            "align_content": null,
            "visibility": null,
            "align_self": null,
            "height": null,
            "min_height": null,
            "padding": null,
            "grid_auto_rows": null,
            "grid_gap": null,
            "max_width": null,
            "order": null,
            "_view_module_version": "1.2.0",
            "grid_template_areas": null,
            "object_position": null,
            "object_fit": null,
            "grid_auto_columns": null,
            "margin": null,
            "display": null,
            "left": null
          }
        }
      }
    }
  },
  "cells": [
    {
      "cell_type": "code",
      "metadata": {
        "id": "IIMUa4s5DQvc",
        "colab": {
          "base_uri": "https://localhost:8080/"
        },
        "outputId": "0e2eca99-4d4d-4dc3-8ced-3cfc409a37fd"
      },
      "source": [
        "#Libraries\n",
        "\n",
        "import warnings\n",
        "warnings.filterwarnings('ignore')\n",
        "import pandas as pd\n",
        "import numpy as np\n",
        "import os\n",
        "import re\n",
        "import json\n",
        "import string\n",
        "import matplotlib.pyplot as plt\n",
        "%matplotlib inline\n",
        "import plotly.express as px\n",
        "import plotly.graph_objects as go\n",
        "from tqdm.autonotebook import tqdm\n",
        "from functools import partial\n",
        "import torch\n",
        "import random\n",
        "from sklearn.model_selection import train_test_split\n",
        "!pip install transformers\n",
        "from transformers import BertTokenizer, BertModel\n",
        "#import spacy"
      ],
      "execution_count": 1,
      "outputs": [
        {
          "output_type": "stream",
          "text": [
            "Collecting transformers\n",
            "\u001b[?25l  Downloading https://files.pythonhosted.org/packages/d8/b2/57495b5309f09fa501866e225c84532d1fd89536ea62406b2181933fb418/transformers-4.5.1-py3-none-any.whl (2.1MB)\n",
            "\u001b[K     |████████████████████████████████| 2.1MB 7.5MB/s \n",
            "\u001b[?25hRequirement already satisfied: requests in /usr/local/lib/python3.7/dist-packages (from transformers) (2.23.0)\n",
            "Requirement already satisfied: numpy>=1.17 in /usr/local/lib/python3.7/dist-packages (from transformers) (1.19.5)\n",
            "Requirement already satisfied: packaging in /usr/local/lib/python3.7/dist-packages (from transformers) (20.9)\n",
            "Collecting sacremoses\n",
            "\u001b[?25l  Downloading https://files.pythonhosted.org/packages/75/ee/67241dc87f266093c533a2d4d3d69438e57d7a90abb216fa076e7d475d4a/sacremoses-0.0.45-py3-none-any.whl (895kB)\n",
            "\u001b[K     |████████████████████████████████| 901kB 35.5MB/s \n",
            "\u001b[?25hCollecting tokenizers<0.11,>=0.10.1\n",
            "\u001b[?25l  Downloading https://files.pythonhosted.org/packages/ae/04/5b870f26a858552025a62f1649c20d29d2672c02ff3c3fb4c688ca46467a/tokenizers-0.10.2-cp37-cp37m-manylinux2010_x86_64.whl (3.3MB)\n",
            "\u001b[K     |████████████████████████████████| 3.3MB 46.2MB/s \n",
            "\u001b[?25hRequirement already satisfied: tqdm>=4.27 in /usr/local/lib/python3.7/dist-packages (from transformers) (4.41.1)\n",
            "Requirement already satisfied: importlib-metadata; python_version < \"3.8\" in /usr/local/lib/python3.7/dist-packages (from transformers) (3.10.1)\n",
            "Requirement already satisfied: regex!=2019.12.17 in /usr/local/lib/python3.7/dist-packages (from transformers) (2019.12.20)\n",
            "Requirement already satisfied: filelock in /usr/local/lib/python3.7/dist-packages (from transformers) (3.0.12)\n",
            "Requirement already satisfied: chardet<4,>=3.0.2 in /usr/local/lib/python3.7/dist-packages (from requests->transformers) (3.0.4)\n",
            "Requirement already satisfied: urllib3!=1.25.0,!=1.25.1,<1.26,>=1.21.1 in /usr/local/lib/python3.7/dist-packages (from requests->transformers) (1.24.3)\n",
            "Requirement already satisfied: certifi>=2017.4.17 in /usr/local/lib/python3.7/dist-packages (from requests->transformers) (2020.12.5)\n",
            "Requirement already satisfied: idna<3,>=2.5 in /usr/local/lib/python3.7/dist-packages (from requests->transformers) (2.10)\n",
            "Requirement already satisfied: pyparsing>=2.0.2 in /usr/local/lib/python3.7/dist-packages (from packaging->transformers) (2.4.7)\n",
            "Requirement already satisfied: joblib in /usr/local/lib/python3.7/dist-packages (from sacremoses->transformers) (1.0.1)\n",
            "Requirement already satisfied: six in /usr/local/lib/python3.7/dist-packages (from sacremoses->transformers) (1.15.0)\n",
            "Requirement already satisfied: click in /usr/local/lib/python3.7/dist-packages (from sacremoses->transformers) (7.1.2)\n",
            "Requirement already satisfied: typing-extensions>=3.6.4; python_version < \"3.8\" in /usr/local/lib/python3.7/dist-packages (from importlib-metadata; python_version < \"3.8\"->transformers) (3.7.4.3)\n",
            "Requirement already satisfied: zipp>=0.5 in /usr/local/lib/python3.7/dist-packages (from importlib-metadata; python_version < \"3.8\"->transformers) (3.4.1)\n",
            "Installing collected packages: sacremoses, tokenizers, transformers\n",
            "Successfully installed sacremoses-0.0.45 tokenizers-0.10.2 transformers-4.5.1\n"
          ],
          "name": "stdout"
        }
      ]
    },
    {
      "cell_type": "code",
      "metadata": {
        "colab": {
          "base_uri": "https://localhost:8080/"
        },
        "id": "qeX5_0w9SBLL",
        "outputId": "32bd1e72-dbb5-48cc-f1cb-a597ed86afab"
      },
      "source": [
        "gpu_info = !nvidia-smi\n",
        "gpu_info = '\\n'.join(gpu_info)\n",
        "if gpu_info.find('failed') >= 0:\n",
        "  print('Select the Runtime > \"Change runtime type\" menu to enable a GPU accelerator, ')\n",
        "  print('and then re-execute this cell.')\n",
        "else:\n",
        "  print(gpu_info)\n",
        "\n",
        "print(f'GPU available: {torch.cuda.is_available()}')\n",
        "random.seed(10)"
      ],
      "execution_count": 2,
      "outputs": [
        {
          "output_type": "stream",
          "text": [
            "Tue May  4 01:20:33 2021       \n",
            "+-----------------------------------------------------------------------------+\n",
            "| NVIDIA-SMI 465.19.01    Driver Version: 460.32.03    CUDA Version: 11.2     |\n",
            "|-------------------------------+----------------------+----------------------+\n",
            "| GPU  Name        Persistence-M| Bus-Id        Disp.A | Volatile Uncorr. ECC |\n",
            "| Fan  Temp  Perf  Pwr:Usage/Cap|         Memory-Usage | GPU-Util  Compute M. |\n",
            "|                               |                      |               MIG M. |\n",
            "|===============================+======================+======================|\n",
            "|   0  Tesla T4            Off  | 00000000:00:04.0 Off |                    0 |\n",
            "| N/A   52C    P8    10W /  70W |      0MiB / 15109MiB |      0%      Default |\n",
            "|                               |                      |                  N/A |\n",
            "+-------------------------------+----------------------+----------------------+\n",
            "                                                                               \n",
            "+-----------------------------------------------------------------------------+\n",
            "| Processes:                                                                  |\n",
            "|  GPU   GI   CI        PID   Type   Process name                  GPU Memory |\n",
            "|        ID   ID                                                   Usage      |\n",
            "|=============================================================================|\n",
            "|  No running processes found                                                 |\n",
            "+-----------------------------------------------------------------------------+\n",
            "GPU available: True\n"
          ],
          "name": "stdout"
        }
      ]
    },
    {
      "cell_type": "code",
      "metadata": {
        "colab": {
          "base_uri": "https://localhost:8080/"
        },
        "id": "2NcQtlQS5EHb",
        "outputId": "42365cba-5023-45fc-cf73-ce7457ec322e"
      },
      "source": [
        "print(torch.cuda.is_available())\n",
        "if torch.cuda.is_available():\n",
        "  device = torch.device(\"cuda\")\n",
        "else:\n",
        "  device = torch.device(\"cpu\")\n",
        "print(\"Using device:\", device)"
      ],
      "execution_count": 9,
      "outputs": [
        {
          "output_type": "stream",
          "text": [
            "True\n",
            "Using device: cuda\n"
          ],
          "name": "stdout"
        }
      ]
    },
    {
      "cell_type": "markdown",
      "metadata": {
        "id": "2Ac2RV3OiLDD"
      },
      "source": [
        "## Vocabulary\n",
        "This is useful only for the decoder; we get the vocab from the complete data"
      ]
    },
    {
      "cell_type": "code",
      "metadata": {
        "id": "t4rqRaEciYIE"
      },
      "source": [
        "df = pd.read_csv(\"data_1.csv\")\n",
        "#df = df.sample(frac=1, random_state=100).reset_index(drop=True)\n",
        "df.head()\n",
        "# df = df.iloc[0:10,:]\n",
        "\n",
        "text = []\n",
        "for i in range(len(df)):\n",
        "  t = df.loc[i][6]\n",
        "  text.append((t, df.loc[i][5]))"
      ],
      "execution_count": 4,
      "outputs": []
    },
    {
      "cell_type": "code",
      "metadata": {
        "colab": {
          "base_uri": "https://localhost:8080/",
          "height": 295
        },
        "id": "VsRie7Xa-9bg",
        "outputId": "f8e1aa6e-b487-40d5-cefd-f20336328957"
      },
      "source": [
        "df.head()"
      ],
      "execution_count": 5,
      "outputs": [
        {
          "output_type": "execute_result",
          "data": {
            "text/html": [
              "<div>\n",
              "<style scoped>\n",
              "    .dataframe tbody tr th:only-of-type {\n",
              "        vertical-align: middle;\n",
              "    }\n",
              "\n",
              "    .dataframe tbody tr th {\n",
              "        vertical-align: top;\n",
              "    }\n",
              "\n",
              "    .dataframe thead th {\n",
              "        text-align: right;\n",
              "    }\n",
              "</style>\n",
              "<table border=\"1\" class=\"dataframe\">\n",
              "  <thead>\n",
              "    <tr style=\"text-align: right;\">\n",
              "      <th></th>\n",
              "      <th>Unnamed: 0</th>\n",
              "      <th>Id</th>\n",
              "      <th>pub_title</th>\n",
              "      <th>dataset_title</th>\n",
              "      <th>dataset_label</th>\n",
              "      <th>cleaned_label</th>\n",
              "      <th>text</th>\n",
              "      <th>mask</th>\n",
              "    </tr>\n",
              "  </thead>\n",
              "  <tbody>\n",
              "    <tr>\n",
              "      <th>0</th>\n",
              "      <td>4</td>\n",
              "      <td>c754dec7-c5a3-4337-9892-c02158475064</td>\n",
              "      <td>Parental Effort, School Resources, and Student...</td>\n",
              "      <td>National Education Longitudinal Study</td>\n",
              "      <td>National Education Longitudinal Study</td>\n",
              "      <td>national education longitudinal study</td>\n",
              "      <td>This article investigates an important factor...</td>\n",
              "      <td>True</td>\n",
              "    </tr>\n",
              "    <tr>\n",
              "      <th>1</th>\n",
              "      <td>5</td>\n",
              "      <td>81b5f874-9b42-4d4f-8c50-b4bab24f8aed</td>\n",
              "      <td>The Gender Gap Reloaded: Are School Characteri...</td>\n",
              "      <td>National Education Longitudinal Study</td>\n",
              "      <td>National Education Longitudinal Study</td>\n",
              "      <td>national education longitudinal study</td>\n",
              "      <td>This study examines the wage gender gap of yo...</td>\n",
              "      <td>True</td>\n",
              "    </tr>\n",
              "    <tr>\n",
              "      <th>2</th>\n",
              "      <td>6</td>\n",
              "      <td>f35fdfa6-a3f9-4ef3-a858-c8e2efcd2349</td>\n",
              "      <td>The High School Environment and the Gender Gap...</td>\n",
              "      <td>National Education Longitudinal Study</td>\n",
              "      <td>National Education Longitudinal Study</td>\n",
              "      <td>national education longitudinal study</td>\n",
              "      <td>Despite the striking reversal of the gender g...</td>\n",
              "      <td>True</td>\n",
              "    </tr>\n",
              "    <tr>\n",
              "      <th>3</th>\n",
              "      <td>8</td>\n",
              "      <td>e5a4c6af-0854-4f7e-b088-06f03c18a01a</td>\n",
              "      <td>Locus of Control and Peer Relationships Among ...</td>\n",
              "      <td>National Education Longitudinal Study</td>\n",
              "      <td>National Education Longitudinal Study</td>\n",
              "      <td>national education longitudinal study</td>\n",
              "      <td>Abstract Past research has shown that locus o...</td>\n",
              "      <td>True</td>\n",
              "    </tr>\n",
              "    <tr>\n",
              "      <th>4</th>\n",
              "      <td>12</td>\n",
              "      <td>d5ff0ecd-ccf5-4f8a-a09c-182376eed4d0</td>\n",
              "      <td>Beyond the Laboratory: Evaluating the Survey E...</td>\n",
              "      <td>National Education Longitudinal Study</td>\n",
              "      <td>National Education Longitudinal Study</td>\n",
              "      <td>national education longitudinal study</td>\n",
              "      <td>The black-white gap in achievement, as measur...</td>\n",
              "      <td>True</td>\n",
              "    </tr>\n",
              "  </tbody>\n",
              "</table>\n",
              "</div>"
            ],
            "text/plain": [
              "   Unnamed: 0  ...  mask\n",
              "0           4  ...  True\n",
              "1           5  ...  True\n",
              "2           6  ...  True\n",
              "3           8  ...  True\n",
              "4          12  ...  True\n",
              "\n",
              "[5 rows x 8 columns]"
            ]
          },
          "metadata": {
            "tags": []
          },
          "execution_count": 5
        }
      ]
    },
    {
      "cell_type": "code",
      "metadata": {
        "colab": {
          "base_uri": "https://localhost:8080/"
        },
        "id": "k0QpYtigiKIt",
        "outputId": "2be9ae49-10b5-4d46-fb31-500b8ec5aae9"
      },
      "source": [
        "pad_word = \"<pad>\"\n",
        "bos_word = \"<s>\"\n",
        "eos_word = \"</s>\"\n",
        "unk_word = \"<unk>\"\n",
        "pad_id = 0\n",
        "bos_id = 1\n",
        "eos_id = 2\n",
        "unk_id = 3\n",
        "    \n",
        "def normalize_sentence(s):\n",
        "    s = re.sub(r\"([.!?])\", r\" \\1\", s)\n",
        "    s = re.sub(r\"[^a-zA-Z.!?]+\", r\" \", s)\n",
        "    s = re.sub(r\"\\s+\", r\" \", s).strip()\n",
        "    return s\n",
        "\n",
        "class Vocabulary:\n",
        "    def __init__(self):\n",
        "        self.word_to_id = {pad_word: pad_id, bos_word: bos_id, eos_word:eos_id, unk_word: unk_id}\n",
        "        self.word_count = {}\n",
        "        self.id_to_word = {pad_id: pad_word, bos_id: bos_word, eos_id: eos_word, unk_id: unk_word}\n",
        "        self.num_words = 4\n",
        "    \n",
        "    def get_ids_from_sentence(self, sentence):\n",
        "        sentence = normalize_sentence(sentence)\n",
        "        sent_ids = [bos_id] + [self.word_to_id[word] if word in self.word_to_id \\\n",
        "                               else unk_id for word in sentence.split()] + \\\n",
        "                               [eos_id]\n",
        "        return sent_ids\n",
        "    \n",
        "    def tokenized_sentence(self, sentence):\n",
        "        sent_ids = self.get_ids_from_sentence(sentence)\n",
        "        return [self.id_to_word[word_id] for word_id in sent_ids]\n",
        "\n",
        "    def decode_sentence_from_ids(self, sent_ids):\n",
        "        words = list()\n",
        "        for i, word_id in enumerate(sent_ids):\n",
        "            if word_id in [bos_id, eos_id, pad_id]:\n",
        "                # Skip these words\n",
        "                continue\n",
        "            else:\n",
        "                words.append(self.id_to_word[word_id])\n",
        "        return ' '.join(words)\n",
        "\n",
        "    def add_words_from_sentence(self, sentence):\n",
        "        sentence = normalize_sentence(sentence)\n",
        "        for word in sentence.split():\n",
        "            if word not in self.word_to_id:\n",
        "                # add this word to the vocabulary\n",
        "                self.word_to_id[word] = self.num_words\n",
        "                self.id_to_word[self.num_words] = word\n",
        "                self.word_count[word] = 1\n",
        "                self.num_words += 1\n",
        "            else:\n",
        "                # update the word count\n",
        "                self.word_count[word] += 1\n",
        "\n",
        "vocab = Vocabulary()\n",
        "for src, tgt in text:\n",
        "    vocab.add_words_from_sentence(src)\n",
        "    vocab.add_words_from_sentence(tgt)\n",
        "print(f\"Total words in the vocabulary = {vocab.num_words}\")"
      ],
      "execution_count": 6,
      "outputs": [
        {
          "output_type": "stream",
          "text": [
            "Total words in the vocabulary = 47839\n"
          ],
          "name": "stdout"
        }
      ]
    },
    {
      "cell_type": "markdown",
      "metadata": {
        "id": "oj6xzsA1_LLr"
      },
      "source": [
        "## Create chunks for each publication"
      ]
    },
    {
      "cell_type": "code",
      "metadata": {
        "colab": {
          "base_uri": "https://localhost:8080/"
        },
        "id": "y_Fldps6fJkf",
        "outputId": "0bd3ff7a-619d-4367-dfb4-e1c603e82464"
      },
      "source": [
        "# Every publication input will be mapped into a variable numbers of chunks (split by sentence) that are less than chunk_max_len\n",
        "# These can then be batched by encoding strings, then padding them\n",
        "chunk_max_len = 512\n",
        "publication_ids = df['Id']\n",
        "dataset_label = df['dataset_label']\n",
        "chunked_text = [[]] * len(df.index) # publication id x chunks - left in string format for flexibility in encoding\n",
        "chunk_labels = [[]] * len(df.index) # publication id x chunk - if label in chunk, True else False\n",
        "\n",
        "for i in range(len(df.index)):\n",
        "    chunked_text[i] = []\n",
        "    chunk_labels[i] = []\n",
        "    chunk = ''\n",
        "    for s in df['text'][i].split('.'):\n",
        "        # print(s)\n",
        "        new_chunk = chunk + s.strip() \n",
        "        if len(s)>0 and s[-1]!='.':\n",
        "          new_chunk += '. '\n",
        "        if len(new_chunk.split(' ')) > chunk_max_len:\n",
        "            # labels_per_chunk[i].append(True if df['dataset_label'][i] in chunk else False)\n",
        "            chunk_labels[i].append(1 if df['dataset_label'][i] in chunk else 0)\n",
        "            chunked_text[i].append(chunk)\n",
        "            chunk = s\n",
        "        else:\n",
        "            chunk = new_chunk\n",
        "    # labels_per_chunk[i].append(True if df['dataset_label'][i] in chunk else False)\n",
        "    chunk_labels[i].append(1 if df['dataset_label'][i] in chunk else 0)\n",
        "    chunked_text[i].append(chunk)\n",
        "\n",
        "print(len(chunked_text[0]), chunked_text[0])\n",
        "print(dataset_label[0])"
      ],
      "execution_count": 7,
      "outputs": [
        {
          "output_type": "stream",
          "text": [
            "1 [\"This article investigates an important factor in student achievement-parental involvement. Using data from the National Education Longitudinal Study (NELS), we estimate a value-added education production function that includes parental effort as an input. Parental effort equations are also estimated as a function of child, parent, household, and school characteristics. Our results suggest that parental effort has a strong positive effect on achievement that is large relative to the effect of school resources and is not captured by family background variables. Parents appear to reduce their effort in response to increased school resources, suggesting potential ''crowding out'' of school resources. \"]\n",
            "National Education Longitudinal Study\n"
          ],
          "name": "stdout"
        }
      ]
    },
    {
      "cell_type": "markdown",
      "metadata": {
        "id": "lWObyUBq_UbU"
      },
      "source": [
        "## Create dataset \n",
        "For each publication, it will return a tensor with all the chunks inside\n",
        "Therefore, each pass of our bi-LSTM will work with one single publication (with all the chunks inside that publication)"
      ]
    },
    {
      "cell_type": "code",
      "metadata": {
        "id": "3_m_aM61nS6x",
        "colab": {
          "base_uri": "https://localhost:8080/",
          "height": 166,
          "referenced_widgets": [
            "97b7487d432646e9b647550b59cb2534",
            "d54216a57f6d45078a0c1e6b4e6a6510",
            "bc3f8dc77d614bb8a591e8e85d7f2976",
            "98bee68569c4410b9a1beed3a136ed45",
            "1566a844cae54cfb8e35b9db2c2d5bbc",
            "466e31e7626941849b29f3bed829394f",
            "d2fb96918e664a41b33e2219b57d3b39",
            "4d3406c5d81f4c0684e9502d1f5a9e64",
            "4b77f93b000b4c338a22c2eca4b175f1",
            "1d6626d6b4e4435d8ee94c0ebbdd4747",
            "02eb58fb8db04b398c188f6b52355ea8",
            "acc04513a3314f149c50a6c4b8e84156",
            "ba07b8c4b78c4259a34880d388b967e5",
            "d000ca31a73042cdb089205a69ddc915",
            "193bcc99026c42c78bd38f87c75d420d",
            "cdf0906d91f746adb927520d45ac041d",
            "de415dccd55a4c94a1cfffc19e2b6247",
            "ae8c6097578c48c19c50d47d8ba9c07c",
            "02a726ec3b824d56a37492e3472151c0",
            "b00c7b35fbb04a0597064f4b2eecf72f",
            "31baa27516034256bcc2863984c5084a",
            "38575834ee5949f5be0a565e0d779420",
            "70e0f7a8a9f348df9dee4f9d94684469",
            "5ae2e548a5fd423b8e602ff705cb0fe9"
          ]
        },
        "outputId": "05127359-a4e0-4c06-aab0-826b1652b90c"
      },
      "source": [
        "from transformers import BertModel, BertTokenizerFast\n",
        "bert_model = BertModel.from_pretrained('bert-base-uncased').to(device)\n",
        "bert_model.eval()\n",
        "tokenizer = BertTokenizerFast.from_pretrained('bert-base-uncased')\n"
      ],
      "execution_count": 10,
      "outputs": [
        {
          "output_type": "display_data",
          "data": {
            "application/vnd.jupyter.widget-view+json": {
              "model_id": "97b7487d432646e9b647550b59cb2534",
              "version_minor": 0,
              "version_major": 2
            },
            "text/plain": [
              "HBox(children=(FloatProgress(value=0.0, description='Downloading', max=231508.0, style=ProgressStyle(descripti…"
            ]
          },
          "metadata": {
            "tags": []
          }
        },
        {
          "output_type": "stream",
          "text": [
            "\n"
          ],
          "name": "stdout"
        },
        {
          "output_type": "display_data",
          "data": {
            "application/vnd.jupyter.widget-view+json": {
              "model_id": "4b77f93b000b4c338a22c2eca4b175f1",
              "version_minor": 0,
              "version_major": 2
            },
            "text/plain": [
              "HBox(children=(FloatProgress(value=0.0, description='Downloading', max=466062.0, style=ProgressStyle(descripti…"
            ]
          },
          "metadata": {
            "tags": []
          }
        },
        {
          "output_type": "stream",
          "text": [
            "\n"
          ],
          "name": "stdout"
        },
        {
          "output_type": "display_data",
          "data": {
            "application/vnd.jupyter.widget-view+json": {
              "model_id": "de415dccd55a4c94a1cfffc19e2b6247",
              "version_minor": 0,
              "version_major": 2
            },
            "text/plain": [
              "HBox(children=(FloatProgress(value=0.0, description='Downloading', max=28.0, style=ProgressStyle(description_w…"
            ]
          },
          "metadata": {
            "tags": []
          }
        },
        {
          "output_type": "stream",
          "text": [
            "\n"
          ],
          "name": "stdout"
        }
      ]
    },
    {
      "cell_type": "code",
      "metadata": {
        "id": "-MtNMrkQmTrz"
      },
      "source": [
        "from torch.nn.utils.rnn import pad_sequence\n",
        "from torch.utils.data import Dataset, DataLoader\n",
        "\n",
        "class ChunkedDataset(Dataset):\n",
        "    \"\"\"\n",
        "        @author: Alexander Rodriguez\n",
        "    \"\"\"\n",
        "\n",
        "    def __init__(self, publication_ids, chunked_text, chunk_labels, dataset_label, device, tokenizer, bert_model):\n",
        "        \"\"\"\n",
        "        Args:\n",
        "            chunked_text: list of str, contains all the chunks\n",
        "            chunk_labels: list booleans, contain whether or not the label is in the chunks\n",
        "            dataset_label: string, same label for all chunks in the publication\n",
        "            device: cpu or cuda\n",
        "        \"\"\"\n",
        "        self.publication_ids = publication_ids\n",
        "        self.chunked_text = chunked_text\n",
        "        self.chunk_labels = chunk_labels\n",
        "        self.dataset_label = dataset_label\n",
        "        self.tokenizer = tokenizer\n",
        "        self.device = device\n",
        "        self.bert_model = bert_model\n",
        "        \n",
        "    def __len__(self):\n",
        "        return len(self.publication_ids)\n",
        "\n",
        "    def __getitem__(self, idx):\n",
        "        if torch.is_tensor(idx):\n",
        "            idx = idx.tolist()\n",
        "\n",
        "        return {\"publication_ids\":self.publication_ids[idx], \"chunked_text\":self.chunked_text[idx], \n",
        "                \"chunk_labels\":self.chunk_labels[idx], \"dataset_label\":self.dataset_label[idx]}\n",
        "\n",
        "def collate_fn(data):\n",
        "    \"\"\"Creates mini-batch tensors for several publications\n",
        "\n",
        "    Return: A dictionary for each chunk (read below)\n",
        "\n",
        "        Each training observation will represent one chunk, therefore we have:\n",
        "\n",
        "          input_ids: the word ids from the Bert tokenizer\n",
        "                tensor shape (max_input_sequence_length,batch_size)\n",
        "\n",
        "          input_tensor: the Bert word embeddings for the sequence (chunk)\n",
        "                tensor shape (max_input_sequence_length,batch_size,bert_dim)\n",
        "\n",
        "          attention_mask: useful for knowing where the sequence ends\n",
        "        \n",
        "        Each chunk has two labels:\n",
        "\n",
        "          chunk_labels: (list of 0/1) whether or not the chunk contains the label\n",
        "\n",
        "          output_ids: the ids that have to be predicted for the target sequence\n",
        "                tensor shape (max_output_sequence_length,batch_size)\n",
        "\n",
        "    Sequences are padded to the maximum length of mini-batch sequences (dynamic padding).\n",
        "    \"\"\"\n",
        "    \n",
        "    chunked_text = []; chunk_labels = []; dataset_label = []\n",
        "    for publication in data:\n",
        "        # for chunk in publication:\n",
        "        chunked_text += [chunk for chunk in publication[\"chunked_text\"] ]\n",
        "        chunk_labels += [chunk for chunk  in publication[\"chunk_labels\"] ]\n",
        "        # our dataset_label have to be repeated \n",
        "        dataset_label += [publication[\"dataset_label\"] for _ in publication[\"chunk_labels\"] ]\n",
        "\n",
        "    with torch.no_grad():  # needed for memory\n",
        "\n",
        "      t = tokenizer(chunked_text, padding=True, truncation=True, return_tensors=\"pt\").to(device)\n",
        "      outputs = bert_model(**t)\n",
        "      bert_input_word_embeddings = outputs[0].permute(1,0,2)\n",
        "      del outputs\n",
        "      torch.cuda.empty_cache()\n",
        "\n",
        "    input_ids = t['input_ids'].permute(1,0)\n",
        "    attention_mask = t['attention_mask']\n",
        "\n",
        "    def encode(tgt):\n",
        "        tgt_ids = vocab.get_ids_from_sentence(tgt)\n",
        "        return tgt_ids\n",
        "        \n",
        "    # We will pre-tokenize the dataset labels (output) and save in id lists for later use\n",
        "    output_ids = [encode(tgt) for tgt in dataset_label]\n",
        "    output_ids = [torch.LongTensor(e) for e in output_ids]\n",
        "    output_ids = pad_sequence(output_ids,padding_value=pad_id).to(device)\n",
        "\n",
        "    # \"chunked_text\":chunked_text,\n",
        "    # \"dataset_label\":dataset_label,\n",
        "    return {\"input_ids\":input_ids, \"chunk_labels\":chunk_labels, \\\n",
        "            \"output_ids\":output_ids, \"input_tensor\":bert_input_word_embeddings, \\\n",
        "            'attention_mask':attention_mask}"
      ],
      "execution_count": 11,
      "outputs": []
    },
    {
      "cell_type": "code",
      "metadata": {
        "id": "vgPxKP9HoGQ8"
      },
      "source": [
        "# do not use, this is only for debugging\n",
        "# data = pd.read_csv(\"data.csv\")\n",
        "# with torch.no_grad():\n",
        "#   t = tokenizer(data['text'].tolist()[0:16], padding=True, truncation=True, return_tensors=\"pt\").to(device)\n",
        "#   outputs = bert_model(**t)\n",
        "#   encoded_layers = outputs[0]\n",
        "#   del outputs\n",
        "# torch.cuda.empty_cache()\n"
      ],
      "execution_count": null,
      "outputs": []
    },
    {
      "cell_type": "markdown",
      "metadata": {
        "id": "NbcArkDuFVNY"
      },
      "source": [
        "## Seq2seq model \n",
        "Uses Bert word embeddings\n",
        "Makes two predictions for each chunk"
      ]
    },
    {
      "cell_type": "code",
      "metadata": {
        "id": "oWPcFeM-mWbs"
      },
      "source": [
        "\n",
        "import torch.nn as nn\n",
        "class Seq2seq(nn.Module):\n",
        "    def __init__(self, vocab, bert_dim = 300, emb_dim = 300, hidden_dim = 300, num_layers = 2, dropout=0.1):\n",
        "        super().__init__()\n",
        "        \"\"\"\n",
        "          @author: Alexander Rodriguez\n",
        "          \n",
        "          bert_dim: dimension of Bert embeddings\n",
        "          emb_dim: dimension of our word embedding (used in decoder)\n",
        "          hidden_dim: dimension of our GRU hidden states\n",
        "        \"\"\"\n",
        "        \n",
        "        self.bert_dim = bert_dim\n",
        "        self.num_words = vocab.num_words\n",
        "        self.emb_dim = emb_dim\n",
        "        self.hidden_dim = hidden_dim\n",
        "        self.num_layers = num_layers\n",
        "\n",
        "        # neural layers\n",
        "        self.embedding_layer = nn.Linear(1,self.emb_dim)\n",
        "        self.encoder = nn.GRU(\n",
        "            self.bert_dim,self.hidden_dim,self.num_layers,bidirectional=True,dropout=dropout\n",
        "            )\n",
        "        self.linear_hidden = nn.Linear(self.hidden_dim,self.hidden_dim)\n",
        "        self.decoder = nn.GRU(\n",
        "            self.emb_dim,self.hidden_dim,self.num_layers,bidirectional=False,dropout=dropout\n",
        "            )\n",
        "        self.output_layer = nn.Linear(self.hidden_dim,self.num_words)\n",
        "        self.classifier = nn.Linear(self.hidden_dim, 1)\n",
        "        self.attn_softmax = nn.Softmax(1) \n",
        "\n",
        "    def encode(self, input_embeddings, attention_mask):\n",
        "        \"\"\"Encode the source batch using a bidirectional GRU encoder.\n",
        "\n",
        "        Args:\n",
        "            input_embeddings: Bert embeddings with shape (max_input_sequence_length,\n",
        "                  batch_size,bert_dim), e.g. torch.Size([512, 16, 768])\n",
        "            \n",
        "            attention_mask: attention mask obtained from Bert tokenizer\n",
        "\n",
        "        Returns:\n",
        "            A tuple with three elements:\n",
        "                encoder_output: The output hidden representation of the encoder \n",
        "                    with shape (max_input_sequence_length, batch_size, hidden_size).\n",
        "                    Can be obtained by adding the hidden representations of both \n",
        "                    directions of the encoder bidirectional GRU. \n",
        "                encoder_mask: A boolean tensor with shape (max_input_sequence_length,\n",
        "                    batch_size) indicating which encoder outputs correspond to padding\n",
        "                    tokens. Its elements should be True at positions corresponding to\n",
        "                    padding tokens and False elsewhere.\n",
        "                encoder_hidden: The final hidden states of the bidirectional GRU \n",
        "                    (after a suitable projection) that will be used to initialize \n",
        "                    the decoder. This should be a tensor h_n with shape \n",
        "                    (num_layers, batch_size, hidden_size). Note that the hidden \n",
        "                    state returned by the bi-GRU cannot be used directly. Its \n",
        "                    initial dimension is twice the required size because it \n",
        "                    contains state from two directions.\n",
        "        \"\"\"\n",
        "\n",
        "        batch_size = input_embeddings.shape[1]\n",
        "        dtype = torch.float\n",
        "        \n",
        "        # gru pass\n",
        "        encoder_output, encoder_hidden = self.encoder(input_embeddings) # seq_len first \n",
        "\n",
        "        # sum embeddings from the two GRUs\n",
        "        encoder_output = encoder_output[:,:,:self.hidden_dim] + encoder_output[:,:,self.hidden_dim:] \n",
        "\n",
        "        # hidden embedding\n",
        "        encoder_hidden = encoder_hidden.view(self.num_layers, 2, batch_size, self.hidden_dim)\n",
        "        encoder_hidden = encoder_hidden.sum(1) # sum over bi-directional, keep number of layers\n",
        "        encoder_hidden = self.linear_hidden(encoder_hidden)\n",
        "\n",
        "        encoder_mask = attention_mask.permute(1,0)\n",
        "\n",
        "        return encoder_output, encoder_mask, encoder_hidden\n",
        "\n",
        "\n",
        "\n",
        "    def decode(self, decoder_input, last_hidden, encoder_output, encoder_mask, use_classifier=False):\n",
        "        \"\"\"Run the decoder GRU for one decoding step from the last hidden state.\n",
        "\n",
        "        Args:\n",
        "            decoder_input: An integer tensor with shape (1, batch_size) containing \n",
        "                the subword indices for the current decoder input.\n",
        "            last_hidden: A pair of tensors h_{t-1} representing the last hidden\n",
        "                state of the decoder, each with shape (num_layers, batch_size,\n",
        "                hidden_size). For the first decoding step the last_hidden will be \n",
        "                encoder's final hidden representation.\n",
        "            encoder_output: The output of the encoder with shape\n",
        "                (max_src_sequence_length, batch_size, hidden_size).\n",
        "            encoder_mask: The output mask from the encoder with shape\n",
        "                (max_src_sequence_length, batch_size). Encoder outputs at positions\n",
        "                with a True value correspond to padding tokens and should be ignored.\n",
        "            use_classifier: (boolean) Whether or not we should classify\n",
        "\n",
        "        Returns:\n",
        "            A tuple with three elements:\n",
        "                logits: A tensor with shape (batch_size,\n",
        "                    vocab_size) containing unnormalized scores for the next-word\n",
        "                    predictions at each position.\n",
        "                decoder_hidden: tensor h_n with the same shape as last_hidden \n",
        "                    representing the updated decoder state after processing the \n",
        "                    decoder input.\n",
        "                attention_weights: This will be implemented later in the attention\n",
        "                    model, but in order to maintain compatible type signatures, we also\n",
        "                    include it here. This can be None or any other placeholder value.\n",
        "        \"\"\"\n",
        "        # shared layer\n",
        "        dtype = torch.float\n",
        "        input = decoder_input.type(dtype)\n",
        "        input = self.embedding_layer(input.permute(1,0).unsqueeze(2))\n",
        "\n",
        "        # attention weights\n",
        "        max_src_sequence_length = encoder_output.shape[0]\n",
        "        batch_size = encoder_output.shape[1]\n",
        "        decoder_output, decoder_hidden = self.decoder(input.permute(1,0,2),last_hidden)  \n",
        "        # use the decoder output to get attention weights via dot-product\n",
        "        attention_weights = torch.empty((batch_size,max_src_sequence_length),device=device,dtype=dtype)\n",
        "        # function for batch dot product taken from https://discuss.pytorch.org/t/dot-product-batch-wise/9746/12\n",
        "        def bdot(a, b):\n",
        "            B = a.shape[0]\n",
        "            S = a.shape[1]\n",
        "            return torch.bmm(a.view(B, 1, S), b.view(B, S, 1)).reshape(-1)\n",
        "        for i in range(max_src_sequence_length):\n",
        "            attention_weights[:,i] = bdot(decoder_output.squeeze(0),encoder_output[i,:,:])\n",
        "        # softmax\n",
        "        attention_weights = self.attn_softmax(attention_weights)\n",
        "\n",
        "        # get context vector\n",
        "        context = torch.mul(encoder_output.permute(1,0,2), attention_weights.unsqueeze(2))\n",
        "        context = context.sum(1)\n",
        "\n",
        "        decoder_output = decoder_output.squeeze(0) + context\n",
        "        # gru pass\n",
        "        logits = self.output_layer(decoder_output)\n",
        "\n",
        "        # use the attention context as input to the classifier along with\n",
        "        # hidden states from encoder\n",
        "        if use_classifier:\n",
        "          out_classifier = self.classifier(last_hidden[0] + last_hidden[1] + context)\n",
        "        else:\n",
        "          out_classifier = torch.tensor(0.).to(device)\n",
        "                  \n",
        "        return logits, decoder_hidden, attention_weights, out_classifier\n",
        "\n",
        "\n",
        "    def compute_loss(self, input_tensor, attention_mask, target_seq, target_binary):\n",
        "        \"\"\"Run the model on the source and compute the loss on the target.\n",
        "\n",
        "        Args:\n",
        "            input_tensor & attention_mask: \n",
        "                  Coming from Bert, directly go to encoder\n",
        "                  See encoder documentation for details\n",
        "\n",
        "            target_seq: An integer tensor with shape (max_target_sequence_length,\n",
        "                batch_size) containing subword indices for the target sentences.\n",
        "\n",
        "            target_binary: Binary indicator for the chunk, indicates if\n",
        "                the label is in that chunk (it's a list)\n",
        "                NOTE: this is used as a mask for the sequence loss\n",
        "\n",
        "        Returns:\n",
        "            A scalar float tensor representing cross-entropy loss on the current batch\n",
        "            divided by the number of target tokens in the batch.\n",
        "            Many of the target tokens will be pad tokens. You should mask the loss \n",
        "            from these tokens using appropriate mask on the target tokens loss.\n",
        "        \"\"\"\n",
        "\n",
        "        # loss criterion, ignoring pad id tokens\n",
        "        criterion = nn.CrossEntropyLoss(ignore_index=pad_id,reduction='none')\n",
        "        criterion_classification = nn.BCEWithLogitsLoss(reduction='sum')\n",
        "        \n",
        "        # call encoder\n",
        "        encoder_output, encoder_mask, encoder_hidden = self.encode(input_tensor, attention_mask)\n",
        "\n",
        "        # decoder\n",
        "        max_target_sequence_length = target_seq.shape[0]\n",
        "        last_hidden = encoder_hidden\n",
        "        total_loss = torch.tensor(0.).to(device)\n",
        "        target_binary = torch.tensor(target_binary,dtype=torch.float).to(device)\n",
        "        for i in range(max_target_sequence_length-1):\n",
        "            decoder_input = target_seq[[i],]\n",
        "            # do a forward pass over classifier only for the first \n",
        "            use_classifier = True if i==0 else False  \n",
        "            logits, decoder_hidden, attention_weights, out_classifier = self.decode(decoder_input, last_hidden, encoder_output, encoder_mask, use_classifier)\n",
        "            # target_binary serves as a mask for the loss\n",
        "            # we only care about the predicted sequence when we should\n",
        "            total_loss += (criterion(logits,target_seq[i+1,]) * target_binary).sum() \n",
        "            # get classification loss only for the first one (which is where out_classifier is meaningful)\n",
        "            if use_classifier:\n",
        "              class_loss = criterion_classification(out_classifier.view(-1),target_binary)\n",
        "            # now we have to make last_hidden to be hidden embedding of gru\n",
        "            last_hidden = decoder_hidden\n",
        "        # denominator of loss\n",
        "        total_target_tokens = torch.sum(target_seq != pad_id).cpu()\n",
        "        return total_loss/total_target_tokens + class_loss\n"
      ],
      "execution_count": 12,
      "outputs": []
    },
    {
      "cell_type": "code",
      "metadata": {
        "id": "pAHFoxKRemLo"
      },
      "source": [
        "import tqdm\n",
        "def train(model, data_loader, num_epochs, model_file, learning_rate=0.0001):\n",
        "    \"\"\"Train the model for given number of epochs and save the trained model in \n",
        "    the final model_file.\n",
        "    \"\"\"\n",
        "\n",
        "    decoder_learning_ratio = 5.0\n",
        "    \n",
        "    encoder_parameter_names = ['embedding_layer','encoder','linear_hidden'] \n",
        "                               \n",
        "    encoder_named_params = list(filter(lambda kv: any(key in kv[0] for key in encoder_parameter_names), model.named_parameters()))\n",
        "    decoder_named_params = list(filter(lambda kv: not any(key in kv[0] for key in encoder_parameter_names), model.named_parameters()))\n",
        "    encoder_params = [e[1] for e in encoder_named_params]\n",
        "    decoder_params = [e[1] for e in decoder_named_params]\n",
        "    optimizer = torch.optim.AdamW([{'params': encoder_params},\n",
        "                {'params': decoder_params, 'lr': learning_rate * decoder_learning_ratio}], lr=learning_rate)\n",
        "    \n",
        "    clip = 50.0\n",
        "    for epoch in tqdm.notebook.trange(num_epochs, desc=\"training\", unit=\"epoch\"):\n",
        "        # print(f\"Total training instances = {len(train_dataset)}\")\n",
        "        # print(f\"train_data_loader = {len(train_data_loader)} {1180 > len(train_data_loader)/20}\")\n",
        "        with tqdm.notebook.tqdm(\n",
        "                data_loader,\n",
        "                desc=\"epoch {}\".format(epoch + 1),\n",
        "                unit=\"batch\",\n",
        "                total=len(data_loader)) as batch_iterator:\n",
        "            model.train()\n",
        "            total_loss = 0.0\n",
        "            for i, batch_data in enumerate(batch_iterator, start=1):\n",
        "                input_tensor = batch_data[\"input_tensor\"]\n",
        "                attention_mask = batch_data[\"attention_mask\"]\n",
        "                output_ids = batch_data[\"output_ids\"]\n",
        "                target_binary = batch_data[\"chunk_labels\"]\n",
        "                optimizer.zero_grad()\n",
        "                loss = model.compute_loss(input_tensor, attention_mask, output_ids,target_binary)\n",
        "                total_loss += loss.item()\n",
        "                loss.backward()\n",
        "                # Gradient clipping before taking the step\n",
        "                _ = nn.utils.clip_grad_norm_(model.parameters(), clip)\n",
        "                optimizer.step()\n",
        "\n",
        "                batch_iterator.set_postfix(mean_loss=total_loss / i, current_loss=loss.item())\n",
        "    # Save the model after training         \n",
        "    torch.save(model.state_dict(), model_file)"
      ],
      "execution_count": 13,
      "outputs": []
    },
    {
      "cell_type": "code",
      "metadata": {
        "id": "afpiPN_vni9G"
      },
      "source": [
        "# Create the DataLoader for all publications\n",
        "dataset = ChunkedDataset(publication_ids[0:2000], chunked_text[0:2000], chunk_labels[0:2000], dataset_label[0:2000], device, tokenizer, bert_model)\n",
        "batch_size = 4  # this means it's 4 publications per batch ---too large may not fit in GPU memory\n",
        "data_loader = DataLoader(dataset=dataset, batch_size=batch_size, \n",
        "                               shuffle=True, collate_fn=collate_fn)"
      ],
      "execution_count": null,
      "outputs": []
    },
    {
      "cell_type": "code",
      "metadata": {
        "colab": {
          "base_uri": "https://localhost:8080/",
          "height": 380,
          "referenced_widgets": [
            "d328e84e157c4b3da9edde69f3630685",
            "f0ff29e049864c1aae64adcf0ed69ab1",
            "2078efb3f1c04948bfd5881ab5d3bf15",
            "0bb1dbb640174b6aa3e6f7904fc119d9",
            "1ad18877b63841da80c55902bbd47c2f",
            "9420faf1a5034b74bea0e488809b58e2",
            "8d553b0686b447c783a501962dbdd8c8",
            "a0c04cdc8dcd4319927599b8d3661a87",
            "c453c380e0b34432b054cd502a30c8b1",
            "ea6f3b29f4cb4f42a907ef21e3404d86",
            "c5c936bcca2641ca99f4965ef88c0855",
            "3c69e8e8d2174ba3b1044baf0079b21a",
            "57111519b92f47bfa45cd32b9a06cc91",
            "77a71e691b6f4f56a9bc89b07c9ee26e",
            "d6cdf352b5fc4894937fb67e03ac214d",
            "3117dd2a230542039d589ab3e2229e33",
            "ecd038cf084342f8be73ed8a52e1f78f",
            "b8de7248349a4ca78375220e62ce4e98",
            "f213283a936f49fbb716334b12c7f6c9",
            "420f225deb0847eaa458ae2c617e2183",
            "4be9c2def367474a8d83d4d2e5d31ab5",
            "675df5e77845451e8d7e50e9a4541f50",
            "7b69469fb8004f10ae946c525edd5d0a",
            "eaba57181e35495da8d0b7d6e7856efa",
            "c3de77f4c3604197a6ee8c5344e18986",
            "7dadf2620dd04f80936ce5159c37e507",
            "c88628d9c277447c9f51a31762c1a06a",
            "2dfc8d377c5141a0a5d45dc211adf1fb",
            "f1d157717d4649cfbb72ffe8dc5b0e1e",
            "1bd1291ac8b74838845bcf9a4e38bc84",
            "39f847ede09d496eb280bfba5fe1aa08",
            "e7e513e012f2488f8c03fee1ca0a0ea7",
            "e5246306a95f4fddbd54ca63df9ec2bd",
            "0b6faa80d2b94be5a00520a338bb3ecf",
            "b34ef98da188445d9cfc118ed0fa76dd",
            "fa1cdf085944495ba5640ab74298f899",
            "019eb6b30cb341e5bd20c6e4232479ba",
            "65af057a58b54c0582339faa8f80dfc7",
            "ec84b93ef151477599dc4cc11c79b208",
            "3d8ba8afd1b2491fa93c1856a363b18a",
            "6ddd39d13e9249ea8ac3e60b2c41ed23",
            "4aa72bdea50547e383c09bdde5e91d5b",
            "2b1fcc319721404ba8da5b63aa2c6f93",
            "988ddee94e464625963976b3014e00a2",
            "b9d115a2a88949058f4171016f8303ea",
            "990842b6c419429bb9d7fabdde61c296",
            "af306ee47f84482785c92b4c42924d2f",
            "a560acf7f1274102b582045c348fb09c",
            "3107dc267f424173b5aee37bab57af0a",
            "23d25447bede44ec81d023028fd3a773",
            "11ce247d738f44638ab5f4ab82b933fc",
            "130ca444521f41928c3fa60e35b94831",
            "1d5881685acf42acac91f4de619ff01e",
            "b3dc212664074e609a9a7c25892327c9",
            "9e71ad2223a6452b856a52ce9f074396",
            "220a3b5f6e7d4d85b9d4b28905ac36e6",
            "27ef1c57057341318db0f9413a447706",
            "b6e15ee74c79486f9bfa68a5c3ad045b",
            "b9d5fdedf5984ce09a508fd8a6f68ac6",
            "c3214f01b6fd45d9b5edcd86ecd0ea3c",
            "4f7eca61937a49b49b65f3472653e1c7",
            "3d371309c62e4126a606e194b182e34f",
            "1efc6abe8ba644ce803edd1546928b30",
            "12fca65335424cf5b77dafe9aa15d4e4"
          ]
        },
        "id": "XcLWK6jZOboM",
        "outputId": "1161ddda-024d-4730-93cb-c52a18011299"
      },
      "source": [
        "# You are welcome to adjust these parameters based on your model implementation.\n",
        "num_epochs = 10\n",
        "model = Seq2seq(vocab,bert_dim=768,emb_dim=256,hidden_dim=256,num_layers=2).to(device)\n",
        "train(model, data_loader, num_epochs, \"bert_word_seq2seq_model_2.pt\")\n",
        "# Download the trained model to local for future use\n"
      ],
      "execution_count": null,
      "outputs": [
        {
          "output_type": "display_data",
          "data": {
            "application/vnd.jupyter.widget-view+json": {
              "model_id": "d328e84e157c4b3da9edde69f3630685",
              "version_minor": 0,
              "version_major": 2
            },
            "text/plain": [
              "HBox(children=(FloatProgress(value=0.0, description='training', max=10.0, style=ProgressStyle(description_widt…"
            ]
          },
          "metadata": {
            "tags": []
          }
        },
        {
          "output_type": "display_data",
          "data": {
            "application/vnd.jupyter.widget-view+json": {
              "model_id": "c453c380e0b34432b054cd502a30c8b1",
              "version_minor": 0,
              "version_major": 2
            },
            "text/plain": [
              "HBox(children=(FloatProgress(value=0.0, description='epoch 1', max=500.0, style=ProgressStyle(description_widt…"
            ]
          },
          "metadata": {
            "tags": []
          }
        },
        {
          "output_type": "stream",
          "text": [
            "\n"
          ],
          "name": "stdout"
        },
        {
          "output_type": "display_data",
          "data": {
            "application/vnd.jupyter.widget-view+json": {
              "model_id": "ecd038cf084342f8be73ed8a52e1f78f",
              "version_minor": 0,
              "version_major": 2
            },
            "text/plain": [
              "HBox(children=(FloatProgress(value=0.0, description='epoch 2', max=500.0, style=ProgressStyle(description_widt…"
            ]
          },
          "metadata": {
            "tags": []
          }
        },
        {
          "output_type": "stream",
          "text": [
            "\n"
          ],
          "name": "stdout"
        },
        {
          "output_type": "display_data",
          "data": {
            "application/vnd.jupyter.widget-view+json": {
              "model_id": "c3de77f4c3604197a6ee8c5344e18986",
              "version_minor": 0,
              "version_major": 2
            },
            "text/plain": [
              "HBox(children=(FloatProgress(value=0.0, description='epoch 3', max=500.0, style=ProgressStyle(description_widt…"
            ]
          },
          "metadata": {
            "tags": []
          }
        },
        {
          "output_type": "stream",
          "text": [
            "\n"
          ],
          "name": "stdout"
        },
        {
          "output_type": "display_data",
          "data": {
            "application/vnd.jupyter.widget-view+json": {
              "model_id": "e5246306a95f4fddbd54ca63df9ec2bd",
              "version_minor": 0,
              "version_major": 2
            },
            "text/plain": [
              "HBox(children=(FloatProgress(value=0.0, description='epoch 4', max=500.0, style=ProgressStyle(description_widt…"
            ]
          },
          "metadata": {
            "tags": []
          }
        },
        {
          "output_type": "stream",
          "text": [
            "\n"
          ],
          "name": "stdout"
        },
        {
          "output_type": "display_data",
          "data": {
            "application/vnd.jupyter.widget-view+json": {
              "model_id": "6ddd39d13e9249ea8ac3e60b2c41ed23",
              "version_minor": 0,
              "version_major": 2
            },
            "text/plain": [
              "HBox(children=(FloatProgress(value=0.0, description='epoch 5', max=500.0, style=ProgressStyle(description_widt…"
            ]
          },
          "metadata": {
            "tags": []
          }
        },
        {
          "output_type": "stream",
          "text": [
            "\n"
          ],
          "name": "stdout"
        },
        {
          "output_type": "display_data",
          "data": {
            "application/vnd.jupyter.widget-view+json": {
              "model_id": "3107dc267f424173b5aee37bab57af0a",
              "version_minor": 0,
              "version_major": 2
            },
            "text/plain": [
              "HBox(children=(FloatProgress(value=0.0, description='epoch 6', max=500.0, style=ProgressStyle(description_widt…"
            ]
          },
          "metadata": {
            "tags": []
          }
        },
        {
          "output_type": "stream",
          "text": [
            "\n"
          ],
          "name": "stdout"
        },
        {
          "output_type": "display_data",
          "data": {
            "application/vnd.jupyter.widget-view+json": {
              "model_id": "27ef1c57057341318db0f9413a447706",
              "version_minor": 0,
              "version_major": 2
            },
            "text/plain": [
              "HBox(children=(FloatProgress(value=0.0, description='epoch 7', max=500.0, style=ProgressStyle(description_widt…"
            ]
          },
          "metadata": {
            "tags": []
          }
        }
      ]
    },
    {
      "cell_type": "code",
      "metadata": {
        "id": "gE7af0nRJQM_",
        "colab": {
          "base_uri": "https://localhost:8080/"
        },
        "outputId": "b4d0ae5a-6217-4ef7-de29-0c29deadc5a9"
      },
      "source": [
        "x = next(iter(data_loader))\n",
        "print(x[\"output_ids\"])\n"
      ],
      "execution_count": null,
      "outputs": [
        {
          "output_type": "stream",
          "text": [
            "tensor([[   1,    1,    1,    1,    1,    1,    1,    1],\n",
            "        [  32,   32,  180,  180,  304,  304, 3313, 3313],\n",
            "        [  33,   33,    2,    2,  305,  305,   73,   73],\n",
            "        [  42,   42,    0,    0, 2073, 2073, 2708, 2708],\n",
            "        [  43,   43,    0,    0, 2074, 2074, 3314, 3314],\n",
            "        [  44,   44,    0,    0, 2075, 2075,   31,   31],\n",
            "        [ 180,  180,    0,    0,    2,    2, 3315, 3315],\n",
            "        [   2,    2,    0,    0,    0,    0,  489,  489],\n",
            "        [   0,    0,    0,    0,    0,    0,    2,    2]], device='cuda:0')\n"
          ],
          "name": "stdout"
        }
      ]
    },
    {
      "cell_type": "markdown",
      "metadata": {
        "id": "2sYJYNqsFAt_"
      },
      "source": [
        "## Evaluation\n",
        "This come is from Alex Wang, I haven't checked it."
      ]
    },
    {
      "cell_type": "markdown",
      "metadata": {
        "id": "k_O-Cko3dz3l"
      },
      "source": [
        "Load model"
      ]
    },
    {
      "cell_type": "code",
      "metadata": {
        "colab": {
          "base_uri": "https://localhost:8080/"
        },
        "id": "yWPRy-Xddze8",
        "outputId": "f93d9a7e-21de-436a-91e8-2c8b0ae61540"
      },
      "source": [
        "model = Seq2seq(vocab,bert_dim=768,emb_dim=256,hidden_dim=256,num_layers=2).to(device)\n",
        "model.load_state_dict(torch.load(\"full.pt\"))"
      ],
      "execution_count": 14,
      "outputs": [
        {
          "output_type": "execute_result",
          "data": {
            "text/plain": [
              "<All keys matched successfully>"
            ]
          },
          "metadata": {
            "tags": []
          },
          "execution_count": 14
        }
      ]
    },
    {
      "cell_type": "code",
      "metadata": {
        "colab": {
          "base_uri": "https://localhost:8080/"
        },
        "id": "9XZCBdxGyZNQ",
        "outputId": "87e59f90-a876-4aa2-eeb8-fba40c54bdd6"
      },
      "source": [
        "print(chunked_text[0])"
      ],
      "execution_count": null,
      "outputs": [
        {
          "output_type": "stream",
          "text": [
            "[\"Introduction: The heterogeneity of behavioral variant frontotemporal dementia (bvFTD) calls for multivariate imaging biomarkers. Methods: We studied a total of 148 dementia patients from the Feinstein Institute (Center-A: 25 bvFTD and 10 Alzheimer's disease), Technical University of Munich (Center-B: 44 bvFTD and 29 FTD language variants), and Alzheimer's Disease Neuroimaging Initiative (40 Alzheimer's disease subjects). To identify the covariance pattern of bvFTD (behavioral variant frontotemporal dementiarelated pattern [bFDRP]), we applied principal component analysis to combined 18F-fluorodeoxyglucose-positron emission tomography scans from bvFTD and healthy subjects. The phenotypic specificity and clinical correlates of bFDRP expression were assessed in independent testing sets. The bFDRP was identified in Center-A data (24. 1% of subject ! voxel variance; P ,. 001), reproduced in Center-B data (P ,. 001), and independently validated using combined testing data (receiver operating characteristics-area under the curve 5 0. 97; P ,. 0001). The expression of bFDRP was specifically elevated in bvFTD patients (P ,. 001) and was significantly higher at more advanced disease stages (P 5. 035:duration; P ,. 01:severity). Discussion: The bFDRP can be used as a quantitative imaging marker to gauge the underlying disease process and aid in the differential diagnosis of bvFTD. Behavioral variant frontotemporal dementia; Spatial covariance pattern; Differential diagnosis; Quantitative imaging biomarker; FDG PET Dr. Eidelberg serves on the scientific advisory board and has received honoraria from The Michael J. Fox Foundation for Parkinson's Research; is listed as coinventor of patents, re: Markers for use in screening patients for nervous system dysfunction and a method and apparatus for using same, without financial gain; and has received research support from the NIH (NINDS, NIDCD, and NIAID) and the Dana Foundation. All other authors have declared that no conflict of interest exists. 1 Some of the data used in preparation of this article were obtained from the Alzheimer's Disease Neuroimaging Initiative (ADNI) database (adni. lo ni. usc. edu). As such, the investigators within the ADNI contributed to the design and implementation of ADNI and/or provided data but did not participate in analysis or writing of this report. A complete listing of ADNI investigators can be found at Behavioral variant frontotemporal dementia (bvFTD) is the most common clinical phenotype of frontotemporal lobar degeneration (FTLD), a leading cause of dementia in midlife [1]. This syndrome is characterized by progressive impairment of personal and social behavior, as well as emotional, language, and executive functions [1]. However, similar symptoms are also seen in various other psychiatric and neurodegenerative disorders, particularly Alzheimer's disease (AD), making accurate diagnosis of bvFTD challenging [1] , especially at early stages of the disease [2]. Overall, the accuracy of clinical diagnosis of dementia has been improved with the study of 18 F-fluorodeoxyglucose (FDG) positron emission tomography (PET) brain scans [3] , as suggested by the diagnostic criteria for bvFTD [4] and AD [5]. \", ' However, the considerable individual variability in neuroanatomical involvement seen in bvFTD patients [6] [7] [8] restricts the use of regional and univariate analytical approaches for early and accurate detection of this disorder [2, 7, 9] , calling for the identification and standardization of multivariate quantitative imaging biomarkers [10, 11] for this dementia syndrome [12] A multivariate brain mapping approach, based on principal component analysis (PCA), has been applied to FDG PET data for several neurodegenerative disorders to identify disease-related spatial covariance patterns [13] [14] [15]. The expression of such metabolic signatures [10, 13] can be quantified in the scan data of prospective individual subjects [14, 15] and thus has been used to aid in early differential diagnosis, predict disease progression, and track response to therapy [13]. Nonetheless, to date, a metabolic covariance pattern has not been determined for bvFTD. The main objective of this study was to identify and characterize the bvFTD metabolic covariance pattern (bvFTD-related pattern [bFDRP] ) and assess its performance as an imaging marker for bvFTD. Our basic hypothesis was that bFDRP can classify independent bvFTD patients from healthy controls. Specifically, we identified bFDRP in a North American sample, cross-validated its reproducibility in a pathologyconfirmed European sample, and assessed its clinical correlates and classification performance for early-stage dementia. ']\n"
          ],
          "name": "stdout"
        }
      ]
    },
    {
      "cell_type": "code",
      "metadata": {
        "colab": {
          "base_uri": "https://localhost:8080/"
        },
        "id": "_bXYiQzax5xG",
        "outputId": "9a1eb97c-f6c7-4cdb-d768-23d88a502cb2"
      },
      "source": [
        "print(sent)"
      ],
      "execution_count": null,
      "outputs": [
        {
          "output_type": "stream",
          "text": [
            "National Education Longitudinal Study\n"
          ],
          "name": "stdout"
        }
      ]
    },
    {
      "cell_type": "code",
      "metadata": {
        "id": "lzYTy0sOV1C-"
      },
      "source": [
        "def predict_greedy(model, sentence, max_length=100):\n",
        "    \"\"\"Make predictions for the given input using greedy inference.\n",
        "    \n",
        "    Args:\n",
        "        model: A sequence-to-sequence model.\n",
        "        sentence: A input string.\n",
        "        max_length: The maximum length at which to truncate outputs in order to\n",
        "            avoid non-terminating inference.\n",
        "    \n",
        "    Returns:\n",
        "        Model's predicted greedy response for the input, represented as string.\n",
        "    \"\"\"\n",
        "\n",
        "    # You should make only one call to model.encode() at the start of the function, \n",
        "    # and make only one call to model.decode() per inference step.\n",
        "    with torch.no_grad():  # needed for memory\n",
        "\n",
        "      t = tokenizer(sentence, padding=True, truncation=True, return_tensors=\"pt\").to(device)\n",
        "      outputs = bert_model(**t)\n",
        "      bert_input_word_embeddings = outputs[0].permute(1,0,2)\n",
        "      del outputs\n",
        "      torch.cuda.empty_cache()\n",
        "\n",
        "    input_ids = t['input_ids'].permute(1,0)\n",
        "    attention_mask = t['attention_mask']\n",
        "   \n",
        "    \n",
        "    model.eval()\n",
        "    model.encode(bert_input_word_embeddings,attention_mask)\n",
        "    encoder_output, encoder_mask, encoder_hidden = model.encode(bert_input_word_embeddings, attention_mask)\n",
        "\n",
        "    last_hidden = encoder_hidden\n",
        "\n",
        "    start = bos_id\n",
        "    sent = [start]\n",
        "    i = 0\n",
        "    while start != eos_id and i < 100:\n",
        "          use_classifier = True if i==0 else False\n",
        "          start  = torch.unsqueeze(torch.tensor(start).cuda(), 0)\n",
        "          logits, decoder_hidden, attention_weights, out_classifier = model.decode(torch.unsqueeze(torch.tensor(start).cuda(), 0), last_hidden, encoder_output, encoder_mask, use_classifier)\n",
        "          start = torch.argmax(logits[0], 0)\n",
        "          last_hidden = decoder_hidden\n",
        "          sent.append(start.item())\n",
        "          i += 1\n",
        "          if use_classifier:\n",
        "            if out_classifier < -1:\n",
        "              return False\n",
        "\n",
        "    sent = vocab.decode_sentence_from_ids(sent)\n",
        "    return sent\n",
        "\n",
        "#predictions = []\n",
        "#for i in range(100):\n",
        "#  temp = []\n",
        "#  for j in range(len(chunked_text[i])):\n",
        "#    a =  predict_greedy(model, chunked_text[i][j])\n",
        "#    temp.append(a)\n",
        "#  predictions.append(temp)\n",
        "#  print(dataset_label[i])\n",
        "#  print(temp)\n",
        "score = 0\n",
        "def jaccard(str1, str2): \n",
        "    a = set(str1.lower().split()) \n",
        "    b = set(str2.lower().split())\n",
        "    c = a.intersection(b)\n",
        "    return float(len(c)) / (len(a) + len(b) - len(c))\n",
        "\n"
      ],
      "execution_count": 19,
      "outputs": []
    },
    {
      "cell_type": "code",
      "metadata": {
        "colab": {
          "base_uri": "https://localhost:8080/"
        },
        "id": "BiXGCaWgnsaW",
        "outputId": "5b14f620-07a8-4caa-a326-1fd538d9842e"
      },
      "source": [
        "predictions[40]"
      ],
      "execution_count": null,
      "outputs": [
        {
          "output_type": "execute_result",
          "data": {
            "text/plain": [
              "['ADNI', False]"
            ]
          },
          "metadata": {
            "tags": []
          },
          "execution_count": 185
        }
      ]
    },
    {
      "cell_type": "code",
      "metadata": {
        "colab": {
          "base_uri": "https://localhost:8080/",
          "height": 36
        },
        "id": "3K4hyelJmJOU",
        "outputId": "92d04344-a528-4a58-d6a7-dd1d3116c0b7"
      },
      "source": [
        ""
      ],
      "execution_count": null,
      "outputs": [
        {
          "output_type": "execute_result",
          "data": {
            "application/vnd.google.colaboratory.intrinsic+json": {
              "type": "string"
            },
            "text/plain": [
              "\"Alzheimer's Disease Neuroimaging Initiative (ADNI)\""
            ]
          },
          "metadata": {
            "tags": []
          },
          "execution_count": 174
        }
      ]
    },
    {
      "cell_type": "code",
      "metadata": {
        "id": "sPj-DCM7pAgM"
      },
      "source": [
        ""
      ],
      "execution_count": null,
      "outputs": []
    },
    {
      "cell_type": "code",
      "metadata": {
        "id": "3Bxb7a8SoPwx"
      },
      "source": [
        "def predict_beam(model, sentence, k=3, max_length=100, thresh=-9999):\n",
        "    \"\"\"Make predictions for the given inputs using beam search.\n",
        "    \n",
        "    Args:\n",
        "        model: A sequence-to-sequence model.\n",
        "        sentence: An input sentence, represented as string.\n",
        "        k: The size of the beam.\n",
        "        max_length: The maximum length at which to truncate outputs in order to\n",
        "            avoid non-terminating inference.\n",
        "    \n",
        "    Returns:\n",
        "        A list of k beam predictions. Each element in the list should be a string\n",
        "        corresponding to one of the top k predictions for the corresponding input,\n",
        "        sorted in descending order by its final score.\n",
        "    \"\"\"\n",
        "\n",
        "    # Implementation tip: once an eos_token has been generated for any beam, \n",
        "    # remove its subsequent predictions from that beam by adding a small negative \n",
        "    # number like -1e9 to the appropriate logits. This will ensure that the \n",
        "    # candidates are removed from the beam, as its probability will be very close\n",
        "    # to 0. Using this method, uou will be able to reuse the beam of an already \n",
        "    # finished candidate\n",
        "\n",
        "    # Implementation tip: while you are encouraged to keep your tensor dimensions\n",
        "    # constant for simplicity (aside from the sequence length), some special care\n",
        "    # will need to be taken on the first iteration to ensure that your beam\n",
        "    # doesn't fill up with k identical copies of the same candidate.\n",
        "    \n",
        "    # You are welcome to tweak alpha\n",
        "    alpha = 0.9\n",
        "    with torch.no_grad():  # needed for memory\n",
        "\n",
        "      t = tokenizer(sentence, padding=True, truncation=True, return_tensors=\"pt\").to(device)\n",
        "      outputs = bert_model(**t)\n",
        "      bert_input_word_embeddings = outputs[0].permute(1,0,2)\n",
        "      del outputs\n",
        "      torch.cuda.empty_cache()\n",
        "\n",
        "    input_ids = t['input_ids'].permute(1,0)\n",
        "    attention_mask = t['attention_mask']\n",
        "    model.eval()\n",
        "    model.encode(bert_input_word_embeddings,attention_mask)\n",
        "    encoder_output, encoder_mask, encoder_hidden = model.encode(bert_input_word_embeddings, attention_mask)\n",
        "\n",
        "    last_hidden = encoder_hidden\n",
        "\n",
        "    start = bos_id\n",
        "    sent = [start]\n",
        "    i = 0\n",
        "    start = bos_id    \n",
        "    beams = []\n",
        "    start  = torch.unsqueeze(torch.tensor(start).cuda(), 0)\n",
        "    logits, decoder_hidden, attention_weights, out_classifier = model.decode(torch.unsqueeze(torch.tensor(start).cuda(), 0), last_hidden, encoder_output, encoder_mask, 1)\n",
        "\n",
        "    if out_classifier < -1:\n",
        "      return False\n",
        "    out = torch.log_softmax(logits[0], 0)\n",
        "    values, start = torch.topk(out, k, 0)\n",
        "    for i in range(len(values)):\n",
        "      # Each beam contains the log probs at its first index and the hidden states at its last index\n",
        "      beams.append([values[i], start[i].item(), decoder_hidden])\n",
        "    generation = []\n",
        "    i = 0\n",
        "    while i < k:\n",
        "      curr = []\n",
        "      for j in beams:\n",
        "          start  = torch.unsqueeze(torch.tensor(j[-2]).cuda(), 0)\n",
        "          logits, decoder_hidden, attention_weights, out_classifier = model.decode(torch.unsqueeze(torch.tensor(start).cuda(), 0), j[-1], encoder_output, encoder_mask, 0)\n",
        "    \n",
        "          out = torch.log_softmax(logits[0], 0)\n",
        "\n",
        "          values, start = torch.topk(out, k, 0)\n",
        "          for z in range(len(values)):\n",
        "            temp = j.copy()\n",
        "            temp[0] = values[z] + temp[0]\n",
        "            temp.insert(-1, start[z].item())\n",
        "            temp[-1] = decoder_hidden\n",
        "            curr.append(temp)\n",
        "      curr = sorted(curr,reverse=True, key=lambda x: x[0])\n",
        "      curr = curr[0:k - i]\n",
        "      beams = []\n",
        "      for j in curr:\n",
        "        if j[-2] == eos_id or len(j) > 20:\n",
        "          generation.append(j[:-1])\n",
        "          i +=1\n",
        "        else:\n",
        "          beams.append(j)\n",
        "    final = []\n",
        "    generation = sorted(generation, reverse=True, key=lambda x: x[0]/(len(x)-1)**alpha)\n",
        "    for i in generation:\n",
        "\n",
        "      if i[0].item() > thresh:\n",
        "        final.append(vocab.decode_sentence_from_ids(i[1:]).lower())\n",
        "    return final\n",
        "predictions = []\n",
        "for i in range(2600):\n",
        "  temp = []\n",
        "  for j in chunked_text[i]:\n",
        "    x = predict_beam(model, j, thresh=-2.5)\n",
        "    if x:\n",
        "        #I'm taking only one of the chunks that are predicted true\n",
        "        temp = x\n",
        "        break\n",
        "  predictions.append(temp)\n"
      ],
      "execution_count": 101,
      "outputs": []
    },
    {
      "cell_type": "code",
      "metadata": {
        "colab": {
          "base_uri": "https://localhost:8080/"
        },
        "id": "OyBv1bLMab9Q",
        "outputId": "db4b4e74-ae52-406c-85f4-0f91225ba278"
      },
      "source": [
        "print(len(predictions))"
      ],
      "execution_count": 102,
      "outputs": [
        {
          "output_type": "stream",
          "text": [
            "2600\n"
          ],
          "name": "stdout"
        }
      ]
    },
    {
      "cell_type": "code",
      "metadata": {
        "colab": {
          "base_uri": "https://localhost:8080/"
        },
        "id": "kinw9KqKWlNr",
        "outputId": "8995e060-13f8-4239-c8ac-35426f6f97c4"
      },
      "source": [
        "score = 0\n",
        "for i in range(2600):\n",
        "  for j in predictions[i]:\n",
        "    found = False\n",
        "    if jaccard(df.loc[i][5], j) > 0.5:\n",
        "      score += 1\n",
        "      found = True\n",
        "      break\n",
        "  \n",
        "\n",
        "print(\"max accuracy\")\n",
        "print(score/2600)"
      ],
      "execution_count": 103,
      "outputs": [
        {
          "output_type": "stream",
          "text": [
            "max accuracy\n",
            "0.8376923076923077\n"
          ],
          "name": "stdout"
        }
      ]
    },
    {
      "cell_type": "code",
      "metadata": {
        "colab": {
          "base_uri": "https://localhost:8080/"
        },
        "id": "lIVJ4stut9Pm",
        "outputId": "536e0720-b531-4f52-d4a7-e3b20c1c9e43"
      },
      "source": [
        "print(df.loc[5][5])"
      ],
      "execution_count": 104,
      "outputs": [
        {
          "output_type": "stream",
          "text": [
            "national education longitudinal study\n"
          ],
          "name": "stdout"
        }
      ]
    },
    {
      "cell_type": "code",
      "metadata": {
        "id": "JPJ5_xjpaE2m"
      },
      "source": [
        "testing = {}\n",
        "for i in range(0, len(predictions)):\n",
        "  if publication_ids[i] not in testing.keys():\n",
        "    pred = predictions[i]\n",
        "    \n",
        "      \n",
        "    testing[publication_ids[i]] = (pred, [df.loc[i][5]])\n",
        "  else:\n",
        "    testing[publication_ids[i]][1].append(df.loc[i][5])"
      ],
      "execution_count": 105,
      "outputs": []
    },
    {
      "cell_type": "code",
      "metadata": {
        "colab": {
          "base_uri": "https://localhost:8080/"
        },
        "id": "AT9PbJ_MX8Q5",
        "outputId": "31b54532-0b87-40b6-869d-dd62f05be5f9"
      },
      "source": [
        "print(len(testing.keys()))"
      ],
      "execution_count": 106,
      "outputs": [
        {
          "output_type": "stream",
          "text": [
            "1712\n"
          ],
          "name": "stdout"
        }
      ]
    },
    {
      "cell_type": "code",
      "metadata": {
        "id": "8CiejJ_Bq-a-"
      },
      "source": [
        "tp = 0\n",
        "fp = 0\n",
        "fn = 0\n",
        "for i in testing.values():\n",
        "  prediction = set(i[0])\n",
        "  cop = prediction.copy()\n",
        "  true_pred = i[1].copy()\n",
        "  check = False\n",
        "  #check exact match first\n",
        "  for j in prediction:\n",
        "    if j in true_pred:\n",
        "      tp += 1\n",
        "      true_pred.remove(j)\n",
        "      cop.remove(j)\n",
        "  #then check rest for jaccard score\n",
        "  for j in cop:\n",
        "    found = False\n",
        "    removal = 0\n",
        "    for k in true_pred:\n",
        "      if jaccard(j, k) >= 0.5:\n",
        "        found = True\n",
        "        removal = k\n",
        "        break\n",
        "    if found:\n",
        "      tp += 1\n",
        "      true_pred.remove(removal)\n",
        "    else:\n",
        "      fp += 1\n",
        "  fn += len(true_pred)"
      ],
      "execution_count": 107,
      "outputs": []
    },
    {
      "cell_type": "markdown",
      "metadata": {
        "id": "umZQwm3MpR26"
      },
      "source": [
        "TRAINING PERFORMANCE"
      ]
    },
    {
      "cell_type": "code",
      "metadata": {
        "colab": {
          "base_uri": "https://localhost:8080/"
        },
        "id": "FL1CcJLmrEvw",
        "outputId": "c7b8f4c2-b4ef-430f-95d6-d60d8e196b31"
      },
      "source": [
        "print(\"training performance\")\n",
        "print(\"micro F score\")\n",
        "print(fp)\n",
        "print(fn)\n",
        "print(tp/(tp + 1/2*(fp+fn)))\n",
        "print(\"accuracy\")\n",
        "print(tp/(tp+fn))"
      ],
      "execution_count": 108,
      "outputs": [
        {
          "output_type": "stream",
          "text": [
            "training performance\n",
            "micro F score\n",
            "1324\n",
            "436\n",
            "0.7109067017082786\n",
            "accuracy\n",
            "0.8323076923076923\n"
          ],
          "name": "stdout"
        }
      ]
    },
    {
      "cell_type": "code",
      "metadata": {
        "colab": {
          "base_uri": "https://localhost:8080/"
        },
        "id": "ympES7faTyAA",
        "outputId": "3eb3bb67-3a1b-460a-a44d-b7d72c6cf5f7"
      },
      "source": [
        "print(len(df))"
      ],
      "execution_count": 111,
      "outputs": [
        {
          "output_type": "stream",
          "text": [
            "3284\n"
          ],
          "name": "stdout"
        }
      ]
    },
    {
      "cell_type": "code",
      "metadata": {
        "id": "me5bFi3nTuEI"
      },
      "source": [
        "predictions = []\n",
        "for i in range(2600, 3284):\n",
        "  temp = []\n",
        "  for j in chunked_text[i]:\n",
        "    x = predict_beam(model, j, thresh=-3.5)\n",
        "    if x:\n",
        "        for z in x:\n",
        "        #I'm taking only one of the chunks that are predicted true\n",
        "          temp.append(z)\n",
        "        \n",
        "  predictions.append(temp)"
      ],
      "execution_count": 144,
      "outputs": []
    },
    {
      "cell_type": "code",
      "metadata": {
        "colab": {
          "base_uri": "https://localhost:8080/"
        },
        "id": "mipgengBVOYu",
        "outputId": "49cb2272-d4f9-4045-cd49-74204a5335c0"
      },
      "source": [
        "print(predictions)"
      ],
      "execution_count": 145,
      "outputs": [
        {
          "output_type": "stream",
          "text": [
            "[['Agricultural Resource Management Survey', 'Agricultural Resource Management'], ['Survey of Earned Doctorates', 'Survey of Earned of', 'Survey'], [], ['Survey of Earned Doctorates', 'Survey of Earned of', 'Survey of of Doctorates'], ['World Ocean Database', 'World Ocean Database Database', 'World'], ['World Ocean Database', 'World'], ['Early Childhood Longitudinal Study', 'Early Childhood Study Study', 'Early Childhood Longitudinal'], [], [], [], [], ['Education Longitudinal Study', 'National Longitudinal Study'], ['Education Longitudinal Study', 'National Longitudinal Study'], [], [], [], ['Education Childhood Longitudinal', 'Education Longitudinal Longitudinal', 'Education Childhood Study'], ['Education Childhood Longitudinal', 'Education Longitudinal Longitudinal', 'Education Childhood Study'], ['Education Longitudinal Study', 'Education Childhood Study'], ['Education Longitudinal Study', 'Education Childhood Study'], ['Education Longitudinal Study', 'Education Longitudinal Longitudinal'], ['Education Longitudinal Study', 'Education Longitudinal Longitudinal'], [], [], ['Education Childhood Study', 'Education Childhood Longitudinal', 'National Childhood Study'], ['Education Childhood Study', 'Education Childhood Longitudinal', 'National Childhood Study'], ['Education Longitudinal Longitudinal Study', 'Education Longitudinal Longitudinal', 'Education Longitudinal Study'], ['Education Longitudinal Longitudinal Study', 'Education Longitudinal Longitudinal', 'Education Longitudinal Study'], ['Education Longitudinal Longitudinal Study', 'Education Longitudinal Longitudinal', 'Education Longitudinal Study'], ['Education Childhood Longitudinal', 'National Childhood Longitudinal', 'Education Childhood Study'], ['Education Childhood Longitudinal', 'National Childhood Longitudinal', 'Education Childhood Study'], ['National Longitudinal Study Study', 'National Longitudinal Longitudinal Study', 'Education Longitudinal Study Study'], ['National Longitudinal Study Study', 'National Longitudinal Longitudinal Study', 'Education Longitudinal Study Study'], ['National Longitudinal Study Study', 'National Longitudinal Longitudinal Study', 'Education Longitudinal Study Study'], [], [], [], [], ['Education Childhood Longitudinal', 'Education Childhood Study', 'Education Longitudinal Longitudinal'], ['Education Childhood Longitudinal', 'Education Childhood Study', 'Education Longitudinal Longitudinal'], [], [], [], [], [], ['Education Longitudinal Study', 'Education Education Study', 'National Longitudinal Study'], ['Education Longitudinal Study', 'Education Education Study', 'National Longitudinal Study'], ['Education Longitudinal Study', 'Education Education Study', 'National Longitudinal Study'], ['Education Longitudinal Study', 'Education Education Study', 'National Longitudinal Study'], ['Education Longitudinal Study'], ['Education Longitudinal Study'], ['Education Longitudinal Study'], ['Baccalaureate Longitudinal Study Study', 'Baccalaureate Longitudinal Study', 'Baccalaureate'], ['Baccalaureate Longitudinal Study Study', 'Baccalaureate Longitudinal Study', 'Baccalaureate'], ['Baccalaureate Longitudinal Study Study', 'Baccalaureate Longitudinal Study', 'Baccalaureate'], ['Baccalaureate Longitudinal Study Study', 'Baccalaureate Longitudinal Study', 'Baccalaureate'], [], [], ['Education Longitudinal Study Study', 'Education Longitudinal Study', 'Education Longitudinal Longitudinal'], ['Education Longitudinal Study Study', 'Education Longitudinal Study', 'Education Longitudinal Longitudinal'], ['Education Longitudinal Study Study', 'Education Longitudinal Study', 'Education Longitudinal Longitudinal'], ['Education Longitudinal Study Study', 'Education Longitudinal Study', 'Education Longitudinal Longitudinal'], ['Education Longitudinal Study Study', 'Education Longitudinal Study', 'Education Longitudinal Longitudinal'], [], [], [], [], ['Education Childhood Longitudinal', 'Education Longitudinal Longitudinal', 'Education Childhood Study'], ['Education Childhood Longitudinal', 'Education Longitudinal Longitudinal', 'Education Childhood Study'], ['Trends in International Mathematics and Science Study'], [], [], ['Early Childhood Longitudinal Study', 'Early Childhood Longitudinal Study Study', 'Early Childhood Longitudinal'], ['Baccalaureate Longitudinal Study'], ['Baccalaureate Longitudinal Study'], ['Education Longitudinal Study', 'National Longitudinal Study'], ['Education Longitudinal Study', 'National Longitudinal Study'], ['Education Longitudinal Study', 'Education Longitudinal Longitudinal', 'National Longitudinal Study'], ['Education Longitudinal Study', 'Education Longitudinal Longitudinal', 'National Longitudinal Study'], ['Education Longitudinal Longitudinal', 'Education Longitudinal Study', 'Education Education Longitudinal', 'Baccalaureate Longitudinal Study Study'], ['Education Longitudinal Longitudinal', 'Education Longitudinal Study', 'Education Education Longitudinal', 'Baccalaureate Longitudinal Study Study'], ['Education Longitudinal Longitudinal', 'Education Longitudinal Study', 'Education Education Longitudinal', 'Baccalaureate Longitudinal Study Study'], ['Education Longitudinal Longitudinal', 'Education Longitudinal Study', 'Education Education Longitudinal', 'Baccalaureate Longitudinal Study Study'], ['Education Longitudinal Study Study', 'Education Longitudinal Study', 'National Longitudinal Study'], ['Education Longitudinal Study Study', 'Education Longitudinal Study', 'National Longitudinal Study'], ['Education Longitudinal Study Study', 'Education Longitudinal Study', 'National Longitudinal Study'], ['Education Longitudinal Study Study', 'Education Longitudinal Study', 'National Longitudinal Study'], ['Education Longitudinal Study Study', 'Education Longitudinal Study', 'National Longitudinal Study'], ['Education Longitudinal Study Study', 'National Longitudinal Study Study', 'Education Longitudinal Study'], ['Education Longitudinal Longitudinal Study', 'Education Longitudinal Study Study', 'Education Longitudinal Longitudinal', 'Education Longitudinal Study Study', 'Education Longitudinal Study'], ['Education Longitudinal Longitudinal Study', 'Education Longitudinal Study Study', 'Education Longitudinal Longitudinal', 'Education Longitudinal Study Study', 'Education Longitudinal Study'], ['Baccalaureate Longitudinal Study Study', 'Baccalaureate Longitudinal Study', 'Baccalaureate Longitudinal Study Study', 'Education Longitudinal Study Study', 'Baccalaureate Longitudinal Longitudinal Study'], ['Baccalaureate Longitudinal Study Study', 'Baccalaureate Longitudinal Study', 'Baccalaureate Longitudinal Study Study', 'Education Longitudinal Study Study', 'Baccalaureate Longitudinal Longitudinal Study'], ['Baccalaureate Longitudinal Study'], ['Baccalaureate Longitudinal Study'], ['Baccalaureate Longitudinal Study Study', 'Baccalaureate Longitudinal Study'], ['Baccalaureate Longitudinal Study Study', 'Baccalaureate Longitudinal Study'], ['Baccalaureate Longitudinal Study Study', 'Baccalaureate Longitudinal Study'], ['Baccalaureate Longitudinal Study Study', 'Baccalaureate Longitudinal Study'], ['Baccalaureate Longitudinal Study'], ['Baccalaureate Longitudinal Study'], ['Baccalaureate Longitudinal Study'], ['Baccalaureate Longitudinal Study'], ['Education Longitudinal Study', 'Baccalaureate Longitudinal Study', 'Education Longitudinal Longitudinal'], ['Education Longitudinal Study', 'Baccalaureate Longitudinal Study', 'Education Longitudinal Longitudinal'], [], [], [], [], ['Baccalaureate Longitudinal Study'], ['Survey'], ['National', 'Survey', 'Education', 'Education Longitudinal Study Study', 'Education Longitudinal Study', 'National Longitudinal Study'], ['National', 'Survey', 'Education', 'Education Longitudinal Study Study', 'Education Longitudinal Study', 'National Longitudinal Study'], ['Early Childhood Longitudinal Study', 'Early Childhood Study Study', 'Early Childhood Longitudinal'], ['Survey of Earned Doctorates', 'Survey of of Doctorates', 'Survey of Earned of'], ['Education Longitudinal Study of', 'National Longitudinal Study of', 'Education Longitudinal Study Doctorates'], ['Education Longitudinal Study of', 'National Longitudinal Study of', 'Education Longitudinal Study Doctorates'], ['Education Longitudinal Study of', 'National Longitudinal Study of', 'Education Longitudinal Study Doctorates'], ['Education Longitudinal Study of', 'National Longitudinal Study of', 'Education Longitudinal Study Doctorates'], ['Education Longitudinal Study of', 'National Longitudinal Study of', 'Education Longitudinal Study Doctorates'], ['Education Longitudinal Study Study', 'Education Longitudinal Longitudinal Study', 'Education Longitudinal Study'], ['Education Longitudinal Study Study', 'Education Longitudinal Longitudinal Study', 'Education Longitudinal Study'], ['Early Childhood Longitudinal Study', 'Early Childhood Study Study', 'Early Childhood Longitudinal'], ['Early Childhood Longitudinal Study', 'Early Childhood Study Study', 'Early Childhood Longitudinal'], ['Early Childhood Longitudinal Study', 'Early Childhood Study Study', 'Early Childhood Longitudinal'], ['Early Childhood Longitudinal Study', 'Early Childhood Study Study', 'Early Childhood Longitudinal'], ['Trends in International Mathematics and Science Study'], [], [], ['Trends in International Mathematics and Science Study', 'Trends in International Mathematics and Science'], [], [], [], [], ['Education Longitudinal Longitudinal Study', 'Education Longitudinal Longitudinal', 'Education Longitudinal Study', 'Trends in International Mathematics and Science Study', 'Trends in Study Mathematics and Science Study', 'Trends in International Mathematics', 'Education Longitudinal Study', 'National Longitudinal Study', 'Education Education Study', 'Education Longitudinal Study Study', 'Education Longitudinal Study', 'Education Education Study'], ['Education Longitudinal Longitudinal Study', 'Education Longitudinal Longitudinal', 'Education Longitudinal Study', 'Trends in International Mathematics and Science Study', 'Trends in Study Mathematics and Science Study', 'Trends in International Mathematics', 'Education Longitudinal Study', 'National Longitudinal Study', 'Education Education Study', 'Education Longitudinal Study Study', 'Education Longitudinal Study', 'Education Education Study'], ['Early Childhood Longitudinal Study', 'Early Childhood Study Study', 'Early Childhood Longitudinal'], ['Trends in International Mathematics and Science Study'], ['Education Longitudinal Study', 'National Longitudinal Study', 'Education Longitudinal Longitudinal'], ['Education Longitudinal Study', 'National Longitudinal Study', 'Education Longitudinal Longitudinal'], [], [], [], [], [], ['Education Longitudinal Study Study', 'Education Longitudinal Study', 'Education Longitudinal Longitudinal'], ['Education Longitudinal Study Study', 'Education Longitudinal Study', 'Education Longitudinal Longitudinal'], [], [], ['Trends in International Mathematics and Science Study'], ['Trends in International Mathematics and Science Study'], [], ['Education Longitudinal Study Study', 'Education Education Study Study', 'Education Longitudinal Study'], ['Education Longitudinal Study Study', 'Education Education Study Study', 'Education Longitudinal Study'], ['Education Longitudinal Longitudinal', 'Education Longitudinal Study', 'Education Education Longitudinal'], ['Education Longitudinal Longitudinal', 'Education Longitudinal Study', 'Education Education Longitudinal'], ['Education Longitudinal Study Study', 'Education Longitudinal Study', 'Education Longitudinal Longitudinal', 'Education Education Study', 'Education Longitudinal Study', 'Education'], ['Education Longitudinal Study Study', 'Education Longitudinal Study', 'Education Longitudinal Longitudinal', 'Education Education Study', 'Education Longitudinal Study', 'Education'], ['Education Longitudinal Study', 'Education Longitudinal Longitudinal', 'Education Education Study'], ['Education Longitudinal Study', 'Education Longitudinal Longitudinal', 'Education Education Study'], ['Education Longitudinal Longitudinal Study', 'Education Longitudinal Study Study', 'Education Longitudinal Longitudinal'], ['Education Longitudinal Longitudinal Study', 'Education Longitudinal Study Study', 'Education Longitudinal Longitudinal'], ['Education Longitudinal Study', 'Education Longitudinal Longitudinal', 'Education Education Study'], ['Education Longitudinal Study', 'Education Longitudinal Longitudinal', 'Education Education Study'], ['Education Longitudinal Study Study', 'Education Longitudinal Longitudinal Study', 'Education Longitudinal Study'], ['Education Longitudinal Study Study', 'Education Longitudinal Longitudinal Study', 'Education Longitudinal Study'], ['Education Longitudinal Longitudinal Study', 'Education Longitudinal Longitudinal', 'Education Longitudinal Study'], ['Education Longitudinal Longitudinal Study', 'Education Longitudinal Longitudinal', 'Education Longitudinal Study'], ['Education Longitudinal Study Study', 'Education Longitudinal Study', 'National Longitudinal Study'], ['Education Longitudinal Study Study', 'Education Longitudinal Study', 'National Longitudinal Study'], ['Education Longitudinal Study Study', 'Education Longitudinal Study', 'National Longitudinal Study'], ['Education Longitudinal Study Study', 'Education Longitudinal Study', 'National Longitudinal Study'], ['Education Longitudinal Longitudinal Study', 'Education Longitudinal Study Study', 'Education Longitudinal Longitudinal'], ['Education Longitudinal Longitudinal Study', 'Education Longitudinal Study Study', 'Education Longitudinal Longitudinal'], ['Survey', 'Common'], ['Education Longitudinal Longitudinal Study', 'Education Longitudinal Study Study', 'National Longitudinal Longitudinal Study'], ['Early Childhood Longitudinal Study', 'Early Childhood Study Study', 'Early Childhood Longitudinal', 'Education Longitudinal Study Study', 'Education Longitudinal Study', 'National Longitudinal Study'], ['Early Childhood Longitudinal Study', 'Early Childhood Study Study', 'Early Childhood Longitudinal', 'Education Longitudinal Study Study', 'Education Longitudinal Study', 'National Longitudinal Study'], ['Early Childhood Longitudinal Study', 'Early Childhood Study Study', 'Early Childhood Longitudinal', 'Education Longitudinal Study Study', 'Education Longitudinal Study', 'National Longitudinal Study'], ['Early Childhood Longitudinal Study', 'Early Childhood Longitudinal', 'Early Childhood Study Study'], ['Early Childhood Longitudinal Study', 'Early Childhood Study Study', 'Early Childhood Longitudinal'], ['Early Childhood Longitudinal Study', 'Early Childhood Longitudinal', 'Early Childhood Study Study', 'Early Childhood Longitudinal Study', 'Early Childhood Study Study', 'Early Childhood Longitudinal'], ['Early Childhood Longitudinal Study', 'Early Childhood Study Study', 'Early Childhood Longitudinal'], ['Early Childhood Longitudinal Study', 'Early Childhood Study Study', 'Early Childhood Longitudinal'], ['Early Childhood Longitudinal Study', 'Early Childhood Longitudinal', 'Early Childhood Longitudinal Longitudinal'], ['Early Childhood Longitudinal Study', 'Early Childhood Study Study', 'Early Childhood Longitudinal'], ['Early Childhood Longitudinal Study', 'Early Childhood Study Study'], [], ['Early Childhood Longitudinal Study', 'Early Childhood Study Study', 'Early Childhood Longitudinal'], [], ['Trends in International Mathematics and Science Study', 'Trends in International Mathematics and', 'Trends in International Mathematics'], [], ['Trends in International Mathematics and Science Study'], ['Trends in International Mathematics', 'Trends in International Mathematics and', 'Trends in International Mathematics Assessment'], ['Trends in International Mathematics', 'Trends in International Mathematics and', 'Trends in International Mathematics Assessment'], ['Trends in International Mathematics and Science Study'], ['Trends in International Mathematics and Science Study', 'Baltimore Longitudinal Study Study', 'Education Longitudinal Study Study', 'Baltimore Longitudinal Study'], ['Trends in International Mathematics and Science Study'], ['Trends in International Mathematics and Science Study'], ['Trends in International Mathematics and Science Study', 'Trends in International Mathematics and Science Study', 'Trends in Study Mathematics and Science Study', 'Trends in International Mathematics'], ['Trends in International Mathematics and Science Study'], ['Trends in International Mathematics and Science Study'], ['Trends in International Mathematics and Science Study'], ['Trends in International Mathematics and Science Study'], ['Trends in International Mathematics and Science Study'], ['Trends in International Mathematics and Science Study'], ['Trends in International Mathematics and Science Study'], ['Trends in International Mathematics and Science Study', 'Trends in International Mathematics and Science Study', 'Trends in International Mathematics Progress Science Study', 'Trends in International Mathematics'], ['Trends in International Mathematics and Science Study'], ['Trends in International Mathematics and Science Study'], ['Trends in International Mathematics and Science Study'], [], ['Trends in International Mathematics and Science Study', 'Trends in Study Mathematics and Science Study'], [], [], [], ['Education Longitudinal Study Study', 'National Longitudinal Study Study', 'Education Longitudinal Longitudinal Study', 'Education Longitudinal Study Study', 'Early Longitudinal Study Study'], ['Education Longitudinal Longitudinal Study', 'Education Longitudinal Study Study', 'Education Childhood Longitudinal Study'], [], [], [], [], [], [], ['Coastal Change Analysis Program', 'Coastal Change Analysis', 'Coastal'], [], [], ['ADNI'], ['ADNI', 'Coastal', 'World'], ['Coastal Change Analysis Program', 'Coastal Change Analysis', 'Coastal Change Analysis Surface'], ['Coastal Change Analysis Program', 'Coastal Change Analysis', 'Coastal'], ['Coastal Change Disease Neuroimaging Initiative ADNI', 'Coastal Change Disease Neuroimaging', 'Coastal Change Disease'], [], ['Coastal Change Analysis'], ['Coastal Change Analysis'], ['Coastal'], ['Coastal'], ['Coastal Change Analysis Program', 'Coastal Change Analysis', 'Coastal'], ['Coastal Change Analysis', 'Coastal Change Analysis Program', 'Coastal'], ['Coastal Change Analysis Program', 'Coastal Change Analysis', 'Coastal'], ['Coastal Change Analysis Program', 'Coastal Change Analysis', 'Coastal'], [], ['Coastal Change Analysis Program', 'Coastal Change Analysis', 'Coastal'], ['Coastal Change Analysis', 'Coastal Change Management', 'Coastal'], ['World Ocean Database', 'World', 'Coastal'], ['World Ocean Database', 'World', 'Coastal'], ['Education Longitudinal Study Study', 'Education Longitudinal Study', 'Education Longitudinal Longitudinal'], ['Education Longitudinal Study Study', 'Education Longitudinal Study', 'Education Longitudinal Longitudinal'], ['Survey'], ['Baccalaureate Longitudinal Study', 'Education Longitudinal Study'], ['Baccalaureate Longitudinal Study', 'Education Longitudinal Study'], ['Baccalaureate Longitudinal Study Study', 'Baccalaureate Longitudinal Study', 'Early Longitudinal Longitudinal Study', 'Early Longitudinal Longitudinal'], ['Baccalaureate Longitudinal Study Study', 'Baccalaureate Longitudinal Study', 'Early Longitudinal Longitudinal Study', 'Early Longitudinal Longitudinal'], ['Survey'], ['Survey of Earned Doctorates', 'Survey of Earned of', 'Survey'], ['Survey of Earned Doctorates', 'Survey of Earned of', 'Survey'], ['Survey'], ['Survey of Earned Doctorates', 'Survey of Earned of', 'Survey'], ['Survey of Earned Doctorates', 'Survey of Earned of', 'Survey'], ['Survey of Earned Doctorates', 'Survey of Earned of', 'Survey'], ['Survey of Earned Doctorates', 'Survey of Earned of', 'Survey'], ['Survey of Earned Doctorates', 'Survey of Earned of', 'Survey'], [], ['Survey', 'Survey of Earned Doctorates', 'Survey of Earned of', 'Survey'], ['Survey', 'Survey of Earned Doctorates', 'Survey of Earned of', 'Survey'], ['Survey', 'Survey of Earned Doctorates', 'Survey of Earned of', 'Survey'], ['Survey'], ['Survey of Earned of', 'Survey of Earned Doctorates', 'Survey'], ['Survey of of of', 'Survey of Earned of', 'Survey'], ['Survey of of of', 'Survey of Earned of', 'Survey'], ['Survey of Earned Doctorates'], ['Survey of of of'], ['Survey of of of'], ['Survey of of of'], ['Survey of Earned Doctorates', 'Survey of Earned of', 'Survey'], ['Survey'], ['Survey'], ['Survey of Earned of', 'Survey of Earned Doctorates', 'Survey', 'Survey of Earned Doctorates', 'Survey of Earned of', 'Survey of of Doctorates', 'Survey of Earned of', 'Survey of Earned Doctorates', 'Survey of Earned Survey'], ['Survey of Earned of', 'Survey of Earned Doctorates', 'Survey', 'Survey of Earned Doctorates', 'Survey of Earned of', 'Survey of of Doctorates', 'Survey of Earned of', 'Survey of Earned Doctorates', 'Survey of Earned Survey'], ['Survey of Earned of', 'Survey of Earned Doctorates', 'Survey', 'Survey of Earned Doctorates', 'Survey of Earned of', 'Survey of of Doctorates', 'Survey of Earned of', 'Survey of Earned Doctorates', 'Survey of Earned Survey'], ['Survey of Earned Survey', 'Survey'], ['Survey of Earned Survey', 'Survey'], ['Survey of Earned Doctorates', 'Survey of Earned of', 'Survey'], ['Survey of Earned Doctorates', 'Survey of Earned of', 'Survey'], ['Survey'], ['Survey of Earned Doctorates'], ['Survey of of of', 'Survey of Earned of', 'Survey'], ['Survey of of of', 'Survey'], ['Survey of of of', 'Survey'], ['Education Longitudinal Study Study', 'Education Longitudinal Study', 'National Longitudinal Study'], ['Education Longitudinal Study Study', 'Education Longitudinal Study', 'National Longitudinal Study'], ['Education Longitudinal Study Study', 'Education Longitudinal Study', 'National Longitudinal Study'], ['Education Longitudinal Study Study', 'Education Longitudinal Study', 'National Longitudinal Study'], ['Survey of Earned Doctorates', 'Survey of Earned of', 'Survey'], ['Survey of Earned Doctorates', 'Survey of Earned of', 'Survey of Earned Survey'], [], ['Survey of Earned Doctorates', 'Survey', 'Trends in International Mathematics and Science Study', 'Trends in International Mathematics and Science', 'Trends in International Mathematics'], [], ['Survey of Earned Doctorates', 'Survey of Earned Survey', 'Survey'], ['Survey'], ['Survey'], ['Survey of Earned Doctorates', 'Survey of Earned of', 'Survey of of Doctorates'], [], [], ['Trends in International Mathematics and Science Study', 'Trends in International Mathematics and Science', 'Trends in International Mathematics'], ['Survey'], ['Survey of of of', 'Survey'], ['Survey of Earned Doctorates', 'Survey of Earned of', 'Survey'], ['Survey of of of', 'Survey'], ['Survey'], ['Survey of of of', 'Survey'], ['Survey of Earned of', 'Survey', 'ADNI', 'Common'], ['Survey of Earned Doctorates', 'Survey of Earned of', 'Survey'], [], ['Survey'], ['Survey'], ['Survey'], ['Survey'], ['Survey'], [], ['Early Childhood Study Study', 'Early Childhood Study', 'Early Childhood Longitudinal', 'Common'], [], [], [], ['ADNI'], [], [], [], [], [], ['Agricultural Resource Management Survey', 'Agricultural Resource Management'], ['Agricultural Resource Management Survey', 'Agricultural Resource Management'], ['Agricultural Resource Management Survey', 'Agricultural Resource Management'], ['Agricultural Resource Management Survey', 'Agricultural Resource Management'], ['Agricultural Resource Management Survey', 'Agricultural Resource Management'], [], ['Baltimore Longitudinal Study Study', 'Baltimore Longitudinal Longitudinal Study', 'Education Longitudinal Study Study', 'Early Childhood Longitudinal Study', 'Early Childhood Study Study', 'Early Childhood Longitudinal'], [], [], [], ['World Ocean Database', 'World Ocean Study', 'World'], ['World Ocean Database', 'World'], ['World Ocean Database', 'World Ocean Database Database', 'World'], ['World', 'Beginning', 'World Ocean Database', 'World Ocean Database of', 'World'], [], [], ['World Ocean Database', 'World Ocean Database Surface', 'World'], ['World Ocean Database'], ['World Ocean Database', 'World Ocean Database of', 'World'], ['Education Longitudinal Longitudinal Study', 'Education Longitudinal Longitudinal', 'Education Longitudinal Study'], ['Education Longitudinal Longitudinal Study', 'Education Longitudinal Longitudinal', 'Education Longitudinal Study'], ['Early Childhood Longitudinal Study', 'Early Childhood Study Study', 'Early Childhood Longitudinal'], ['Early Childhood Longitudinal Study', 'Early Childhood Longitudinal Study Study', 'Early Childhood Longitudinal Longitudinal'], ['Early Childhood Longitudinal Study', 'Early Childhood Longitudinal', 'Early Childhood Study Study'], [], ['Early Childhood Longitudinal Study', 'Early Childhood Longitudinal', 'Early Childhood Study Study'], ['Early Childhood Study Study', 'Early Childhood Longitudinal Study', 'Early Childhood Study', 'Early Childhood Longitudinal Study', 'Early Childhood Study Study', 'Early Childhood Longitudinal'], ['Trends in International Mathematics and Science Study'], ['Agricultural Resource Management Survey', 'Agricultural Resource Management'], [], ['Agricultural Resource Management Survey', 'Agricultural Resource Management'], ['Agricultural Resource Management Survey', 'Agricultural Resource Management'], ['Agricultural Resource Management Survey', 'Agricultural Resource Management'], ['Agricultural Resource Management Survey', 'Agricultural Resource Management'], ['Agricultural Resource Management Survey', 'Agricultural Resource Management'], ['Agricultural Resource Management Survey', 'Agricultural Resource Management'], ['Agricultural Resource Management Survey', 'Agricultural Resource Management'], ['Agricultural Resource Management Survey', 'Agricultural Resource Management'], ['Agricultural Resource Management Survey', 'Agricultural Resource Management'], ['Agricultural Resource Management Survey', 'Agricultural Resource Management', 'Agricultural Resource Management Program'], ['Agricultural Resource Management Survey', 'Agricultural Resource Management'], ['Agricultural Resource Management Survey', 'Agricultural Resource Management Survey Survey', 'Agricultural Resource Management'], ['Agricultural Resource Management Survey', 'Agricultural Resource Management'], ['Agricultural Resource Management Survey', 'Agricultural Resource Management'], ['Agricultural Resource Management Survey', 'Agricultural Resource Management'], ['Agricultural Resource Management Survey', 'Agricultural Resource Management'], ['Agricultural Resource Management Survey', 'Agricultural Resource Management'], ['Agricultural Resource Management Survey', 'Agricultural Resource Management'], ['Agricultural Resource Management Survey', 'Agricultural Resource Management'], ['Agricultural Resource Management Survey', 'Agricultural Resource Management Survey Survey', 'Agricultural Resource Management'], ['Agricultural Resource Management Survey', 'Agricultural Resource Management'], [], ['Agricultural Resource Management Survey', 'Agricultural Resource Management'], ['Agricultural Resource Management Survey', 'Agricultural Resource Management Survey Survey', 'Agricultural Resource Management'], ['Agricultural Resource Management Survey', 'Agricultural Resource Management'], ['Agricultural Resource Management Survey', 'Agricultural Resource Management'], ['Agricultural Resource Management Survey', 'Agricultural Resource Management'], ['Agricultural Resource Management Survey', 'Agricultural Resource Management Survey Survey', 'Agricultural Resource Management'], ['Agricultural Resource Management Survey', 'Agricultural Resource Management'], ['Agricultural Resource Management Survey', 'Agricultural Resource Management', 'Agricultural Resource Management Program'], [], ['Agricultural Resource Management Survey', 'Agricultural Resource Management'], ['Agricultural Resource Management Survey', 'Agricultural Resource Management'], ['Agricultural Resource Management Survey', 'Agricultural Resource Management', 'Agricultural Resource Management Program'], ['Agricultural Resource Management Survey', 'Agricultural Resource Management'], ['Agricultural Resource Management Survey', 'Agricultural Resource Management'], ['Agricultural Resource Management Survey', 'Agricultural Resource Management'], ['Agricultural Resource Management Survey', 'Agricultural Resource Management'], ['Agricultural Resource Management Survey', 'Agricultural Resource Management'], ['Agricultural Resource Management Survey', 'Agricultural Resource Management'], [], ['Agricultural Resource Management Survey', 'Agricultural Resource Management'], ['Agricultural Resource Management Survey', 'Agricultural Resource Management', 'Agricultural Resource Management Program'], ['Agricultural Resource Management Survey', 'Agricultural Resource Management'], ['Agricultural Resource Management Survey', 'Agricultural Resource Management', 'Agricultural Resource Management Program'], ['Agricultural Resource Management Survey', 'Agricultural Resource Management'], ['Agricultural Resource Management Survey', 'Agricultural Resource Management Survey Survey', 'Agricultural Resource Management'], ['Agricultural Resource Management Survey', 'Agricultural Resource Management'], ['Agricultural Resource Management Survey', 'Agricultural Resource Management'], ['Agricultural Resource Management Survey', 'Agricultural Resource Management'], ['Agricultural Resource Management Survey', 'Agricultural Resource Management'], ['Agricultural Resource Management Survey', 'Agricultural Resource Management Survey Survey', 'Agricultural Resource Management'], ['Agricultural Resource Management Survey', 'Agricultural Resource Management'], ['Agricultural Resource Management Survey', 'Agricultural Resource Management'], [], ['Agricultural Resource Management Survey', 'Agricultural Resource Management', 'Agricultural Resource Management Program'], ['Agricultural Resource Management Survey', 'Agricultural Resource Management'], ['Agricultural Resource Management Survey', 'Agricultural Resource Management'], ['Agricultural Resource Management Survey', 'Agricultural Resource Management', 'Common'], ['Agricultural Resource Management Survey', 'Agricultural Resource Management Survey Survey'], ['Agricultural Resource Management Survey', 'Agricultural Resource Management'], ['Agricultural Resource Management Survey', 'Agricultural Resource Management', 'Agricultural Resource Management Survey', 'Agricultural Resource Management', 'Agricultural Resource Management Program', 'Agricultural Resource Management Survey', 'Agricultural Resource Management'], ['Agricultural Resource Management Survey', 'Agricultural Resource Management'], ['Agricultural Resource Management Survey', 'Agricultural Resource Management Mathematics', 'Agricultural Resource Management Survey', 'Agricultural Resource Management', 'Trends in International Mathematics and Science Study', 'Trends in International Mathematics'], ['Agricultural Resource Management Survey', 'Agricultural Resource Management', 'Agricultural Resource Management Program'], ['Agricultural Resource Management Survey', 'Agricultural Resource Management'], ['Agricultural Resource Management Survey', 'Agricultural Resource Management', 'Coastal Resource Management Survey'], ['Agricultural Resource Management Survey', 'Agricultural Resource Management'], ['Agricultural Resource Management Survey', 'Agricultural Resource Management'], [], [], ['Agricultural Resource Management Survey', 'Agricultural Resource Management'], ['Survey'], ['Early Childhood Longitudinal Study', 'Early Childhood Study Study', 'Early Childhood Longitudinal'], ['Trends in International Mathematics and Science Study'], ['Trends in International Mathematics and Science Study'], [], [], ['Baltimore Longitudinal Study of Aging', 'Baltimore Longitudinal Study of Aging BLSA', 'Baltimore'], ['Baltimore Longitudinal Study of Aging BLSA', 'Baltimore Longitudinal Study of Aging', 'Baltimore'], ['Baltimore Longitudinal Study of Aging', 'Baltimore Longitudinal Study of Aging BLSA', 'Baltimore'], ['Baltimore Longitudinal Study of Aging', 'Baltimore Longitudinal Study of Aging BLSA', 'Baltimore'], [], ['Early Childhood Longitudinal Study', 'Early Childhood Study Study', 'Early Childhood Longitudinal'], ['Education Longitudinal Longitudinal Study', 'Education Longitudinal Longitudinal', 'Education Longitudinal Study'], ['Education Longitudinal Longitudinal Study', 'Education Longitudinal Longitudinal', 'Education Longitudinal Study'], ['Early Childhood Longitudinal Study', 'Early Childhood Study Study', 'Early Childhood Longitudinal', 'Early Childhood Longitudinal Study', 'Early Childhood Study Study', 'Early Longitudinal Longitudinal Study', 'Early Childhood Longitudinal Study', 'Early Childhood Study Study', 'Early Longitudinal Longitudinal Study', 'Early Childhood Longitudinal Study', 'Early Childhood Study Study', 'Early Childhood Longitudinal'], ['Trends in International Mathematics and Science Study'], ['Trends in International Mathematics and Science Study'], [], [], ['Coastal', 'Program', 'IBTrACS'], ['Coastal', 'Program', 'IBTrACS'], [], ['Agricultural', 'Coastal'], [], [], [], [], [], [], ['Agricultural Resource Management Survey', 'Survey Resource Management Survey', 'Agricultural Resource Management'], ['Agricultural Resource Management Survey', 'Survey Resource Management Survey', 'Agricultural Resource Management'], [], [], ['Agricultural Resource Management Survey', 'Agricultural Resource Management'], ['Agricultural Resource Management Survey', 'Agricultural Resource Management'], [], [], [], ['Early Longitudinal Study of', 'Early Childhood Study of'], [], [], ['Agricultural', 'Coastal'], [], [], [], ['National'], [], [], ['Agricultural'], ['Agricultural'], [], [], [], ['Agricultural Resource Management Survey'], [], ['Agricultural Resource Management Survey'], [], ['Agricultural Resource Management Survey', 'Survey Resource Management Survey', 'Agricultural Resource Management'], ['Agricultural Resource Management Survey', 'Survey Resource Management Survey', 'Agricultural Resource Management'], [], ['Agricultural Resource Management Survey', 'Agricultural Resource Management Survey Survey', 'Agricultural Resource Management'], ['Agricultural Resource Management Survey', 'Agricultural Resource Management', 'Agricultural Resource Management Survey', 'Agricultural Resource Management', 'Coastal Resource Management'], ['Agricultural Resource Management Survey', 'Agricultural Resource Management', 'Agricultural Resource Management Survey', 'Agricultural Resource Management', 'Coastal Resource Management'], [], ['Agricultural Resource Management Survey', 'Survey Resource Management Survey', 'Agricultural Resource Management'], ['Survey', 'Common'], ['Agricultural Resource Management Survey'], [], ['Agricultural Resource Management Survey', 'Agricultural Resource Management', 'Agricultural', 'Coastal'], ['Agricultural Resource Management Survey', 'Agricultural Resource Management', 'Agricultural', 'Coastal'], [], [], [], ['Survey', 'Common'], ['Survey', 'Common'], ['Agricultural Resource Management Survey', 'Survey Resource Management Survey', 'Agricultural Resource Management'], ['Agricultural Resource Management Survey', 'Agricultural Resource Management'], [], [], [], ['Agricultural Resource Management Survey', 'Agricultural Resource Management'], ['Agricultural Resource Management Survey', 'Agricultural Resource Management'], ['Agricultural Resource Management Survey'], ['Agricultural Resource Management Survey', 'Agricultural Resource Analysis Survey', 'Agricultural Resource Management'], ['Coastal Change Analysis', 'Coastal'], [], ['Survey', 'Common'], ['Agricultural Resource Management Survey', 'Agricultural Resource Management'], ['Agricultural Resource Management Survey'], [], ['ADNI', 'Alzheimer', 'Common', 'Coastal'], [], ['World Ocean Database', 'World'], [], [], [], ['Survey', 'Common'], [], [], ['Coastal'], ['Agricultural Resource Management Survey', 'Agricultural Resource Analysis Survey', 'Agricultural Resource Management'], ['Agricultural Resource Management Survey', 'Agricultural Resource Analysis Survey', 'Agricultural Resource Management'], ['Agricultural'], [], ['Coastal', 'Alzheimer', 'ADNI'], ['Coastal', 'Alzheimer', 'ADNI'], ['Alzheimer', 'National', 'ADNI'], ['Alzheimer', 'National', 'ADNI'], ['Coastal', 'Agricultural', 'Survey'], ['Coastal', 'Agricultural', 'Survey'], ['Coastal', 'Survey', 'Agricultural'], ['Coastal', 'Survey', 'Agricultural'], [], [], ['Coastal', 'National', 'Alzheimer'], ['Coastal', 'National', 'Alzheimer'], ['World', 'Coastal'], ['World', 'Coastal'], ['Alzheimer', 'National'], ['Alzheimer', 'National'], ['Coastal', 'Alzheimer', 'ADNI'], ['Coastal', 'Alzheimer', 'ADNI'], ['Alzheimer', 'ADNI', 'Coastal'], ['Alzheimer', 'ADNI', 'Coastal'], ['Coastal', 'World', 'ADNI', 'Alzheimer', 'Coastal'], ['Coastal', 'World', 'ADNI', 'Alzheimer', 'Coastal'], ['Coastal', 'Alzheimer', 'World'], ['Coastal', 'Alzheimer', 'World'], ['Coastal', 'Survey', 'Agricultural'], ['Coastal', 'Survey', 'Agricultural'], ['Coastal', 'Alzheimer', 'Agricultural', 'World', 'Coastal', 'Coastal'], ['Coastal', 'Alzheimer', 'Agricultural', 'World', 'Coastal', 'Coastal'], ['Coastal', 'World', 'Alzheimer'], ['Coastal', 'World', 'Alzheimer'], ['Coastal', 'Survey'], ['Coastal', 'Survey'], ['Coastal'], ['Coastal'], ['Coastal'], ['Coastal', 'ADNI', 'Alzheimer'], ['Coastal', 'ADNI', 'Alzheimer'], ['Coastal'], ['Coastal'], ['Coastal', 'Program'], ['Coastal', 'Program'], ['Coastal', 'ADNI', 'Alzheimer', 'Coastal', 'Alzheimer', 'World'], ['Coastal', 'ADNI', 'Alzheimer', 'Coastal', 'Alzheimer', 'World'], ['Coastal', 'National', 'Agricultural'], ['Coastal', 'National', 'Agricultural'], ['World', 'Coastal', 'Alzheimer', 'Coastal'], ['World', 'Coastal', 'Alzheimer', 'Coastal'], ['National', 'World', 'Alzheimer'], ['National', 'World', 'Alzheimer'], [], [], ['Alzheimer', 'ADNI', 'Coastal', 'Alzheimer', 'ADNI', 'Coastal'], ['Alzheimer', 'ADNI', 'Coastal', 'Alzheimer', 'ADNI', 'Coastal'], ['ADNI', 'Alzheimer', 'Coastal', 'Coastal', 'ADNI', 'Alzheimer'], ['ADNI', 'Alzheimer', 'Coastal', 'Coastal', 'ADNI', 'Alzheimer'], ['National', 'Alzheimer', 'Survey'], ['National', 'Alzheimer', 'Survey'], [], [], ['ADNI', 'Alzheimer'], ['ADNI', 'Alzheimer'], ['World'], ['World'], ['Coastal', 'ADNI', 'National'], ['Alzheimer', 'ADNI', 'Coastal'], ['Coastal', 'ADNI', 'National'], ['Alzheimer', 'ADNI', 'Coastal'], ['Agricultural Resource Management Survey', 'Agricultural Resource Management'], [], [], [], [], [], ['Agricultural'], [], [], ['ADNI', 'Alzheimer'], [], [], [], [], ['ADNI', 'Alzheimer'], [], [], [], [], ['ADNI', 'Alzheimer'], [], [], ['ADNI', 'Alzheimer'], [], [], [], ['ADNI', 'Alzheimer', 'Baltimore'], [], [], ['ADNI s Disease Neuroimaging Initiative ADNI', 'ADNI', 'Alzheimer'], [], [], ['ADNI s Disease Neuroimaging Initiative ADNI', 'ADNI', 'Alzheimer'], [], ['ADNI'], [], [], ['ADNI', 'Alzheimer'], [], [], ['ADNI', 'Alzheimer', 'Baltimore'], ['ADNI s Disease Neuroimaging Initiative ADNI', 'ADNI', 'Alzheimer'], [], ['ADNI', 'Alzheimer'], ['ADNI', 'ADNI s Disease Neuroimaging Initiative ADNI', 'Alzheimer'], [], [], [], ['ADNI s Disease Neuroimaging Initiative ADNI', 'ADNI', 'Alzheimer'], ['ADNI Longitudinal Disease Neuroimaging Initiative ADNI', 'ADNI s Disease Neuroimaging Initiative ADNI', 'ADNI'], ['ADNI Longitudinal Disease Neuroimaging Initiative ADNI', 'ADNI', 'Alzheimer'], [], ['ADNI', 'Alzheimer'], [], [], [], [], [], [], [], [], [], [], ['Alzheimer', 'ADNI', 'Baltimore', 'Alzheimer', 'ADNI', 'World'], ['ADNI', 'Alzheimer', 'Coastal'], ['ADNI', 'ADNI s Disease Neuroimaging Initiative ADNI', 'Alzheimer'], [], ['ADNI', 'Alzheimer', 'World'], ['ADNI', 'Coastal', 'Alzheimer'], [], [], [], ['ADNI', 'Alzheimer', 'Baltimore'], ['ADNI Longitudinal Disease Neuroimaging Initiative ADNI', 'ADNI', 'Alzheimer'], [], [], [], [], [], [], ['ADNI s Disease Neuroimaging Initiative ADNI', 'ADNI', 'Alzheimer']]\n"
          ],
          "name": "stdout"
        }
      ]
    },
    {
      "cell_type": "code",
      "metadata": {
        "id": "2MKzTbcTxIHn"
      },
      "source": [
        "Checking Classifer Accuracy"
      ],
      "execution_count": null,
      "outputs": []
    },
    {
      "cell_type": "code",
      "metadata": {
        "colab": {
          "base_uri": "https://localhost:8080/"
        },
        "id": "7R1TypYqk36R",
        "outputId": "dbeb7478-0b3e-4a5b-b00e-3c7314b3163f"
      },
      "source": [
        "score = 0\n",
        "count = 0\n",
        "for i in range(2600, 3284):\n",
        "  for j in range(len(chunked_text[i])):\n",
        "    if predict_beam(model, chunked_text[i][j]) == bool(chunk_labels[i][j]):\n",
        "      score += 1\n",
        "    count += 1\n",
        "print(score/count)\n"
      ],
      "execution_count": 154,
      "outputs": [
        {
          "output_type": "stream",
          "text": [
            "0.40730717185385656\n"
          ],
          "name": "stdout"
        }
      ]
    },
    {
      "cell_type": "code",
      "metadata": {
        "id": "OlNoq1WOlVsI"
      },
      "source": [
        "print"
      ],
      "execution_count": null,
      "outputs": []
    },
    {
      "cell_type": "code",
      "metadata": {
        "id": "I8syivdHxGKr"
      },
      "source": [
        "testing = {}\n",
        "for i in range(0, len(predictions)):\n",
        "  if publication_ids[2600+i] not in testing.keys():\n",
        "    pred = predictions[i]\n",
        "    \n",
        "      \n",
        "    testing[publication_ids[2600+i]] = (pred, [df.loc[2600+i][5]])\n",
        "  else:\n",
        "    testing[publication_ids[2600+i]][1].append(df.loc[2600+i][5])"
      ],
      "execution_count": 146,
      "outputs": []
    },
    {
      "cell_type": "code",
      "metadata": {
        "id": "J8X6qwXgxJWJ"
      },
      "source": [
        "tp = 0\n",
        "fp = 0\n",
        "fn = 0\n",
        "for i in testing.values():\n",
        "  prediction = i[0]\n",
        "  cop = prediction.copy()\n",
        "  true_pred = i[1].copy()\n",
        "  check = False\n",
        "  #check exact match first\n",
        "  for j in prediction:\n",
        "    if j in true_pred:\n",
        "      tp += 1\n",
        "      true_pred.remove(j)\n",
        "      cop.remove(j)\n",
        "  #then check rest for jaccard score\n",
        "  for j in cop:\n",
        "    found = False\n",
        "    removal = 0\n",
        "    for k in true_pred:\n",
        "      if jaccard(j, k) >= 0.5:\n",
        "        found = True\n",
        "        removal = k\n",
        "        break\n",
        "    if found:\n",
        "      tp += 1\n",
        "      true_pred.remove(removal)\n",
        "    else:\n",
        "      fp += 1\n",
        "  fn += len(true_pred)"
      ],
      "execution_count": 147,
      "outputs": []
    },
    {
      "cell_type": "markdown",
      "metadata": {
        "id": "RYafypzab2HH"
      },
      "source": [
        "Testing Performance"
      ]
    },
    {
      "cell_type": "code",
      "metadata": {
        "colab": {
          "base_uri": "https://localhost:8080/"
        },
        "id": "BDb1o6daxWVE",
        "outputId": "a7a885e2-96f7-48d9-f8c4-ced091d70870"
      },
      "source": [
        "print(\"testing performance\")\n",
        "print(\"micro F score\")\n",
        "print(fp)\n",
        "print(fn)\n",
        "print(tp/(tp + 1/2*(fp+fn)))\n",
        "print(\"accuracy\")\n",
        "print(tp/(tp+fn))"
      ],
      "execution_count": 148,
      "outputs": [
        {
          "output_type": "stream",
          "text": [
            "testing performance\n",
            "micro F score\n",
            "651\n",
            "439\n",
            "0.310126582278481\n",
            "accuracy\n",
            "0.358187134502924\n"
          ],
          "name": "stdout"
        }
      ]
    },
    {
      "cell_type": "markdown",
      "metadata": {
        "id": "ijFD8oqeb1Ne"
      },
      "source": [
        "\n",
        "Testing on other data that doesn't include exact label in text"
      ]
    },
    {
      "cell_type": "code",
      "metadata": {
        "id": "erdO_KkKb0fo"
      },
      "source": [
        "data = pd.read_csv(\"data_false.csv\")\n",
        "data = data[data.text.notnull()].reset_index()"
      ],
      "execution_count": null,
      "outputs": []
    },
    {
      "cell_type": "code",
      "metadata": {
        "colab": {
          "base_uri": "https://localhost:8080/",
          "height": 363
        },
        "id": "Q_2WLEAHcUsk",
        "outputId": "106623ce-eca1-4cb9-a054-4a1bea111cc6"
      },
      "source": [
        "data.head()"
      ],
      "execution_count": null,
      "outputs": [
        {
          "output_type": "execute_result",
          "data": {
            "text/html": [
              "<div>\n",
              "<style scoped>\n",
              "    .dataframe tbody tr th:only-of-type {\n",
              "        vertical-align: middle;\n",
              "    }\n",
              "\n",
              "    .dataframe tbody tr th {\n",
              "        vertical-align: top;\n",
              "    }\n",
              "\n",
              "    .dataframe thead th {\n",
              "        text-align: right;\n",
              "    }\n",
              "</style>\n",
              "<table border=\"1\" class=\"dataframe\">\n",
              "  <thead>\n",
              "    <tr style=\"text-align: right;\">\n",
              "      <th></th>\n",
              "      <th>index</th>\n",
              "      <th>Unnamed: 0</th>\n",
              "      <th>Id</th>\n",
              "      <th>pub_title</th>\n",
              "      <th>dataset_title</th>\n",
              "      <th>dataset_label</th>\n",
              "      <th>cleaned_label</th>\n",
              "      <th>text</th>\n",
              "      <th>mask</th>\n",
              "    </tr>\n",
              "  </thead>\n",
              "  <tbody>\n",
              "    <tr>\n",
              "      <th>0</th>\n",
              "      <td>3</td>\n",
              "      <td>3</td>\n",
              "      <td>5c9a3bc9-41ba-4574-ad71-e25c1442c8af</td>\n",
              "      <td>Stepping Stone and Option Value in a Model of ...</td>\n",
              "      <td>National Education Longitudinal Study</td>\n",
              "      <td>National Education Longitudinal Study</td>\n",
              "      <td>national education longitudinal study</td>\n",
              "      <td>Federal Reserve Bank of Richmond S1. Accounti...</td>\n",
              "      <td>False</td>\n",
              "    </tr>\n",
              "    <tr>\n",
              "      <th>1</th>\n",
              "      <td>4</td>\n",
              "      <td>7</td>\n",
              "      <td>1b21f60a-4022-4b19-95ce-6fd7157d4aa9</td>\n",
              "      <td>Examining Latinos Involvement in the Workforce...</td>\n",
              "      <td>National Education Longitudinal Study</td>\n",
              "      <td>National Education Longitudinal Study</td>\n",
              "      <td>national education longitudinal study</td>\n",
              "      <td>In this article, the authors report the resul...</td>\n",
              "      <td>False</td>\n",
              "    </tr>\n",
              "    <tr>\n",
              "      <th>2</th>\n",
              "      <td>8</td>\n",
              "      <td>14</td>\n",
              "      <td>7a2d20d9-fe83-4d24-b4ce-992f92f21bd2</td>\n",
              "      <td>Immigrant educators and students’ academic ach...</td>\n",
              "      <td>National Education Longitudinal Study</td>\n",
              "      <td>National Education Longitudinal Study</td>\n",
              "      <td>national education longitudinal study</td>\n",
              "      <td>ABSTRACT\\nUsing a dataset which allows studen...</td>\n",
              "      <td>False</td>\n",
              "    </tr>\n",
              "    <tr>\n",
              "      <th>3</th>\n",
              "      <td>9</td>\n",
              "      <td>16</td>\n",
              "      <td>a8c7306f-908c-4d44-92b1-2afb2e066808</td>\n",
              "      <td>Demographic Differences in Patterns of Youth O...</td>\n",
              "      <td>National Education Longitudinal Study</td>\n",
              "      <td>National Education Longitudinal Study</td>\n",
              "      <td>national education longitudinal study</td>\n",
              "      <td>Abstract: Participation in structured out-of-...</td>\n",
              "      <td>False</td>\n",
              "    </tr>\n",
              "    <tr>\n",
              "      <th>4</th>\n",
              "      <td>13</td>\n",
              "      <td>21</td>\n",
              "      <td>0ebdaf88-543a-4d88-9185-a24f8dc1e4cf</td>\n",
              "      <td>Grade Inflation</td>\n",
              "      <td>National Education Longitudinal Study</td>\n",
              "      <td>National Education Longitudinal Study</td>\n",
              "      <td>national education longitudinal study</td>\n",
              "      <td>Although much speculation has been devoted to...</td>\n",
              "      <td>False</td>\n",
              "    </tr>\n",
              "  </tbody>\n",
              "</table>\n",
              "</div>"
            ],
            "text/plain": [
              "   index  Unnamed: 0  ...                                               text   mask\n",
              "0      3           3  ...   Federal Reserve Bank of Richmond S1. Accounti...  False\n",
              "1      4           7  ...   In this article, the authors report the resul...  False\n",
              "2      8          14  ...   ABSTRACT\\nUsing a dataset which allows studen...  False\n",
              "3      9          16  ...   Abstract: Participation in structured out-of-...  False\n",
              "4     13          21  ...   Although much speculation has been devoted to...  False\n",
              "\n",
              "[5 rows x 9 columns]"
            ]
          },
          "metadata": {
            "tags": []
          },
          "execution_count": 28
        }
      ]
    },
    {
      "cell_type": "code",
      "metadata": {
        "colab": {
          "base_uri": "https://localhost:8080/",
          "height": 119
        },
        "id": "bqlkhw3_dUZ1",
        "outputId": "2a4dc4a6-519d-425f-9441-f112feba2c4b"
      },
      "source": [
        ""
      ],
      "execution_count": null,
      "outputs": [
        {
          "output_type": "execute_result",
          "data": {
            "application/vnd.google.colaboratory.intrinsic+json": {
              "type": "string"
            },
            "text/plain": [
              "\" In this article, the authors report the results of two studies examining the participation rates of Latino students in postsecondary technical education (CTE) programs in community colleges and two-year proprietary institutions in the United States in 1994 and 2000. It is believed that the quality of the future U.S. Labor market will depend, to a great extent, on this group's education and job skills. Although Latinos are the fastest growing minority group in the United States, they are also the poorest and most undereducated when compared to other minority groups. Results of both studies show that few Latino students enroll in and graduate from postsecondary CTE programs. Of those students that do enroll in and complete CTE programs at the postsecondary level, very few complete programs that are considered high-skill, high-wage.\""
            ]
          },
          "metadata": {
            "tags": []
          },
          "execution_count": 31
        }
      ]
    },
    {
      "cell_type": "code",
      "metadata": {
        "id": "FEKlmelgb9O_"
      },
      "source": [
        "sent_emb = []\n",
        "for j in range(4000):\n",
        "  x = sent_sep(data.loc[j][7])\n",
        "  y = list(x.sents)\n",
        "  z = []\n",
        "  for i in y:\n",
        "    z.append(i.text)\n",
        "  y = sent.encode(z)\n",
        "  sent_emb.append(y)"
      ],
      "execution_count": null,
      "outputs": []
    },
    {
      "cell_type": "code",
      "metadata": {
        "id": "AcxeoKl-cRhm"
      },
      "source": [
        "labels = []\n",
        "for j in range(0, 4000):\n",
        "  labels.append(data.loc[j][6])"
      ],
      "execution_count": null,
      "outputs": []
    },
    {
      "cell_type": "code",
      "metadata": {
        "id": "CLTqkfrYdCJ8"
      },
      "source": [
        "score = 0\n",
        "for i in range(len(sent_emb)):\n",
        "  predictions = predict_beam(baseline_model, sent_emb[i])\n",
        "  for j in predictions:\n",
        "    if jaccard(labels[i], j) > 0.5:\n",
        "      score += 1\n",
        "      break"
      ],
      "execution_count": null,
      "outputs": []
    },
    {
      "cell_type": "code",
      "metadata": {
        "colab": {
          "base_uri": "https://localhost:8080/"
        },
        "id": "vbrsHMKWertz",
        "outputId": "6f371b54-d670-463b-d3e3-1a7ff6729195"
      },
      "source": [
        "print(score/len(sent_emb))"
      ],
      "execution_count": null,
      "outputs": [
        {
          "output_type": "stream",
          "text": [
            "0.837\n"
          ],
          "name": "stdout"
        }
      ]
    },
    {
      "cell_type": "code",
      "metadata": {
        "id": "2H8b8hLQnnXt"
      },
      "source": [
        "testing = {}\n",
        "for i in range(0, len(sent_emb)):\n",
        "  if np.sum(sent_emb[i]) not in testing.keys():\n",
        "    predictions = predict_beam(baseline_model, sent_emb[i], thresh=-2.5)\n",
        "    testing[np.sum(sent_emb[i])] = (predictions, [labels[i]])\n",
        "  else:\n",
        "    testing[np.sum(sent_emb[i])][1].append(labels[i])"
      ],
      "execution_count": null,
      "outputs": []
    },
    {
      "cell_type": "code",
      "metadata": {
        "id": "Y1A66xhtns8q"
      },
      "source": [
        "tp = 0\n",
        "fp = 0\n",
        "fn = 0\n",
        "for i in testing.values():\n",
        "  prediction = i[0]\n",
        "  cop = prediction.copy()\n",
        "  true_pred = i[1].copy()\n",
        "  check = False\n",
        "  #check exact match first\n",
        "  for j in prediction:\n",
        "    if j in true_pred:\n",
        "      tp += 1\n",
        "      true_pred.remove(j)\n",
        "      cop.remove(j)\n",
        "  #then check rest for jaccard score\n",
        "  for j in cop:\n",
        "    found = False\n",
        "    removal = 0\n",
        "    for k in true_pred:\n",
        "      if jaccard(j, k) >= 0.5:\n",
        "        found = True\n",
        "        removal = k\n",
        "        break\n",
        "    if found:\n",
        "      tp += 1\n",
        "      true_pred.remove(removal)\n",
        "    else:\n",
        "      fp += 1\n",
        "  fn += len(true_pred)"
      ],
      "execution_count": null,
      "outputs": []
    },
    {
      "cell_type": "code",
      "metadata": {
        "colab": {
          "base_uri": "https://localhost:8080/"
        },
        "id": "DedqlSK8nyY3",
        "outputId": "ee698a2e-24b7-4ef2-f3c1-fa45d3a660c8"
      },
      "source": [
        "\n",
        "\n",
        "print(\"micro F score\")\n",
        "print(fp)\n",
        "print(fn)\n",
        "print(tp/(tp + 1/2*(fp+fn)))\n",
        "print(\"accuracy\")\n",
        "print(tp/(tp+fn))"
      ],
      "execution_count": null,
      "outputs": [
        {
          "output_type": "stream",
          "text": [
            "micro F score\n",
            "3328\n",
            "1140\n",
            "0.5614448370632116\n",
            "accuracy\n",
            "0.715\n"
          ],
          "name": "stdout"
        }
      ]
    }
  ]
}